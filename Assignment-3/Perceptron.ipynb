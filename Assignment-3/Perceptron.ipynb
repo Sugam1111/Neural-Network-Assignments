{
 "cells": [
  {
   "cell_type": "markdown",
   "metadata": {},
   "source": [
    "# Perceptron\n",
    "\n"
   ]
  },
  {
   "cell_type": "code",
   "execution_count": 1,
   "metadata": {},
   "outputs": [
    {
     "data": {
      "text/plain": [
       "{'divide': 'warn', 'over': 'warn', 'under': 'ignore', 'invalid': 'warn'}"
      ]
     },
     "execution_count": 1,
     "metadata": {},
     "output_type": "execute_result"
    }
   ],
   "source": [
    "import numpy as np\n",
    "import matplotlib.pyplot as plt\n",
    "import pandas as pd\n",
    "np.seterr('ignore')"
   ]
  },
  {
   "cell_type": "code",
   "execution_count": 2,
   "metadata": {},
   "outputs": [],
   "source": [
    "from MultiLayerPerceptron import MultiLayerPerceptron"
   ]
  },
  {
   "cell_type": "markdown",
   "metadata": {},
   "source": [
    "# Important Functions"
   ]
  },
  {
   "cell_type": "code",
   "execution_count": 3,
   "metadata": {},
   "outputs": [],
   "source": [
    "def plot_loss(epoch_his, train_loss_his, test_loss_his):\n",
    "    train_line, = plt.plot(epoch_his,train_loss_his,label = 'train')\n",
    "    test_line, = plt.plot(epoch_his,test_loss_his,label = 'test')\n",
    "    plt.xlabel('EPOCHS')\n",
    "    plt.ylabel('Loss')\n",
    "    plt.legend([train_line, test_line] , ['train','test'])\n",
    "    plt.show()"
   ]
  },
  {
   "cell_type": "code",
   "execution_count": 4,
   "metadata": {},
   "outputs": [],
   "source": [
    "def plot_accuracy(epoch_his, train_acc_his, test_acc_his):\n",
    "    train_line, = plt.plot(epoch_his,train_acc_his,label = 'train')\n",
    "    test_line, = plt.plot(epoch_his,test_acc_his,label = 'test')\n",
    "    plt.xlabel('EPOCHS')\n",
    "    plt.ylabel('Accuracy')\n",
    "    plt.legend([train_line, test_line] , ['train','test'])\n",
    "    plt.show()"
   ]
  },
  {
   "cell_type": "markdown",
   "metadata": {},
   "source": [
    "# Perceptron Network"
   ]
  },
  {
   "cell_type": "code",
   "execution_count": 5,
   "metadata": {},
   "outputs": [],
   "source": [
    "# Here I am building a normal forward propogation for a perceptron layer\n",
    "# and the various function i would use."
   ]
  },
  {
   "cell_type": "code",
   "execution_count": 6,
   "metadata": {},
   "outputs": [],
   "source": [
    "#############################################\n",
    "## Declaring Training Data        ############\n",
    "#############################################\n",
    "X_train = np.array([[0,0],[1,0],[0,1],[1,1]])\n",
    "Y_train = np.array([[1],[0],[0],[0]])"
   ]
  },
  {
   "cell_type": "code",
   "execution_count": 7,
   "metadata": {},
   "outputs": [
    {
     "name": "stdout",
     "output_type": "stream",
     "text": [
      "(2, 1) (1,)\n",
      "<function sigmoid at 0x7fb0ed010bf8>\n"
     ]
    }
   ],
   "source": [
    "# Declare a neuron with shape of weights as [shape_of_input,1]\n",
    "model = MultiLayerPerceptron([2,1],['sigmoid'])\n",
    "# print(model.layers[1].W)\n",
    "# print(model.layers[1].b)"
   ]
  },
  {
   "cell_type": "code",
   "execution_count": 8,
   "metadata": {},
   "outputs": [],
   "source": [
    "# testing the model outputs\n",
    "pred , _ = model.forward(X_train)\n",
    "# print(np.sum((pred > 0.5)== Y_train) / Y_train.shape[0])\n",
    "# accuracy(model , X_train,Y_train)\n",
    "# X_train[0]"
   ]
  },
  {
   "cell_type": "code",
   "execution_count": 9,
   "metadata": {},
   "outputs": [
    {
     "name": "stdout",
     "output_type": "stream",
     "text": [
      "The loss is [0.22125216]\n",
      "And the error to be back propogated is:\n",
      " [[-0.125     ]\n",
      " [ 0.17070035]\n",
      " [ 0.16161755]\n",
      " [ 0.19935455]]\n"
     ]
    }
   ],
   "source": [
    "# Checking for testing purposes(BCE should be used here ideally)\n",
    "from Loss import mean_abs_error,mean_square_error\n",
    "loss,d_back = mean_square_error(pred,Y_train)\n",
    "print(\"The loss is {}\\nAnd the error to be back propogated is:\\n {}\".format(loss , d_back))"
   ]
  },
  {
   "cell_type": "code",
   "execution_count": 10,
   "metadata": {},
   "outputs": [
    {
     "name": "stdout",
     "output_type": "stream",
     "text": [
      "The loss is [1.11944334]\n",
      "And the error to be back propogated is:\n",
      " [[-0.5       ]\n",
      " [ 0.7881498 ]\n",
      " [ 0.70715397]\n",
      " [ 1.23406928]]\n"
     ]
    }
   ],
   "source": [
    "from Loss import binary_cross_entropy\n",
    "loss,d_back = binary_cross_entropy(pred,Y_train)\n",
    "print(\"The loss is {}\\nAnd the error to be back propogated is:\\n {}\".format(loss , d_back))"
   ]
  },
  {
   "cell_type": "code",
   "execution_count": 11,
   "metadata": {
    "scrolled": true
   },
   "outputs": [
    {
     "name": "stdout",
     "output_type": "stream",
     "text": [
      "(2, 3) (3,)\n",
      "<function sigmoid at 0x7fb0ed010bf8>\n",
      "(3, 1) (1,)\n",
      "<function sigmoid at 0x7fb0ed010bf8>\n",
      "0th EPOCH:\n",
      "Training Loss:[0.95095922]|Training Accuracy:0.25|Test Loss:[0.91170746]|Test Accuracy:0.25\n",
      "10th EPOCH:\n",
      "Training Loss:[0.68877658]|Training Accuracy:0.75|Test Loss:[0.67411036]|Test Accuracy:0.75\n",
      "20th EPOCH:\n",
      "Training Loss:[0.58957365]|Training Accuracy:0.75|Test Loss:[0.58381704]|Test Accuracy:0.75\n",
      "30th EPOCH:\n",
      "Training Loss:[0.54941919]|Training Accuracy:0.75|Test Loss:[0.54695917]|Test Accuracy:0.75\n",
      "40th EPOCH:\n",
      "Training Loss:[0.53155894]|Training Accuracy:0.75|Test Loss:[0.53038107]|Test Accuracy:0.75\n",
      "50th EPOCH:\n",
      "Training Loss:[0.52241937]|Training Accuracy:0.75|Test Loss:[0.52173991]|Test Accuracy:0.75\n",
      "60th EPOCH:\n",
      "Training Loss:[0.51656151]|Training Accuracy:0.75|Test Loss:[0.51605201]|Test Accuracy:0.75\n",
      "70th EPOCH:\n",
      "Training Loss:[0.51165688]|Training Accuracy:0.75|Test Loss:[0.5111725]|Test Accuracy:0.75\n",
      "80th EPOCH:\n",
      "Training Loss:[0.5066664]|Training Accuracy:0.75|Test Loss:[0.50614161]|Test Accuracy:0.75\n",
      "90th EPOCH:\n",
      "Training Loss:[0.50111919]|Training Accuracy:0.75|Test Loss:[0.50052441]|Test Accuracy:0.75\n",
      "100th EPOCH:\n",
      "Training Loss:[0.49480549]|Training Accuracy:0.75|Test Loss:[0.49412799]|Test Accuracy:0.75\n",
      "110th EPOCH:\n",
      "Training Loss:[0.48763924]|Training Accuracy:0.75|Test Loss:[0.48687441]|Test Accuracy:0.75\n",
      "120th EPOCH:\n",
      "Training Loss:[0.47959498]|Training Accuracy:0.75|Test Loss:[0.47874231]|Test Accuracy:0.75\n",
      "130th EPOCH:\n",
      "Training Loss:[0.47067908]|Training Accuracy:0.75|Test Loss:[0.46974041]|Test Accuracy:0.75\n",
      "140th EPOCH:\n",
      "Training Loss:[0.46091742]|Training Accuracy:0.75|Test Loss:[0.45989619]|Test Accuracy:0.75\n",
      "150th EPOCH:\n",
      "Training Loss:[0.45035067]|Training Accuracy:0.75|Test Loss:[0.44925168]|Test Accuracy:0.75\n",
      "160th EPOCH:\n",
      "Training Loss:[0.43903296]|Training Accuracy:0.75|Test Loss:[0.43786236]|Test Accuracy:0.75\n",
      "170th EPOCH:\n",
      "Training Loss:[0.4270316]|Training Accuracy:0.75|Test Loss:[0.42579683]|Test Accuracy:0.75\n",
      "180th EPOCH:\n",
      "Training Loss:[0.41442644]|Training Accuracy:0.75|Test Loss:[0.41313613]|Test Accuracy:0.75\n",
      "190th EPOCH:\n",
      "Training Loss:[0.40130846]|Training Accuracy:0.75|Test Loss:[0.39997224]|Test Accuracy:0.75\n",
      "200th EPOCH:\n",
      "Training Loss:[0.38777727]|Training Accuracy:0.75|Test Loss:[0.38640544]|Test Accuracy:0.75\n",
      "210th EPOCH:\n",
      "Training Loss:[0.37393782]|Training Accuracy:0.75|Test Loss:[0.37254102]|Test Accuracy:0.75\n",
      "220th EPOCH:\n",
      "Training Loss:[0.35989661]|Training Accuracy:0.75|Test Loss:[0.35848545]|Test Accuracy:0.75\n",
      "230th EPOCH:\n",
      "Training Loss:[0.345758]|Training Accuracy:0.75|Test Loss:[0.34434265]|Test Accuracy:0.75\n",
      "240th EPOCH:\n",
      "Training Loss:[0.33162082]|Training Accuracy:0.75|Test Loss:[0.33021076]|Test Accuracy:0.75\n",
      "250th EPOCH:\n",
      "Training Loss:[0.31757586]|Training Accuracy:0.75|Test Loss:[0.31617965]|Test Accuracy:0.75\n",
      "260th EPOCH:\n",
      "Training Loss:[0.30370414]|Training Accuracy:0.75|Test Loss:[0.3023293]|Test Accuracy:0.75\n",
      "270th EPOCH:\n",
      "Training Loss:[0.2900761]|Training Accuracy:0.75|Test Loss:[0.28872909]|Test Accuracy:0.75\n",
      "280th EPOCH:\n",
      "Training Loss:[0.2767515]|Training Accuracy:0.75|Test Loss:[0.27543772]|Test Accuracy:0.75\n",
      "290th EPOCH:\n",
      "Training Loss:[0.26377987]|Training Accuracy:0.75|Test Loss:[0.26250374]|Test Accuracy:0.75\n",
      "300th EPOCH:\n",
      "Training Loss:[0.25120128]|Training Accuracy:0.75|Test Loss:[0.24996631]|Test Accuracy:0.75\n",
      "310th EPOCH:\n",
      "Training Loss:[0.23904722]|Training Accuracy:0.75|Test Loss:[0.23785615]|Test Accuracy:0.75\n",
      "320th EPOCH:\n",
      "Training Loss:[0.22734163]|Training Accuracy:1.0|Test Loss:[0.22619645]|Test Accuracy:1.0\n",
      "330th EPOCH:\n",
      "Training Loss:[0.21610167]|Training Accuracy:1.0|Test Loss:[0.21500376]|Test Accuracy:1.0\n",
      "340th EPOCH:\n",
      "Training Loss:[0.2053386]|Training Accuracy:1.0|Test Loss:[0.2042888]|Test Accuracy:1.0\n",
      "350th EPOCH:\n",
      "Training Loss:[0.19505844]|Training Accuracy:1.0|Test Loss:[0.19405707]|Test Accuracy:1.0\n",
      "360th EPOCH:\n",
      "Training Loss:[0.18526256]|Training Accuracy:1.0|Test Loss:[0.18430953]|Test Accuracy:1.0\n",
      "370th EPOCH:\n",
      "Training Loss:[0.17594824]|Training Accuracy:1.0|Test Loss:[0.17504309]|Test Accuracy:1.0\n",
      "380th EPOCH:\n",
      "Training Loss:[0.16710922]|Training Accuracy:1.0|Test Loss:[0.16625113]|Test Accuracy:1.0\n",
      "390th EPOCH:\n",
      "Training Loss:[0.15873613]|Training Accuracy:1.0|Test Loss:[0.15792401]|Test Accuracy:1.0\n",
      "400th EPOCH:\n",
      "Training Loss:[0.15081698]|Training Accuracy:1.0|Test Loss:[0.1500495]|Test Accuracy:1.0\n",
      "410th EPOCH:\n",
      "Training Loss:[0.14333762]|Training Accuracy:1.0|Test Loss:[0.14261327]|Test Accuracy:1.0\n",
      "420th EPOCH:\n",
      "Training Loss:[0.13628218]|Training Accuracy:1.0|Test Loss:[0.1355993]|Test Accuracy:1.0\n",
      "430th EPOCH:\n",
      "Training Loss:[0.12963346]|Training Accuracy:1.0|Test Loss:[0.12899027]|Test Accuracy:1.0\n",
      "440th EPOCH:\n",
      "Training Loss:[0.12337335]|Training Accuracy:1.0|Test Loss:[0.122768]|Test Accuracy:1.0\n",
      "450th EPOCH:\n",
      "Training Loss:[0.11748314]|Training Accuracy:1.0|Test Loss:[0.11691373]|Test Accuracy:1.0\n",
      "460th EPOCH:\n",
      "Training Loss:[0.11194383]|Training Accuracy:1.0|Test Loss:[0.11140847]|Test Accuracy:1.0\n",
      "470th EPOCH:\n",
      "Training Loss:[0.10673644]|Training Accuracy:1.0|Test Loss:[0.10623323]|Test Accuracy:1.0\n",
      "480th EPOCH:\n",
      "Training Loss:[0.10184217]|Training Accuracy:1.0|Test Loss:[0.10136925]|Test Accuracy:1.0\n",
      "490th EPOCH:\n",
      "Training Loss:[0.09724264]|Training Accuracy:1.0|Test Loss:[0.0967982]|Test Accuracy:1.0\n",
      "500th EPOCH:\n",
      "Training Loss:[0.09291999]|Training Accuracy:1.0|Test Loss:[0.09250229]|Test Accuracy:1.0\n",
      "510th EPOCH:\n",
      "Training Loss:[0.08885704]|Training Accuracy:1.0|Test Loss:[0.08846439]|Test Accuracy:1.0\n",
      "520th EPOCH:\n",
      "Training Loss:[0.08503732]|Training Accuracy:1.0|Test Loss:[0.08466811]|Test Accuracy:1.0\n",
      "530th EPOCH:\n",
      "Training Loss:[0.08144514]|Training Accuracy:1.0|Test Loss:[0.08109786]|Test Accuracy:1.0\n",
      "540th EPOCH:\n",
      "Training Loss:[0.07806566]|Training Accuracy:1.0|Test Loss:[0.07773886]|Test Accuracy:1.0\n",
      "550th EPOCH:\n",
      "Training Loss:[0.07488483]|Training Accuracy:1.0|Test Loss:[0.07457716]|Test Accuracy:1.0\n",
      "560th EPOCH:\n",
      "Training Loss:[0.07188946]|Training Accuracy:1.0|Test Loss:[0.07159964]|Test Accuracy:1.0\n",
      "570th EPOCH:\n",
      "Training Loss:[0.06906717]|Training Accuracy:1.0|Test Loss:[0.06879401]|Test Accuracy:1.0\n",
      "580th EPOCH:\n",
      "Training Loss:[0.06640635]|Training Accuracy:1.0|Test Loss:[0.06614873]|Test Accuracy:1.0\n",
      "590th EPOCH:\n",
      "Training Loss:[0.06389619]|Training Accuracy:1.0|Test Loss:[0.06365306]|Test Accuracy:1.0\n",
      "600th EPOCH:\n",
      "Training Loss:[0.06152658]|Training Accuracy:1.0|Test Loss:[0.06129698]|Test Accuracy:1.0\n",
      "610th EPOCH:\n",
      "Training Loss:[0.05928812]|Training Accuracy:1.0|Test Loss:[0.05907115]|Test Accuracy:1.0\n",
      "620th EPOCH:\n",
      "Training Loss:[0.05717207]|Training Accuracy:1.0|Test Loss:[0.05696687]|Test Accuracy:1.0\n",
      "630th EPOCH:\n",
      "Training Loss:[0.05517029]|Training Accuracy:1.0|Test Loss:[0.0549761]|Test Accuracy:1.0\n",
      "640th EPOCH:\n",
      "Training Loss:[0.05327524]|Training Accuracy:1.0|Test Loss:[0.05309133]|Test Accuracy:1.0\n",
      "650th EPOCH:\n",
      "Training Loss:[0.05147991]|Training Accuracy:1.0|Test Loss:[0.0513056]|Test Accuracy:1.0\n",
      "660th EPOCH:\n",
      "Training Loss:[0.04977779]|Training Accuracy:1.0|Test Loss:[0.04961247]|Test Accuracy:1.0\n",
      "670th EPOCH:\n",
      "Training Loss:[0.04816286]|Training Accuracy:1.0|Test Loss:[0.04800595]|Test Accuracy:1.0\n",
      "680th EPOCH:\n",
      "Training Loss:[0.04662952]|Training Accuracy:1.0|Test Loss:[0.04648047]|Test Accuracy:1.0\n",
      "690th EPOCH:\n",
      "Training Loss:[0.04517257]|Training Accuracy:1.0|Test Loss:[0.04503089]|Test Accuracy:1.0\n",
      "700th EPOCH:\n",
      "Training Loss:[0.0437872]|Training Accuracy:1.0|Test Loss:[0.04365242]|Test Accuracy:1.0\n",
      "710th EPOCH:\n",
      "Training Loss:[0.04246893]|Training Accuracy:1.0|Test Loss:[0.04234063]|Test Accuracy:1.0\n",
      "720th EPOCH:\n",
      "Training Loss:[0.04121362]|Training Accuracy:1.0|Test Loss:[0.0410914]|Test Accuracy:1.0\n",
      "730th EPOCH:\n",
      "Training Loss:[0.0400174]|Training Accuracy:1.0|Test Loss:[0.03990089]|Test Accuracy:1.0\n",
      "740th EPOCH:\n",
      "Training Loss:[0.03887671]|Training Accuracy:1.0|Test Loss:[0.03876556]|Test Accuracy:1.0\n",
      "750th EPOCH:\n",
      "Training Loss:[0.0377882]|Training Accuracy:1.0|Test Loss:[0.0376821]|Test Accuracy:1.0\n",
      "760th EPOCH:\n",
      "Training Loss:[0.03674879]|Training Accuracy:1.0|Test Loss:[0.03664743]|Test Accuracy:1.0\n",
      "770th EPOCH:\n",
      "Training Loss:[0.03575559]|Training Accuracy:1.0|Test Loss:[0.03565871]|Test Accuracy:1.0\n",
      "780th EPOCH:\n",
      "Training Loss:[0.03480593]|Training Accuracy:1.0|Test Loss:[0.03471326]|Test Accuracy:1.0\n",
      "790th EPOCH:\n",
      "Training Loss:[0.03389731]|Training Accuracy:1.0|Test Loss:[0.03380861]|Test Accuracy:1.0\n",
      "800th EPOCH:\n",
      "Training Loss:[0.0330274]|Training Accuracy:1.0|Test Loss:[0.03294245]|Test Accuracy:1.0\n",
      "810th EPOCH:\n",
      "Training Loss:[0.03219403]|Training Accuracy:1.0|Test Loss:[0.03211262]|Test Accuracy:1.0\n",
      "820th EPOCH:\n",
      "Training Loss:[0.03139518]|Training Accuracy:1.0|Test Loss:[0.03131712]|Test Accuracy:1.0\n"
     ]
    },
    {
     "name": "stdout",
     "output_type": "stream",
     "text": [
      "830th EPOCH:\n",
      "Training Loss:[0.03062896]|Training Accuracy:1.0|Test Loss:[0.03055407]|Test Accuracy:1.0\n",
      "840th EPOCH:\n",
      "Training Loss:[0.02989361]|Training Accuracy:1.0|Test Loss:[0.02982171]|Test Accuracy:1.0\n",
      "850th EPOCH:\n",
      "Training Loss:[0.02918747]|Training Accuracy:1.0|Test Loss:[0.0291184]|Test Accuracy:1.0\n",
      "860th EPOCH:\n",
      "Training Loss:[0.02850899]|Training Accuracy:1.0|Test Loss:[0.02844261]|Test Accuracy:1.0\n",
      "870th EPOCH:\n",
      "Training Loss:[0.02785674]|Training Accuracy:1.0|Test Loss:[0.0277929]|Test Accuracy:1.0\n",
      "880th EPOCH:\n",
      "Training Loss:[0.02722936]|Training Accuracy:1.0|Test Loss:[0.02716794]|Test Accuracy:1.0\n",
      "890th EPOCH:\n",
      "Training Loss:[0.02662557]|Training Accuracy:1.0|Test Loss:[0.02656645]|Test Accuracy:1.0\n",
      "900th EPOCH:\n",
      "Training Loss:[0.0260442]|Training Accuracy:1.0|Test Loss:[0.02598725]|Test Accuracy:1.0\n",
      "910th EPOCH:\n",
      "Training Loss:[0.02548412]|Training Accuracy:1.0|Test Loss:[0.02542924]|Test Accuracy:1.0\n",
      "920th EPOCH:\n",
      "Training Loss:[0.02494428]|Training Accuracy:1.0|Test Loss:[0.02489137]|Test Accuracy:1.0\n",
      "930th EPOCH:\n",
      "Training Loss:[0.0244237]|Training Accuracy:1.0|Test Loss:[0.02437266]|Test Accuracy:1.0\n",
      "940th EPOCH:\n",
      "Training Loss:[0.02392144]|Training Accuracy:1.0|Test Loss:[0.02387219]|Test Accuracy:1.0\n",
      "950th EPOCH:\n",
      "Training Loss:[0.02343665]|Training Accuracy:1.0|Test Loss:[0.0233891]|Test Accuracy:1.0\n",
      "960th EPOCH:\n",
      "Training Loss:[0.02296849]|Training Accuracy:1.0|Test Loss:[0.02292256]|Test Accuracy:1.0\n",
      "970th EPOCH:\n",
      "Training Loss:[0.02251619]|Training Accuracy:1.0|Test Loss:[0.0224718]|Test Accuracy:1.0\n",
      "980th EPOCH:\n",
      "Training Loss:[0.02207902]|Training Accuracy:1.0|Test Loss:[0.02203611]|Test Accuracy:1.0\n",
      "990th EPOCH:\n",
      "Training Loss:[0.0216563]|Training Accuracy:1.0|Test Loss:[0.0216148]|Test Accuracy:1.0\n"
     ]
    }
   ],
   "source": [
    "# Now we can train the model by iteratively on each datapoint.\n",
    "\n",
    "layer_list = [2,3,1]\n",
    "activation_list = ['sigmoid','sigmoid']\n",
    "model = MultiLayerPerceptron(layer_list,activation_list)\n",
    "\n",
    "\n",
    "_=model.train(X_train,\n",
    "            Y_train,\n",
    "            X_train,\n",
    "            Y_train,\n",
    "            metric ='accuracy_binary',\n",
    "            loss_function_string='binary_cross_entropy',\n",
    "            epochs=1000,\n",
    "            record_at=10)"
   ]
  },
  {
   "cell_type": "code",
   "execution_count": 12,
   "metadata": {},
   "outputs": [
    {
     "data": {
      "text/plain": [
       "1.0"
      ]
     },
     "execution_count": 12,
     "metadata": {},
     "output_type": "execute_result"
    }
   ],
   "source": [
    "# Now we can predict the values for unseen data or trained data also\n",
    "# We can also calculate the accuracy of the model we have trained\n",
    "model.metric_function(X_train,Y_train,metric='accuracy_binary')"
   ]
  },
  {
   "cell_type": "markdown",
   "metadata": {},
   "source": [
    "# N Bit XOR"
   ]
  },
  {
   "cell_type": "markdown",
   "metadata": {},
   "source": [
    "Now Lets try working with just a little better data. A n XOR operator. So lets create the dataset for n bit xor."
   ]
  },
  {
   "cell_type": "markdown",
   "metadata": {},
   "source": [
    "We would have atmost 2^n data point in this type of data set.But we would limit our dataset to a 1000 data points\n",
    "whichever is smaller.\n",
    "\n",
    "Then we can divide into training and test set"
   ]
  },
  {
   "cell_type": "code",
   "execution_count": 13,
   "metadata": {},
   "outputs": [],
   "source": [
    "n = 10\n",
    "max_datapoint = 10000\n",
    "datapoints = min(pow(2,n) , max_datapoint)\n",
    "\n",
    "X = np.zeros((datapoints , n) , dtype=np.int32)\n",
    "Y = np.zeros((datapoints , 1), dtype=np.int32)\n",
    "\n",
    "for i in range(datapoints):\n",
    "    tmp = i\n",
    "    y_tmp = 0\n",
    "    for j in range(n-1 , -1 , -1):\n",
    "        X[i,j] = tmp&1\n",
    "        y_tmp = y_tmp^X[i,j]\n",
    "        tmp = tmp>>1\n",
    "    Y[i] = y_tmp\n",
    "        \n",
    "        "
   ]
  },
  {
   "cell_type": "code",
   "execution_count": 14,
   "metadata": {},
   "outputs": [
    {
     "name": "stdout",
     "output_type": "stream",
     "text": [
      "[0 0 0 0 0 0 1 0 1 1] [1]\n"
     ]
    }
   ],
   "source": [
    "# for sanity check lets print one example\n",
    "ind = 11\n",
    "print(X[ind] , Y[ind])"
   ]
  },
  {
   "cell_type": "code",
   "execution_count": 15,
   "metadata": {},
   "outputs": [
    {
     "data": {
      "text/plain": [
       "(103, 1)"
      ]
     },
     "execution_count": 15,
     "metadata": {},
     "output_type": "execute_result"
    }
   ],
   "source": [
    "# Lets divide the set in training and testing\n",
    "div = 0.9\n",
    "train_n = int(div * datapoints)\n",
    "X_train = X[:train_n]\n",
    "Y_train = Y[:train_n]\n",
    "\n",
    "X_test = X[train_n:]\n",
    "Y_test = Y[train_n:]\n",
    "Y_test.shape"
   ]
  },
  {
   "cell_type": "code",
   "execution_count": 16,
   "metadata": {},
   "outputs": [
    {
     "name": "stdout",
     "output_type": "stream",
     "text": [
      "(10, 20) (20,)\n",
      "<function relu at 0x7fb0ed029158>\n",
      "(20, 20) (20,)\n",
      "<function sigmoid at 0x7fb0ed010bf8>\n",
      "(20, 15) (15,)\n",
      "<function sigmoid at 0x7fb0ed010bf8>\n",
      "(15, 8) (8,)\n",
      "<function sigmoid at 0x7fb0ed010bf8>\n",
      "(8, 4) (4,)\n",
      "<function sigmoid at 0x7fb0ed010bf8>\n",
      "(4, 1) (1,)\n",
      "<function sigmoid at 0x7fb0ed010bf8>\n"
     ]
    }
   ],
   "source": [
    "layer_list = [n,20,20,15,8,4,1]\n",
    "activation_list = ['relu','sigmoid','sigmoid','sigmoid','sigmoid','sigmoid']\n",
    "\n",
    "model = MultiLayerPerceptron(layer_list,activation_list)"
   ]
  },
  {
   "cell_type": "code",
   "execution_count": 17,
   "metadata": {
    "scrolled": true
   },
   "outputs": [
    {
     "name": "stdout",
     "output_type": "stream",
     "text": [
      "0th EPOCH:\n",
      "Training Loss:[1.3802321]|Training Accuracy:0.500542888165038|Test Loss:[1.05598754]|Test Accuracy:0.49514563106796117\n",
      "10th EPOCH:\n",
      "Training Loss:[0.69315198]|Training Accuracy:0.500542888165038|Test Loss:[0.69317821]|Test Accuracy:0.49514563106796117\n",
      "20th EPOCH:\n",
      "Training Loss:[0.69314659]|Training Accuracy:0.500542888165038|Test Loss:[0.69315834]|Test Accuracy:0.49514563106796117\n",
      "30th EPOCH:\n",
      "Training Loss:[0.69314659]|Training Accuracy:0.500542888165038|Test Loss:[0.69315831]|Test Accuracy:0.49514563106796117\n",
      "40th EPOCH:\n",
      "Training Loss:[0.69314659]|Training Accuracy:0.500542888165038|Test Loss:[0.69315831]|Test Accuracy:0.49514563106796117\n",
      "50th EPOCH:\n",
      "Training Loss:[0.69314659]|Training Accuracy:0.500542888165038|Test Loss:[0.69315831]|Test Accuracy:0.49514563106796117\n",
      "60th EPOCH:\n",
      "Training Loss:[0.69314659]|Training Accuracy:0.500542888165038|Test Loss:[0.69315831]|Test Accuracy:0.49514563106796117\n",
      "70th EPOCH:\n",
      "Training Loss:[0.69314659]|Training Accuracy:0.500542888165038|Test Loss:[0.69315831]|Test Accuracy:0.49514563106796117\n",
      "80th EPOCH:\n",
      "Training Loss:[0.69314659]|Training Accuracy:0.500542888165038|Test Loss:[0.69315831]|Test Accuracy:0.49514563106796117\n",
      "90th EPOCH:\n",
      "Training Loss:[0.69314659]|Training Accuracy:0.500542888165038|Test Loss:[0.69315831]|Test Accuracy:0.49514563106796117\n",
      "100th EPOCH:\n",
      "Training Loss:[0.69314659]|Training Accuracy:0.500542888165038|Test Loss:[0.69315831]|Test Accuracy:0.49514563106796117\n",
      "110th EPOCH:\n",
      "Training Loss:[0.69314659]|Training Accuracy:0.500542888165038|Test Loss:[0.69315831]|Test Accuracy:0.49514563106796117\n",
      "120th EPOCH:\n",
      "Training Loss:[0.69314659]|Training Accuracy:0.500542888165038|Test Loss:[0.69315831]|Test Accuracy:0.49514563106796117\n",
      "130th EPOCH:\n",
      "Training Loss:[0.69314659]|Training Accuracy:0.500542888165038|Test Loss:[0.69315831]|Test Accuracy:0.49514563106796117\n",
      "140th EPOCH:\n",
      "Training Loss:[0.69314659]|Training Accuracy:0.500542888165038|Test Loss:[0.69315831]|Test Accuracy:0.49514563106796117\n",
      "150th EPOCH:\n",
      "Training Loss:[0.69314659]|Training Accuracy:0.500542888165038|Test Loss:[0.69315831]|Test Accuracy:0.49514563106796117\n",
      "160th EPOCH:\n",
      "Training Loss:[0.69314659]|Training Accuracy:0.500542888165038|Test Loss:[0.69315831]|Test Accuracy:0.49514563106796117\n",
      "170th EPOCH:\n",
      "Training Loss:[0.69314659]|Training Accuracy:0.500542888165038|Test Loss:[0.69315831]|Test Accuracy:0.49514563106796117\n",
      "180th EPOCH:\n",
      "Training Loss:[0.69314659]|Training Accuracy:0.500542888165038|Test Loss:[0.69315831]|Test Accuracy:0.49514563106796117\n",
      "190th EPOCH:\n",
      "Training Loss:[0.69314659]|Training Accuracy:0.500542888165038|Test Loss:[0.69315831]|Test Accuracy:0.49514563106796117\n"
     ]
    }
   ],
   "source": [
    "train_loss_his,train_acc_his,test_loss_his,test_acc_his,epoch_his = model.train(X_train,\n",
    "                                                                                Y_train ,\n",
    "                                                                                X_test,\n",
    "                                                                                Y_test,\n",
    "                                                                                metric='accuracy_binary',\n",
    "                                                                                loss_function_string='binary_cross_entropy',\n",
    "                                                                                epochs = 200,\n",
    "                                                                                record_at = 10,\n",
    "                                                                                learning_rate= 0.1,\n",
    "                                                                                learning_rate_decay=False)"
   ]
  },
  {
   "cell_type": "code",
   "execution_count": 18,
   "metadata": {},
   "outputs": [
    {
     "data": {
      "image/png": "[encoded data removed]",
      "text/plain": [
       "<Figure size 432x288 with 1 Axes>"
      ]
     },
     "metadata": {
      "needs_background": "light"
     },
     "output_type": "display_data"
    },
    {
     "data": {
      "image/png": "[encoded data removed]",
      "text/plain": [
       "<Figure size 432x288 with 1 Axes>"
      ]
     },
     "metadata": {
      "needs_background": "light"
     },
     "output_type": "display_data"
    }
   ],
   "source": [
    "plot_loss(epoch_his,train_loss_his,test_loss_his)\n",
    "plot_accuracy(epoch_his,train_acc_his,test_acc_his)"
   ]
  },
  {
   "cell_type": "markdown",
   "metadata": {},
   "source": [
    "# Simple Multiclass classification dataset"
   ]
  },
  {
   "cell_type": "code",
   "execution_count": 19,
   "metadata": {},
   "outputs": [
    {
     "data": {
      "image/png": "[encoded data removed]",
      "text/plain": [
       "<Figure size 432x288 with 1 Axes>"
      ]
     },
     "metadata": {
      "needs_background": "light"
     },
     "output_type": "display_data"
    }
   ],
   "source": [
    "xcoords1 = [1,1,1,1,1]\n",
    "xcoords2 = [2,2,2,2,2]\n",
    "xcoords3 = [3,3,3,3,3]\n",
    "ycoords = [1,2,3,4,5]\n",
    "plt.plot(xcoords1, ycoords, label='class 1',marker='o')\n",
    "plt.plot(xcoords2, ycoords, label='class 2',marker='s')\n",
    "plt.plot(xcoords3, ycoords, label='class 3',marker='D')\n",
    "plt.legend(loc='best')\n",
    "plt.show()"
   ]
  },
  {
   "cell_type": "code",
   "execution_count": 20,
   "metadata": {},
   "outputs": [],
   "source": [
    "#Making the dataset\n",
    "dataset = [[i,j] for i in range(1,6) for j in range(1,4)]\n",
    "labels = [[1,0,0],[0,1,0],[0,0,1],[1,0,0],[0,1,0],[0,0,1],[1,0,0],[0,1,0],[0,0,1],[1,0,0],[0,1,0],[0,0,1],[1,0,0],[0,1,0],[0,0,1]]"
   ]
  },
  {
   "cell_type": "code",
   "execution_count": 21,
   "metadata": {},
   "outputs": [],
   "source": [
    "div = 0.8\n",
    "N = len(dataset)\n",
    "X_train = np.array(dataset[:int(div*N)])\n",
    "Y_train = np.array(labels[:int(div*N)])\n",
    "X_test = np.array(dataset[int(div*N):])\n",
    "Y_test = np.array(labels[int(div*N):])"
   ]
  },
  {
   "cell_type": "code",
   "execution_count": 29,
   "metadata": {},
   "outputs": [
    {
     "name": "stdout",
     "output_type": "stream",
     "text": [
      "(2, 6) (6,)\n",
      "<function sigmoid at 0x7fb0ed010bf8>\n",
      "(6, 3) (3,)\n",
      "<function linear at 0x7fb0ed029378>\n"
     ]
    }
   ],
   "source": [
    "layer_list = [2,6,3]#,8,8,8,6,3]\n",
    "activation_list = ['sigmoid','linear']#,'relu','relu','relu','relu']\n",
    "model = MultiLayerPerceptron(layer_list,activation_list)"
   ]
  },
  {
   "cell_type": "code",
   "execution_count": 30,
   "metadata": {},
   "outputs": [
    {
     "name": "stdout",
     "output_type": "stream",
     "text": [
      "0th EPOCH:\n",
      "Training Loss:1.000000082745371e-11|Training Accuracy:0.3333333333333333|Test Loss:25.3284360229345|Test Accuracy:0.3333333333333333\n",
      "10th EPOCH:\n",
      "Training Loss:0.8785976947070718|Training Accuracy:0.5833333333333334|Test Loss:0.8969058215284841|Test Accuracy:0.3333333333333333\n",
      "20th EPOCH:\n",
      "Training Loss:0.4722468207236621|Training Accuracy:0.9166666666666666|Test Loss:0.40432086931629346|Test Accuracy:1.0\n",
      "30th EPOCH:\n",
      "Training Loss:6.717027526459319|Training Accuracy:0.4166666666666667|Test Loss:8.985797351580828|Test Accuracy:0.3333333333333333\n",
      "40th EPOCH:\n",
      "Training Loss:0.39673769855964597|Training Accuracy:0.75|Test Loss:0.6472692693704216|Test Accuracy:0.6666666666666666\n",
      "50th EPOCH:\n",
      "Training Loss:0.3917402045553589|Training Accuracy:0.8333333333333334|Test Loss:0.6632469538951385|Test Accuracy:0.6666666666666666\n",
      "60th EPOCH:\n",
      "Training Loss:0.38150795055687353|Training Accuracy:0.9166666666666666|Test Loss:0.598560115362099|Test Accuracy:0.6666666666666666\n",
      "70th EPOCH:\n",
      "Training Loss:0.3829487467317581|Training Accuracy:1.0|Test Loss:0.46400596663181043|Test Accuracy:0.6666666666666666\n"
     ]
    }
   ],
   "source": [
    "train_loss_his,train_acc_his,test_loss_his,test_acc_his,epoch_his = model.train(X_train,\n",
    "                                                                                Y_train ,\n",
    "                                                                                X_test,\n",
    "                                                                                Y_test,\n",
    "                                                                                metric='accuracy_multiclass',\n",
    "                                                                                loss_function_string='softmax_multiclass_cross_entropy',\n",
    "                                                                                epochs = 80,\n",
    "                                                                                record_at = 10,\n",
    "                                                                                learning_rate= 0.1,\n",
    "                                                                                learning_rate_decay=False)"
   ]
  },
  {
   "cell_type": "code",
   "execution_count": 31,
   "metadata": {},
   "outputs": [
    {
     "data": {
      "image/png": "[encoded data removed]",
      "text/plain": [
       "<Figure size 432x288 with 1 Axes>"
      ]
     },
     "metadata": {
      "needs_background": "light"
     },
     "output_type": "display_data"
    },
    {
     "data": {
      "image/png": "[encoded data removed]",
      "text/plain": [
       "<Figure size 432x288 with 1 Axes>"
      ]
     },
     "metadata": {
      "needs_background": "light"
     },
     "output_type": "display_data"
    }
   ],
   "source": [
    "plot_loss(epoch_his,train_loss_his,test_loss_his)\n",
    "plot_accuracy(epoch_his,train_acc_his,test_acc_his)"
   ]
  },
  {
   "cell_type": "markdown",
   "metadata": {},
   "source": [
    "# gene expression cancer RNA-Seq Data Set\n",
    "From UCI Machine Learning Dataset Repository  \n",
    "By Samuele Fiorini, University of Genoa  \n",
    "Link : https://archive.ics.uci.edu/ml/datasets/gene+expression+cancer+RNA-Seq#"
   ]
  },
  {
   "cell_type": "code",
   "execution_count": null,
   "metadata": {},
   "outputs": [],
   "source": [
    "dataset = pd.read_csv('TCGA-PANCAN-HiSeq-801x20531/data.csv')\n",
    "labels = pd.read_csv('TCGA-PANCAN-HiSeq-801x20531/labels.csv')"
   ]
  },
  {
   "cell_type": "code",
   "execution_count": null,
   "metadata": {},
   "outputs": [],
   "source": []
  }
 ],
 "metadata": {
  "kernelspec": {
   "display_name": "Python 3",
   "language": "python",
   "name": "python3"
  },
  "language_info": {
   "codemirror_mode": {
    "name": "ipython",
    "version": 3
   },
   "file_extension": ".py",
   "mimetype": "text/x-python",
   "name": "python",
   "nbconvert_exporter": "python",
   "pygments_lexer": "ipython3",
   "version": "3.6.7"
  }
 },
 "nbformat": 4,
 "nbformat_minor": 2
}
