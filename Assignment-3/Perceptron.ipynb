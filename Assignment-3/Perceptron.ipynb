{
 "cells": [
  {
   "cell_type": "markdown",
   "metadata": {},
   "source": [
    "# Perceptron\n",
    "\n"
   ]
  },
  {
   "cell_type": "code",
   "execution_count": 1,
   "metadata": {},
   "outputs": [
    {
     "data": {
      "text/plain": [
       "{'divide': 'warn', 'over': 'warn', 'under': 'ignore', 'invalid': 'warn'}"
      ]
     },
     "execution_count": 1,
     "metadata": {},
     "output_type": "execute_result"
    }
   ],
   "source": [
    "import numpy as np\n",
    "import matplotlib.pyplot as plt\n",
    "import pandas as pd\n",
    "np.seterr('ignore')"
   ]
  },
  {
   "cell_type": "code",
   "execution_count": 2,
   "metadata": {},
   "outputs": [],
   "source": [
    "from MultiLayerPerceptron import MultiLayerPerceptron"
   ]
  },
  {
   "cell_type": "markdown",
   "metadata": {},
   "source": [
    "# Important Functions"
   ]
  },
  {
   "cell_type": "code",
   "execution_count": 3,
   "metadata": {},
   "outputs": [],
   "source": [
    "def plot_loss(epoch_his, train_loss_his, test_loss_his):\n",
    "    train_line, = plt.plot(epoch_his,train_loss_his,label = 'train')\n",
    "    test_line, = plt.plot(epoch_his,test_loss_his,label = 'test')\n",
    "    plt.xlabel('EPOCHS')\n",
    "    plt.ylabel('Loss')\n",
    "    plt.legend([train_line, test_line] , ['train','test'])\n",
    "    plt.show()"
   ]
  },
  {
   "cell_type": "code",
   "execution_count": 4,
   "metadata": {},
   "outputs": [],
   "source": [
    "def plot_accuracy(epoch_his, train_acc_his, test_acc_his):\n",
    "    train_line, = plt.plot(epoch_his,train_acc_his,label = 'train')\n",
    "    test_line, = plt.plot(epoch_his,test_acc_his,label = 'test')\n",
    "    plt.xlabel('EPOCHS')\n",
    "    plt.ylabel('Accuracy')\n",
    "    plt.legend([train_line, test_line] , ['train','test'])\n",
    "    plt.show()"
   ]
  },
  {
   "cell_type": "markdown",
   "metadata": {},
   "source": [
    "# Perceptron Network"
   ]
  },
  {
   "cell_type": "code",
   "execution_count": 5,
   "metadata": {},
   "outputs": [],
   "source": [
    "# Here I am building a normal forward propogation for a perceptron layer\n",
    "# and the various function i would use."
   ]
  },
  {
   "cell_type": "code",
   "execution_count": 6,
   "metadata": {},
   "outputs": [],
   "source": [
    "#############################################\n",
    "## Declaring Training Data        ############\n",
    "#############################################\n",
    "X_train = np.array([[0,0],[1,0],[0,1],[1,1]])\n",
    "Y_train = np.array([[1],[0],[0],[0]])"
   ]
  },
  {
   "cell_type": "code",
   "execution_count": 7,
   "metadata": {},
   "outputs": [
    {
     "name": "stdout",
     "output_type": "stream",
     "text": [
      "(2, 1) (1,)\n",
      "<function sigmoid at 0x7f1594761268>\n"
     ]
    }
   ],
   "source": [
    "# Declare a neuron with shape of weights as [shape_of_input,1]\n",
    "model = MultiLayerPerceptron([2,1],['sigmoid'])\n",
    "# print(model.layers[1].W)\n",
    "# print(model.layers[1].b)"
   ]
  },
  {
   "cell_type": "code",
   "execution_count": 8,
   "metadata": {},
   "outputs": [],
   "source": [
    "# testing the model outputs\n",
    "pred , _ = model.forward(X_train)\n",
    "# print(np.sum((pred > 0.5)== Y_train) / Y_train.shape[0])\n",
    "# accuracy(model , X_train,Y_train)\n",
    "# X_train[0]"
   ]
  },
  {
   "cell_type": "code",
   "execution_count": 9,
   "metadata": {},
   "outputs": [
    {
     "name": "stdout",
     "output_type": "stream",
     "text": [
      "The loss is [0.17090752]\n",
      "And the error to be back propogated is:\n",
      " 0.3293870232564139\n"
     ]
    }
   ],
   "source": [
    "# Checking for testing purposes(BCE should be used here ideally)\n",
    "from Loss import mean_abs_error,mean_square_error\n",
    "loss,d_back = mean_square_error(pred,Y_train)\n",
    "print(\"The loss is {}\\nAnd the error to be back propogated is:\\n {}\".format(loss , d_back))"
   ]
  },
  {
   "cell_type": "code",
   "execution_count": 10,
   "metadata": {},
   "outputs": [
    {
     "name": "stdout",
     "output_type": "stream",
     "text": [
      "The loss is [3.53464658]\n",
      "And the error to be back propogated is:\n",
      " 1.4627570388559494\n"
     ]
    }
   ],
   "source": [
    "from Loss import binary_cross_entropy\n",
    "loss,d_back = binary_cross_entropy(pred,Y_train)\n",
    "print(\"The loss is {}\\nAnd the error to be back propogated is:\\n {}\".format(loss , d_back))"
   ]
  },
  {
   "cell_type": "code",
   "execution_count": 11,
   "metadata": {
    "scrolled": true
   },
   "outputs": [
    {
     "name": "stdout",
     "output_type": "stream",
     "text": [
      "(2, 3) (3,)\n",
      "<function sigmoid at 0x7f1594761268>\n",
      "(3, 3) (3,)\n",
      "<function sigmoid at 0x7f1594761268>\n",
      "(3, 1) (1,)\n",
      "<function linear at 0x7f15681ef7b8>\n",
      "0th EPOCH:\n",
      "Training Loss:[nan]|Training Accuracy:0.25|Test Loss:[nan]|Test Accuracy:0.25\n",
      "20th EPOCH:\n",
      "Training Loss:[nan]|Training Accuracy:0.25|Test Loss:[nan]|Test Accuracy:0.25\n",
      "40th EPOCH:\n",
      "Training Loss:[nan]|Training Accuracy:0.25|Test Loss:[nan]|Test Accuracy:0.25\n",
      "60th EPOCH:\n",
      "Training Loss:[nan]|Training Accuracy:0.25|Test Loss:[nan]|Test Accuracy:0.25\n",
      "80th EPOCH:\n",
      "Training Loss:[nan]|Training Accuracy:0.25|Test Loss:[nan]|Test Accuracy:0.25\n",
      "100th EPOCH:\n",
      "Training Loss:[nan]|Training Accuracy:0.25|Test Loss:[nan]|Test Accuracy:0.25\n",
      "120th EPOCH:\n",
      "Training Loss:[nan]|Training Accuracy:0.25|Test Loss:[nan]|Test Accuracy:0.25\n",
      "140th EPOCH:\n",
      "Training Loss:[nan]|Training Accuracy:0.25|Test Loss:[nan]|Test Accuracy:0.25\n",
      "160th EPOCH:\n",
      "Training Loss:[nan]|Training Accuracy:0.25|Test Loss:[nan]|Test Accuracy:0.25\n",
      "180th EPOCH:\n",
      "Training Loss:[nan]|Training Accuracy:0.25|Test Loss:[nan]|Test Accuracy:0.25\n",
      "200th EPOCH:\n",
      "Training Loss:[nan]|Training Accuracy:0.25|Test Loss:[nan]|Test Accuracy:0.25\n",
      "220th EPOCH:\n",
      "Training Loss:[nan]|Training Accuracy:0.25|Test Loss:[nan]|Test Accuracy:0.25\n",
      "240th EPOCH:\n",
      "Training Loss:[nan]|Training Accuracy:0.25|Test Loss:[nan]|Test Accuracy:0.25\n",
      "260th EPOCH:\n",
      "Training Loss:[nan]|Training Accuracy:0.25|Test Loss:[nan]|Test Accuracy:0.25\n",
      "280th EPOCH:\n",
      "Training Loss:[nan]|Training Accuracy:0.25|Test Loss:[nan]|Test Accuracy:0.25\n",
      "300th EPOCH:\n",
      "Training Loss:[nan]|Training Accuracy:0.25|Test Loss:[nan]|Test Accuracy:0.25\n",
      "320th EPOCH:\n",
      "Training Loss:[nan]|Training Accuracy:0.25|Test Loss:[nan]|Test Accuracy:0.25\n",
      "340th EPOCH:\n",
      "Training Loss:[nan]|Training Accuracy:0.25|Test Loss:[nan]|Test Accuracy:0.25\n",
      "360th EPOCH:\n",
      "Training Loss:[nan]|Training Accuracy:0.25|Test Loss:[nan]|Test Accuracy:0.25\n",
      "380th EPOCH:\n",
      "Training Loss:[nan]|Training Accuracy:0.25|Test Loss:[nan]|Test Accuracy:0.25\n",
      "400th EPOCH:\n",
      "Training Loss:[nan]|Training Accuracy:0.25|Test Loss:[nan]|Test Accuracy:0.25\n",
      "420th EPOCH:\n",
      "Training Loss:[nan]|Training Accuracy:0.25|Test Loss:[nan]|Test Accuracy:0.25\n",
      "440th EPOCH:\n",
      "Training Loss:[nan]|Training Accuracy:0.25|Test Loss:[nan]|Test Accuracy:0.25\n",
      "460th EPOCH:\n",
      "Training Loss:[nan]|Training Accuracy:0.25|Test Loss:[nan]|Test Accuracy:0.25\n",
      "480th EPOCH:\n",
      "Training Loss:[nan]|Training Accuracy:0.25|Test Loss:[nan]|Test Accuracy:0.25\n",
      "500th EPOCH:\n",
      "Training Loss:[nan]|Training Accuracy:0.25|Test Loss:[nan]|Test Accuracy:0.25\n",
      "520th EPOCH:\n",
      "Training Loss:[nan]|Training Accuracy:0.25|Test Loss:[nan]|Test Accuracy:0.25\n",
      "540th EPOCH:\n",
      "Training Loss:[nan]|Training Accuracy:0.25|Test Loss:[nan]|Test Accuracy:0.25\n",
      "560th EPOCH:\n",
      "Training Loss:[nan]|Training Accuracy:0.25|Test Loss:[nan]|Test Accuracy:0.25\n",
      "580th EPOCH:\n",
      "Training Loss:[nan]|Training Accuracy:0.25|Test Loss:[nan]|Test Accuracy:0.25\n",
      "600th EPOCH:\n",
      "Training Loss:[nan]|Training Accuracy:0.25|Test Loss:[nan]|Test Accuracy:0.25\n",
      "620th EPOCH:\n",
      "Training Loss:[nan]|Training Accuracy:0.25|Test Loss:[nan]|Test Accuracy:0.25\n",
      "640th EPOCH:\n",
      "Training Loss:[nan]|Training Accuracy:0.25|Test Loss:[nan]|Test Accuracy:0.25\n",
      "660th EPOCH:\n",
      "Training Loss:[nan]|Training Accuracy:0.25|Test Loss:[nan]|Test Accuracy:0.25\n",
      "680th EPOCH:\n",
      "Training Loss:[nan]|Training Accuracy:0.25|Test Loss:[nan]|Test Accuracy:0.25\n",
      "700th EPOCH:\n",
      "Training Loss:[nan]|Training Accuracy:0.25|Test Loss:[nan]|Test Accuracy:0.25\n",
      "720th EPOCH:\n",
      "Training Loss:[nan]|Training Accuracy:0.25|Test Loss:[nan]|Test Accuracy:0.25\n",
      "740th EPOCH:\n",
      "Training Loss:[nan]|Training Accuracy:0.25|Test Loss:[nan]|Test Accuracy:0.25\n",
      "760th EPOCH:\n",
      "Training Loss:[nan]|Training Accuracy:0.25|Test Loss:[nan]|Test Accuracy:0.25\n",
      "780th EPOCH:\n",
      "Training Loss:[nan]|Training Accuracy:0.25|Test Loss:[nan]|Test Accuracy:0.25\n",
      "800th EPOCH:\n",
      "Training Loss:[nan]|Training Accuracy:0.25|Test Loss:[nan]|Test Accuracy:0.25\n",
      "820th EPOCH:\n",
      "Training Loss:[nan]|Training Accuracy:0.25|Test Loss:[nan]|Test Accuracy:0.25\n",
      "840th EPOCH:\n",
      "Training Loss:[nan]|Training Accuracy:0.25|Test Loss:[nan]|Test Accuracy:0.25\n",
      "860th EPOCH:\n",
      "Training Loss:[nan]|Training Accuracy:0.25|Test Loss:[nan]|Test Accuracy:0.25\n",
      "880th EPOCH:\n",
      "Training Loss:[nan]|Training Accuracy:0.25|Test Loss:[nan]|Test Accuracy:0.25\n",
      "900th EPOCH:\n",
      "Training Loss:[nan]|Training Accuracy:0.25|Test Loss:[nan]|Test Accuracy:0.25\n",
      "920th EPOCH:\n",
      "Training Loss:[nan]|Training Accuracy:0.25|Test Loss:[nan]|Test Accuracy:0.25\n",
      "940th EPOCH:\n",
      "Training Loss:[nan]|Training Accuracy:0.25|Test Loss:[nan]|Test Accuracy:0.25\n",
      "960th EPOCH:\n",
      "Training Loss:[nan]|Training Accuracy:0.25|Test Loss:[nan]|Test Accuracy:0.25\n",
      "980th EPOCH:\n",
      "Training Loss:[nan]|Training Accuracy:0.25|Test Loss:[nan]|Test Accuracy:0.25\n",
      "1000th EPOCH:\n",
      "Training Loss:[nan]|Training Accuracy:0.25|Test Loss:[nan]|Test Accuracy:0.25\n",
      "1020th EPOCH:\n",
      "Training Loss:[nan]|Training Accuracy:0.25|Test Loss:[nan]|Test Accuracy:0.25\n",
      "1040th EPOCH:\n",
      "Training Loss:[nan]|Training Accuracy:0.25|Test Loss:[nan]|Test Accuracy:0.25\n",
      "1060th EPOCH:\n",
      "Training Loss:[nan]|Training Accuracy:0.25|Test Loss:[nan]|Test Accuracy:0.25\n",
      "1080th EPOCH:\n",
      "Training Loss:[nan]|Training Accuracy:0.25|Test Loss:[nan]|Test Accuracy:0.25\n",
      "1100th EPOCH:\n",
      "Training Loss:[nan]|Training Accuracy:0.25|Test Loss:[nan]|Test Accuracy:0.25\n",
      "1120th EPOCH:\n",
      "Training Loss:[nan]|Training Accuracy:0.25|Test Loss:[nan]|Test Accuracy:0.25\n",
      "1140th EPOCH:\n",
      "Training Loss:[nan]|Training Accuracy:0.25|Test Loss:[nan]|Test Accuracy:0.25\n",
      "1160th EPOCH:\n",
      "Training Loss:[nan]|Training Accuracy:0.25|Test Loss:[nan]|Test Accuracy:0.25\n",
      "1180th EPOCH:\n",
      "Training Loss:[nan]|Training Accuracy:0.25|Test Loss:[nan]|Test Accuracy:0.25\n",
      "1200th EPOCH:\n",
      "Training Loss:[nan]|Training Accuracy:0.25|Test Loss:[nan]|Test Accuracy:0.25\n",
      "1220th EPOCH:\n",
      "Training Loss:[nan]|Training Accuracy:0.25|Test Loss:[nan]|Test Accuracy:0.25\n",
      "1240th EPOCH:\n",
      "Training Loss:[nan]|Training Accuracy:0.25|Test Loss:[nan]|Test Accuracy:0.25\n",
      "1260th EPOCH:\n",
      "Training Loss:[nan]|Training Accuracy:0.25|Test Loss:[nan]|Test Accuracy:0.25\n",
      "1280th EPOCH:\n",
      "Training Loss:[nan]|Training Accuracy:0.25|Test Loss:[nan]|Test Accuracy:0.25\n",
      "1300th EPOCH:\n",
      "Training Loss:[nan]|Training Accuracy:0.25|Test Loss:[nan]|Test Accuracy:0.25\n",
      "1320th EPOCH:\n",
      "Training Loss:[nan]|Training Accuracy:0.25|Test Loss:[nan]|Test Accuracy:0.25\n",
      "1340th EPOCH:\n",
      "Training Loss:[nan]|Training Accuracy:0.25|Test Loss:[nan]|Test Accuracy:0.25\n",
      "1360th EPOCH:\n",
      "Training Loss:[nan]|Training Accuracy:0.25|Test Loss:[nan]|Test Accuracy:0.25\n",
      "1380th EPOCH:\n",
      "Training Loss:[nan]|Training Accuracy:0.25|Test Loss:[nan]|Test Accuracy:0.25\n",
      "1400th EPOCH:\n",
      "Training Loss:[nan]|Training Accuracy:0.25|Test Loss:[nan]|Test Accuracy:0.25\n",
      "1420th EPOCH:\n",
      "Training Loss:[nan]|Training Accuracy:0.25|Test Loss:[nan]|Test Accuracy:0.25\n",
      "1440th EPOCH:\n",
      "Training Loss:[nan]|Training Accuracy:0.25|Test Loss:[nan]|Test Accuracy:0.25\n",
      "1460th EPOCH:\n",
      "Training Loss:[nan]|Training Accuracy:0.25|Test Loss:[nan]|Test Accuracy:0.25\n",
      "1480th EPOCH:\n",
      "Training Loss:[nan]|Training Accuracy:0.25|Test Loss:[nan]|Test Accuracy:0.25\n",
      "1500th EPOCH:\n",
      "Training Loss:[nan]|Training Accuracy:0.25|Test Loss:[nan]|Test Accuracy:0.25\n",
      "1520th EPOCH:\n",
      "Training Loss:[nan]|Training Accuracy:0.25|Test Loss:[nan]|Test Accuracy:0.25\n",
      "1540th EPOCH:\n",
      "Training Loss:[nan]|Training Accuracy:0.25|Test Loss:[nan]|Test Accuracy:0.25\n",
      "1560th EPOCH:\n",
      "Training Loss:[nan]|Training Accuracy:0.25|Test Loss:[nan]|Test Accuracy:0.25\n",
      "1580th EPOCH:\n",
      "Training Loss:[nan]|Training Accuracy:0.25|Test Loss:[nan]|Test Accuracy:0.25\n",
      "1600th EPOCH:\n",
      "Training Loss:[nan]|Training Accuracy:0.25|Test Loss:[nan]|Test Accuracy:0.25\n",
      "1620th EPOCH:\n",
      "Training Loss:[nan]|Training Accuracy:0.25|Test Loss:[nan]|Test Accuracy:0.25\n",
      "1640th EPOCH:\n",
      "Training Loss:[nan]|Training Accuracy:0.25|Test Loss:[nan]|Test Accuracy:0.25\n",
      "1660th EPOCH:\n",
      "Training Loss:[nan]|Training Accuracy:0.25|Test Loss:[nan]|Test Accuracy:0.25\n",
      "1680th EPOCH:\n",
      "Training Loss:[nan]|Training Accuracy:0.25|Test Loss:[nan]|Test Accuracy:0.25\n",
      "1700th EPOCH:\n",
      "Training Loss:[nan]|Training Accuracy:0.25|Test Loss:[nan]|Test Accuracy:0.25\n",
      "1720th EPOCH:\n",
      "Training Loss:[nan]|Training Accuracy:0.25|Test Loss:[nan]|Test Accuracy:0.25\n",
      "1740th EPOCH:\n",
      "Training Loss:[nan]|Training Accuracy:0.25|Test Loss:[nan]|Test Accuracy:0.25\n",
      "1760th EPOCH:\n",
      "Training Loss:[nan]|Training Accuracy:0.25|Test Loss:[nan]|Test Accuracy:0.25\n",
      "1780th EPOCH:\n",
      "Training Loss:[nan]|Training Accuracy:0.25|Test Loss:[nan]|Test Accuracy:0.25\n",
      "1800th EPOCH:\n",
      "Training Loss:[nan]|Training Accuracy:0.25|Test Loss:[nan]|Test Accuracy:0.25\n",
      "1820th EPOCH:\n",
      "Training Loss:[nan]|Training Accuracy:0.25|Test Loss:[nan]|Test Accuracy:0.25\n",
      "1840th EPOCH:\n",
      "Training Loss:[nan]|Training Accuracy:0.25|Test Loss:[nan]|Test Accuracy:0.25\n"
     ]
    },
    {
     "name": "stdout",
     "output_type": "stream",
     "text": [
      "1860th EPOCH:\n",
      "Training Loss:[nan]|Training Accuracy:0.25|Test Loss:[nan]|Test Accuracy:0.25\n",
      "1880th EPOCH:\n",
      "Training Loss:[nan]|Training Accuracy:0.25|Test Loss:[nan]|Test Accuracy:0.25\n",
      "1900th EPOCH:\n",
      "Training Loss:[nan]|Training Accuracy:0.25|Test Loss:[nan]|Test Accuracy:0.25\n",
      "1920th EPOCH:\n",
      "Training Loss:[nan]|Training Accuracy:0.25|Test Loss:[nan]|Test Accuracy:0.25\n",
      "1940th EPOCH:\n",
      "Training Loss:[nan]|Training Accuracy:0.25|Test Loss:[nan]|Test Accuracy:0.25\n",
      "1960th EPOCH:\n",
      "Training Loss:[nan]|Training Accuracy:0.25|Test Loss:[nan]|Test Accuracy:0.25\n",
      "1980th EPOCH:\n",
      "Training Loss:[nan]|Training Accuracy:0.25|Test Loss:[nan]|Test Accuracy:0.25\n"
     ]
    }
   ],
   "source": [
    "# Now we can train the model by iteratively on each datapoint.\n",
    "\n",
    "layer_list = [2,3,3,1]\n",
    "activation_list = ['sigmoid','sigmoid']\n",
    "model = MultiLayerPerceptron(layer_list,activation_list)\n",
    "\n",
    "\n",
    "_=model.train(X_train,\n",
    "            Y_train,\n",
    "            X_train,\n",
    "            Y_train,\n",
    "            metric ='accuracy_binary',\n",
    "            loss_function_string='binary_cross_entropy',\n",
    "            epochs=2000,\n",
    "            record_at=20)"
   ]
  },
  {
   "cell_type": "code",
   "execution_count": 12,
   "metadata": {},
   "outputs": [
    {
     "data": {
      "text/plain": [
       "0.75"
      ]
     },
     "execution_count": 12,
     "metadata": {},
     "output_type": "execute_result"
    }
   ],
   "source": [
    "# Now we can predict the values for unseen data or trained data also\n",
    "# We can also calculate the accuracy of the model we have trained\n",
    "model.metric_function(X_train,Y_train,metric='accuracy_binary')"
   ]
  },
  {
   "cell_type": "markdown",
   "metadata": {},
   "source": [
    "# N Bit XOR"
   ]
  },
  {
   "cell_type": "markdown",
   "metadata": {},
   "source": [
    "Now Lets try working with just a little better data. A n XOR operator. So lets create the dataset for n bit xor."
   ]
  },
  {
   "cell_type": "markdown",
   "metadata": {},
   "source": [
    "We would have atmost 2^n data point in this type of data set.But we would limit our dataset to a 1000 data points\n",
    "whichever is smaller.\n",
    "\n",
    "Then we can divide into training and test set"
   ]
  },
  {
   "cell_type": "code",
   "execution_count": 13,
   "metadata": {},
   "outputs": [],
   "source": [
    "n = 10\n",
    "max_datapoint = 10000\n",
    "datapoints = min(pow(2,n) , max_datapoint)\n",
    "\n",
    "X = np.zeros((datapoints , n) , dtype=np.int32)\n",
    "Y = np.zeros((datapoints , 1), dtype=np.int32)\n",
    "\n",
    "for i in range(datapoints):\n",
    "    tmp = i\n",
    "    y_tmp = 0\n",
    "    for j in range(n-1 , -1 , -1):\n",
    "        X[i,j] = tmp&1\n",
    "        y_tmp = y_tmp^X[i,j]\n",
    "        tmp = tmp>>1\n",
    "    Y[i] = y_tmp\n",
    "        \n",
    "        "
   ]
  },
  {
   "cell_type": "code",
   "execution_count": 14,
   "metadata": {},
   "outputs": [
    {
     "name": "stdout",
     "output_type": "stream",
     "text": [
      "[0 0 0 0 0 0 1 0 1 1] [1]\n"
     ]
    }
   ],
   "source": [
    "# for sanity check lets print one example\n",
    "ind = 11\n",
    "print(X[ind] , Y[ind])"
   ]
  },
  {
   "cell_type": "code",
   "execution_count": 15,
   "metadata": {},
   "outputs": [
    {
     "data": {
      "text/plain": [
       "(103, 1)"
      ]
     },
     "execution_count": 15,
     "metadata": {},
     "output_type": "execute_result"
    }
   ],
   "source": [
    "# Lets divide the set in training and testing\n",
    "div = 0.9\n",
    "train_n = int(div * datapoints)\n",
    "X_train = X[:train_n]\n",
    "Y_train = Y[:train_n]\n",
    "\n",
    "X_test = X[train_n:]\n",
    "Y_test = Y[train_n:]\n",
    "Y_test.shape"
   ]
  },
  {
   "cell_type": "code",
   "execution_count": 16,
   "metadata": {},
   "outputs": [
    {
     "name": "stdout",
     "output_type": "stream",
     "text": [
      "(10, 20) (20,)\n",
      "<function relu at 0x7f0f3c26f378>\n",
      "(20, 20) (20,)\n",
      "<function sigmoid at 0x7f0f3c26f0d0>\n",
      "(20, 15) (15,)\n",
      "<function sigmoid at 0x7f0f3c26f0d0>\n",
      "(15, 8) (8,)\n",
      "<function sigmoid at 0x7f0f3c26f0d0>\n",
      "(8, 4) (4,)\n",
      "<function sigmoid at 0x7f0f3c26f0d0>\n",
      "(4, 1) (1,)\n",
      "<function sigmoid at 0x7f0f3c26f0d0>\n"
     ]
    }
   ],
   "source": [
    "layer_list = [n,20,20,15,8,4,1]\n",
    "activation_list = ['relu','sigmoid','sigmoid','sigmoid','sigmoid','sigmoid']\n",
    "\n",
    "model = MultiLayerPerceptron(layer_list,activation_list)"
   ]
  },
  {
   "cell_type": "code",
   "execution_count": 17,
   "metadata": {
    "scrolled": true
   },
   "outputs": [
    {
     "name": "stdout",
     "output_type": "stream",
     "text": [
      "0th EPOCH:\n",
      "Training Loss:[1024.41833003]|Training Accuracy:0.500542888165038|Test Loss:[1870.67387323]|Test Accuracy:0.5048543689320388\n",
      "200th EPOCH:\n",
      "Training Loss:[9816.44833819]|Training Accuracy:0.500542888165038|Test Loss:[1257.6546243]|Test Accuracy:0.5048543689320388\n",
      "400th EPOCH:\n",
      "Training Loss:[14417.85959073]|Training Accuracy:0.500542888165038|Test Loss:[747.67383971]|Test Accuracy:0.5048543689320388\n",
      "600th EPOCH:\n",
      "Training Loss:[nan]|Training Accuracy:0.499457111834962|Test Loss:[nan]|Test Accuracy:0.5048543689320388\n",
      "800th EPOCH:\n",
      "Training Loss:[nan]|Training Accuracy:0.499457111834962|Test Loss:[nan]|Test Accuracy:0.5048543689320388\n",
      "1000th EPOCH:\n",
      "Training Loss:[nan]|Training Accuracy:0.499457111834962|Test Loss:[nan]|Test Accuracy:0.5048543689320388\n",
      "1200th EPOCH:\n",
      "Training Loss:[nan]|Training Accuracy:0.499457111834962|Test Loss:[nan]|Test Accuracy:0.5048543689320388\n",
      "1400th EPOCH:\n",
      "Training Loss:[nan]|Training Accuracy:0.499457111834962|Test Loss:[nan]|Test Accuracy:0.5048543689320388\n",
      "1600th EPOCH:\n",
      "Training Loss:[nan]|Training Accuracy:0.499457111834962|Test Loss:[nan]|Test Accuracy:0.5048543689320388\n",
      "1800th EPOCH:\n",
      "Training Loss:[nan]|Training Accuracy:0.499457111834962|Test Loss:[nan]|Test Accuracy:0.5048543689320388\n"
     ]
    }
   ],
   "source": [
    "train_loss_his,train_acc_his,test_loss_his,test_acc_his,epoch_his = model.train(X_train,\n",
    "                                                                                Y_train ,\n",
    "                                                                                X_test,\n",
    "                                                                                Y_test,\n",
    "                                                                                metric='accuracy_binary',\n",
    "                                                                                loss_function_string='binary_cross_entropy',\n",
    "                                                                                epochs = 2000,\n",
    "                                                                                record_at = 200,\n",
    "                                                                                learning_rate= 0.1,\n",
    "                                                                                learning_rate_decay=False)"
   ]
  },
  {
   "cell_type": "code",
   "execution_count": 19,
   "metadata": {},
   "outputs": [
    {
     "data": {
      "image/png": "[encoded data removed]",
      "text/plain": [
       "<Figure size 432x288 with 1 Axes>"
      ]
     },
     "metadata": {
      "needs_background": "light"
     },
     "output_type": "display_data"
    },
    {
     "data": {
      "image/png": "[encoded data removed]",
      "text/plain": [
       "<Figure size 432x288 with 1 Axes>"
      ]
     },
     "metadata": {
      "needs_background": "light"
     },
     "output_type": "display_data"
    }
   ],
   "source": [
    "plot_loss(epoch_his,train_loss_his,test_loss_his)\n",
    "plot_loss(epoch_his,train_acc_his,test_acc_his)"
   ]
  },
  {
   "cell_type": "markdown",
   "metadata": {},
   "source": [
    "# Simple Multiclass classification dataset"
   ]
  },
  {
   "cell_type": "code",
   "execution_count": 19,
   "metadata": {},
   "outputs": [
    {
     "data": {
      "image/png": "[encoded data removed]",
      "text/plain": [
       "<Figure size 432x288 with 1 Axes>"
      ]
     },
     "metadata": {
      "needs_background": "light"
     },
     "output_type": "display_data"
    }
   ],
   "source": [
    "xcoords1 = [1,1,1,1,1]\n",
    "xcoords2 = [2,2,2,2,2]\n",
    "xcoords3 = [3,3,3,3,3]\n",
    "ycoords = [1,2,3,4,5]\n",
    "plt.plot(xcoords1, ycoords, label='class 1',marker='o')\n",
    "plt.plot(xcoords2, ycoords, label='class 2',marker='s')\n",
    "plt.plot(xcoords3, ycoords, label='class 3',marker='D')\n",
    "plt.legend(loc='best')\n",
    "plt.show()"
   ]
  },
  {
   "cell_type": "code",
   "execution_count": 20,
   "metadata": {},
   "outputs": [],
   "source": [
    "#Making the dataset\n",
    "dataset = [[i,j] for i in range(1,6) for j in range(1,4)]\n",
    "labels = [[1,0,0],[0,1,0],[0,0,1],[1,0,0],[0,1,0],[0,0,1],[1,0,0],[0,1,0],[0,0,1],[1,0,0],[0,1,0],[0,0,1],[1,0,0],[0,1,0],[0,0,1]]"
   ]
  },
  {
   "cell_type": "code",
   "execution_count": 21,
   "metadata": {},
   "outputs": [],
   "source": [
    "div = 0.8\n",
    "N = len(dataset)\n",
    "X_train = np.array(dataset[:int(div*N)])\n",
    "Y_train = np.array(labels[:int(div*N)])\n",
    "X_test = np.array(dataset[int(div*N):])\n",
    "Y_test = np.array(labels[int(div*N):])"
   ]
  },
  {
   "cell_type": "code",
   "execution_count": 22,
   "metadata": {},
   "outputs": [
    {
     "name": "stdout",
     "output_type": "stream",
     "text": [
      "(2, 6) (6,)\n",
      "<function relu at 0x7fb80b60e598>\n",
      "(6, 3) (3,)\n",
      "<function softmax at 0x7fb80b60e6a8>\n"
     ]
    }
   ],
   "source": [
    "layer_list = [2,6,3]#,8,8,8,6,3]\n",
    "activation_list = ['relu','softmax']#,'relu','relu','relu','relu']\n",
    "model = MultiLayerPerceptron(layer_list,activation_list)"
   ]
  },
  {
   "cell_type": "code",
   "execution_count": 23,
   "metadata": {},
   "outputs": [
    {
     "name": "stdout",
     "output_type": "stream",
     "text": [
      "0th EPOCH:\n",
      "Training Loss:1.4126938794750985|Training Accuracy:0.3333333333333333|Test Loss:nan|Test Accuracy:0.3333333333333333\n",
      "200th EPOCH:\n",
      "Training Loss:nan|Training Accuracy:0.3333333333333333|Test Loss:nan|Test Accuracy:0.3333333333333333\n",
      "400th EPOCH:\n",
      "Training Loss:nan|Training Accuracy:0.3333333333333333|Test Loss:nan|Test Accuracy:0.3333333333333333\n",
      "600th EPOCH:\n",
      "Training Loss:nan|Training Accuracy:0.3333333333333333|Test Loss:nan|Test Accuracy:0.3333333333333333\n",
      "800th EPOCH:\n",
      "Training Loss:nan|Training Accuracy:0.3333333333333333|Test Loss:nan|Test Accuracy:0.3333333333333333\n",
      "1000th EPOCH:\n",
      "Training Loss:nan|Training Accuracy:0.3333333333333333|Test Loss:nan|Test Accuracy:0.3333333333333333\n",
      "1200th EPOCH:\n",
      "Training Loss:nan|Training Accuracy:0.3333333333333333|Test Loss:nan|Test Accuracy:0.3333333333333333\n",
      "1400th EPOCH:\n",
      "Training Loss:nan|Training Accuracy:0.3333333333333333|Test Loss:nan|Test Accuracy:0.3333333333333333\n",
      "1600th EPOCH:\n",
      "Training Loss:nan|Training Accuracy:0.3333333333333333|Test Loss:nan|Test Accuracy:0.3333333333333333\n",
      "1800th EPOCH:\n",
      "Training Loss:nan|Training Accuracy:0.3333333333333333|Test Loss:nan|Test Accuracy:0.3333333333333333\n"
     ]
    }
   ],
   "source": [
    "train_loss_his,train_acc_his,test_loss_his,test_acc_his,epoch_his = model.train(X_train,\n",
    "                                                                                Y_train ,\n",
    "                                                                                X_test,\n",
    "                                                                                Y_test,\n",
    "                                                                                metric='accuracy_multiclass',\n",
    "                                                                                loss_function_string='multiclass_cross_entropy',\n",
    "                                                                                epochs = 2000,\n",
    "                                                                                record_at = 200,\n",
    "                                                                                learning_rate= 0.1,\n",
    "                                                                                learning_rate_decay=False)"
   ]
  },
  {
   "cell_type": "code",
   "execution_count": 24,
   "metadata": {},
   "outputs": [
    {
     "data": {
      "image/png": "[encoded data removed]",
      "text/plain": [
       "<Figure size 432x288 with 1 Axes>"
      ]
     },
     "metadata": {
      "needs_background": "light"
     },
     "output_type": "display_data"
    },
    {
     "data": {
      "image/png": "[encoded data removed]",
      "text/plain": [
       "<Figure size 432x288 with 1 Axes>"
      ]
     },
     "metadata": {
      "needs_background": "light"
     },
     "output_type": "display_data"
    }
   ],
   "source": [
    "plot_loss(epoch_his,train_loss_his,test_loss_his)\n",
    "plot_accuracy(epoch_his,train_acc_his,test_acc_his)"
   ]
  },
  {
   "cell_type": "markdown",
   "metadata": {},
   "source": [
    "# gene expression cancer RNA-Seq Data Set\n",
    "From UCI Machine Learning Dataset Repository  \n",
    "By Samuele Fiorini, University of Genoa  \n",
    "Link : https://archive.ics.uci.edu/ml/datasets/gene+expression+cancer+RNA-Seq#"
   ]
  },
  {
   "cell_type": "code",
   "execution_count": null,
   "metadata": {},
   "outputs": [],
   "source": [
    "dataset = pd.read_csv('TCGA-PANCAN-HiSeq-801x20531/data.csv')\n",
    "labels = pd.read_csv('TCGA-PANCAN-HiSeq-801x20531/labels.csv')"
   ]
  },
  {
   "cell_type": "code",
   "execution_count": null,
   "metadata": {},
   "outputs": [],
   "source": []
  }
 ],
 "metadata": {
  "kernelspec": {
   "display_name": "Python 3",
   "language": "python",
   "name": "python3"
  },
  "language_info": {
   "codemirror_mode": {
    "name": "ipython",
    "version": 3
   },
   "file_extension": ".py",
   "mimetype": "text/x-python",
   "name": "python",
   "nbconvert_exporter": "python",
   "pygments_lexer": "ipython3",
   "version": "3.6.7"
  }
 },
 "nbformat": 4,
 "nbformat_minor": 2
}
