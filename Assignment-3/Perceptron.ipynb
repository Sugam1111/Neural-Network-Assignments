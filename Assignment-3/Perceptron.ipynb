{
 "cells": [
  {
   "cell_type": "markdown",
   "metadata": {},
   "source": [
    "# Perceptron\n",
    "\n"
   ]
  },
  {
   "cell_type": "code",
   "execution_count": 1,
   "metadata": {},
   "outputs": [
    {
     "data": {
      "text/plain": [
       "{'divide': 'warn', 'over': 'warn', 'under': 'ignore', 'invalid': 'warn'}"
      ]
     },
     "execution_count": 1,
     "metadata": {},
     "output_type": "execute_result"
    }
   ],
   "source": [
    "import numpy as np\n",
    "np.seterr('ignore')"
   ]
  },
  {
   "cell_type": "markdown",
   "metadata": {},
   "source": [
    "# Perceptron Network"
   ]
  },
  {
   "cell_type": "code",
   "execution_count": 2,
   "metadata": {},
   "outputs": [],
   "source": [
    "# Here I am building a normal forward propogation for a perceptron layer\n",
    "# and the various function i would use."
   ]
  },
  {
   "cell_type": "code",
   "execution_count": 3,
   "metadata": {},
   "outputs": [],
   "source": [
    "#############################################\n",
    "## Declaring Training Data        ############\n",
    "#############################################\n",
    "X_train = np.array([[0,0],[1,0],[0,1],[1,1]])\n",
    "Y_train = np.array([[1],[0],[0],[0]])\n",
    "\n"
   ]
  },
  {
   "cell_type": "code",
   "execution_count": 4,
   "metadata": {},
   "outputs": [],
   "source": [
    "from MultiLayerPerceptron import MultiLayerPerceptron"
   ]
  },
  {
   "cell_type": "code",
   "execution_count": 5,
   "metadata": {},
   "outputs": [],
   "source": [
    "def accuracy(model , X , Y):\n",
    "    pred,_ = model.forward(X)\n",
    "    pred =pred > 0.5\n",
    "    acc = np.sum(pred == Y)\n",
    "    acc = float(acc) / Y.shape[0]\n",
    "    return acc"
   ]
  },
  {
   "cell_type": "code",
   "execution_count": 6,
   "metadata": {},
   "outputs": [
    {
     "name": "stdout",
     "output_type": "stream",
     "text": [
      "(2, 1) (1,)\n",
      "<function sigmoid at 0x7f808e44a620>\n"
     ]
    }
   ],
   "source": [
    "# Declare a neuron with shape of weights as [shape_of_input,1]\n",
    "model = MultiLayerPerceptron([2,1],['sigmoid'])\n",
    "# print(model.layers[1].W)\n",
    "# print(model.layers[1].b)"
   ]
  },
  {
   "cell_type": "code",
   "execution_count": 7,
   "metadata": {},
   "outputs": [],
   "source": [
    "# testing the model outputs\n",
    "pred , _ = model.forward(X_train)\n",
    "# print(np.sum((pred > 0.5)== Y_train) / Y_train.shape[0])\n",
    "# accuracy(model , X_train,Y_train)\n",
    "# X_train[0]"
   ]
  },
  {
   "cell_type": "code",
   "execution_count": 8,
   "metadata": {},
   "outputs": [
    {
     "name": "stdout",
     "output_type": "stream",
     "text": [
      "The loss is [0.08167116]\n",
      "And the error to be back propogated is:\n",
      " [[-0.125     ]\n",
      " [ 0.07952578]\n",
      " [ 0.1167338 ]\n",
      " [ 0.07252206]]\n"
     ]
    }
   ],
   "source": [
    "# Checking for testing purposes(BCE should be used here ideally)\n",
    "from Loss import mean_abs_error,mean_square_error\n",
    "loss,d_back = mean_square_error(pred,Y_train)\n",
    "print(\"The loss is {}\\nAnd the error to be back propogated is:\\n {}\".format(loss , d_back))"
   ]
  },
  {
   "cell_type": "code",
   "execution_count": 9,
   "metadata": {},
   "outputs": [
    {
     "name": "stdout",
     "output_type": "stream",
     "text": [
      "The loss is [2.04775087]\n",
      "And the error to be back propogated is:\n",
      " [[-2.        ]\n",
      " [ 1.46649736]\n",
      " [ 1.87594449]\n",
      " [ 1.40862579]]\n"
     ]
    }
   ],
   "source": [
    "from Loss import binary_cross_entropy,mean_binary_cross_entropy\n",
    "loss,d_back = binary_cross_entropy(pred,Y_train)\n",
    "print(\"The loss is {}\\nAnd the error to be back propogated is:\\n {}\".format(loss , d_back))"
   ]
  },
  {
   "cell_type": "code",
   "execution_count": 11,
   "metadata": {
    "scrolled": true
   },
   "outputs": [
    {
     "name": "stdout",
     "output_type": "stream",
     "text": [
      "(2, 3) (3,)\n",
      "<function sigmoid at 0x7f808e44a620>\n",
      "(3, 1) (1,)\n",
      "<function sigmoid at 0x7f808e44a620>\n",
      "0th EPOCH:\n",
      "Training Loss:[0.9421586]|Training Accuracy:0.25|Test Loss:[0.89653652]|Test Accuracy:0.25\n",
      "1th EPOCH:\n",
      "Training Loss:[0.89653652]|Training Accuracy:0.25|Test Loss:[0.85515473]|Test Accuracy:0.25\n",
      "2th EPOCH:\n",
      "Training Loss:[0.85515473]|Training Accuracy:0.25|Test Loss:[0.81767308]|Test Accuracy:0.25\n",
      "3th EPOCH:\n",
      "Training Loss:[0.81767308]|Training Accuracy:0.25|Test Loss:[0.78376016]|Test Accuracy:0.25\n",
      "4th EPOCH:\n",
      "Training Loss:[0.78376016]|Training Accuracy:0.25|Test Loss:[0.75309796]|Test Accuracy:0.25\n",
      "5th EPOCH:\n",
      "Training Loss:[0.75309796]|Training Accuracy:0.25|Test Loss:[0.72538544]|Test Accuracy:0.25\n",
      "6th EPOCH:\n",
      "Training Loss:[0.72538544]|Training Accuracy:0.25|Test Loss:[0.70034075]|Test Accuracy:0.25\n",
      "7th EPOCH:\n",
      "Training Loss:[0.70034075]|Training Accuracy:0.75|Test Loss:[0.67770258]|Test Accuracy:0.75\n",
      "8th EPOCH:\n",
      "Training Loss:[0.67770258]|Training Accuracy:1.0|Test Loss:[0.65723061]|Test Accuracy:1.0\n",
      "9th EPOCH:\n",
      "Training Loss:[0.65723061]|Training Accuracy:0.75|Test Loss:[0.63870529]|Test Accuracy:0.75\n",
      "10th EPOCH:\n",
      "Training Loss:[0.63870529]|Training Accuracy:0.75|Test Loss:[0.62192718]|Test Accuracy:0.75\n",
      "11th EPOCH:\n",
      "Training Loss:[0.62192718]|Training Accuracy:0.75|Test Loss:[0.6067159]|Test Accuracy:0.75\n",
      "12th EPOCH:\n",
      "Training Loss:[0.6067159]|Training Accuracy:0.75|Test Loss:[0.59290896]|Test Accuracy:0.75\n",
      "13th EPOCH:\n",
      "Training Loss:[0.59290896]|Training Accuracy:0.75|Test Loss:[0.58036033]|Test Accuracy:0.75\n",
      "14th EPOCH:\n",
      "Training Loss:[0.58036033]|Training Accuracy:0.75|Test Loss:[0.56893912]|Test Accuracy:0.75\n",
      "15th EPOCH:\n",
      "Training Loss:[0.56893912]|Training Accuracy:0.75|Test Loss:[0.5585282]|Test Accuracy:0.75\n",
      "16th EPOCH:\n",
      "Training Loss:[0.5585282]|Training Accuracy:0.75|Test Loss:[0.54902283]|Test Accuracy:0.75\n",
      "17th EPOCH:\n",
      "Training Loss:[0.54902283]|Training Accuracy:0.75|Test Loss:[0.54032947]|Test Accuracy:0.75\n",
      "18th EPOCH:\n",
      "Training Loss:[0.54032947]|Training Accuracy:0.75|Test Loss:[0.53236459]|Test Accuracy:0.75\n",
      "19th EPOCH:\n",
      "Training Loss:[0.53236459]|Training Accuracy:0.75|Test Loss:[0.52505363]|Test Accuracy:0.75\n"
     ]
    }
   ],
   "source": [
    "# Now we can train the model by iteratively on each datapoint.\n",
    "\n",
    "layer_list = [2,3, 1]\n",
    "activation_list = ['sigmoid','sigmoid']\n",
    "model = MultiLayerPerceptron(layer_list,activation_list)\n",
    "\n",
    "\n",
    "_=model.train(X_train,\n",
    "            Y_train,\n",
    "            X_train,\n",
    "            Y_train,\n",
    "            accuracy_fn = accuracy,\n",
    "            loss_function_string='mean_binary_cross_entropy',\n",
    "            epochs=20,\n",
    "            record_at=1)"
   ]
  },
  {
   "cell_type": "code",
   "execution_count": 12,
   "metadata": {},
   "outputs": [
    {
     "data": {
      "text/plain": [
       "0.75"
      ]
     },
     "execution_count": 12,
     "metadata": {},
     "output_type": "execute_result"
    }
   ],
   "source": [
    "# Now we can predict the values for unseen data or trained data also\n",
    "# We can also calculate the accuracy of the model we have trained\n",
    "accuracy(model , X_train,Y_train)"
   ]
  },
  {
   "cell_type": "markdown",
   "metadata": {},
   "source": [
    "# N Bit XOR"
   ]
  },
  {
   "cell_type": "markdown",
   "metadata": {},
   "source": [
    "Now Lets try working with just a little better data. A n XOR operator. So lets create the dataset for n bit xor."
   ]
  },
  {
   "cell_type": "markdown",
   "metadata": {},
   "source": [
    "We would have atmost 2^n data point in this type of data set.BUt we would limit our dataset to a 1000 data points\n",
    "whichever is smaller.\n",
    "\n",
    "Then we can divide into training and test set"
   ]
  },
  {
   "cell_type": "code",
   "execution_count": 21,
   "metadata": {},
   "outputs": [],
   "source": [
    "\n",
    "n = 10\n",
    "max_datapoint = 10000\n",
    "datapoints = min(pow(2,n) , max_datapoint)\n",
    "\n",
    "X = np.zeros((datapoints , n) , dtype=np.int32)\n",
    "Y = np.zeros((datapoints , 1), dtype=np.int32)\n",
    "\n",
    "for i in range(datapoints):\n",
    "    tmp = i\n",
    "    y_tmp = 0\n",
    "    for j in range(n-1 , -1 , -1):\n",
    "        X[i,j] = tmp&1\n",
    "        y_tmp = y_tmp^X[i,j]\n",
    "        tmp = tmp>>1\n",
    "    Y[i] = y_tmp\n",
    "        \n",
    "        "
   ]
  },
  {
   "cell_type": "code",
   "execution_count": 22,
   "metadata": {},
   "outputs": [
    {
     "name": "stdout",
     "output_type": "stream",
     "text": [
      "[0 0 0 0 0 0 1 0 1 1] [1]\n"
     ]
    }
   ],
   "source": [
    "# for sanity check lets print one example\n",
    "ind = 11\n",
    "print(X[ind] , Y[ind])"
   ]
  },
  {
   "cell_type": "code",
   "execution_count": 23,
   "metadata": {},
   "outputs": [
    {
     "data": {
      "text/plain": [
       "(103, 1)"
      ]
     },
     "execution_count": 23,
     "metadata": {},
     "output_type": "execute_result"
    }
   ],
   "source": [
    "# Lets divide the set in training and testing\n",
    "div = 0.9\n",
    "train_n = int(div * datapoints)\n",
    "X_train = X[:train_n]\n",
    "Y_train = Y[:train_n]\n",
    "\n",
    "X_test = X[train_n:]\n",
    "Y_test = Y[train_n:]\n",
    "Y_test.shape"
   ]
  },
  {
   "cell_type": "code",
   "execution_count": 24,
   "metadata": {},
   "outputs": [
    {
     "name": "stdout",
     "output_type": "stream",
     "text": [
      "(10, 20) (20,)\n",
      "<function relu at 0x7f808e44a840>\n",
      "(20, 20) (20,)\n",
      "<function sigmoid at 0x7f808e44a620>\n",
      "(20, 15) (15,)\n",
      "<function sigmoid at 0x7f808e44a620>\n",
      "(15, 8) (8,)\n",
      "<function sigmoid at 0x7f808e44a620>\n",
      "(8, 4) (4,)\n",
      "<function tanh at 0x7f808e44a730>\n",
      "(4, 1) (1,)\n",
      "<function sigmoid at 0x7f808e44a620>\n"
     ]
    }
   ],
   "source": [
    "layer_list = [n,20,20,15,8,4,1]\n",
    "activation_list = ['relu','sigmoid','sigmoid','sigmoid','tanh','sigmoid']\n",
    "\n",
    "model = MultiLayerPerceptron(layer_list,activation_list)"
   ]
  },
  {
   "cell_type": "code",
   "execution_count": 25,
   "metadata": {},
   "outputs": [
    {
     "name": "stdout",
     "output_type": "stream",
     "text": [
      "(10, 20) (20,)\n",
      "<function relu at 0x7f808e44a840>\n",
      "(20, 20) (20,)\n",
      "<function sigmoid at 0x7f808e44a620>\n",
      "(20, 15) (15,)\n",
      "<function sigmoid at 0x7f808e44a620>\n",
      "(15, 8) (8,)\n",
      "<function sigmoid at 0x7f808e44a620>\n",
      "(8, 4) (4,)\n",
      "<function tanh at 0x7f808e44a730>\n",
      "(4, 1) (1,)\n",
      "<function sigmoid at 0x7f808e44a620>\n"
     ]
    }
   ],
   "source": [
    "layer_list = [n,20,20,15,8,4,1]\n",
    "activation_list = ['relu','sigmoid','sigmoid','sigmoid','tanh','sigmoid']\n",
    "\n",
    "model = MultiLayerPerceptron(layer_list,activation_list)"
   ]
  },
  {
   "cell_type": "code",
   "execution_count": 30,
   "metadata": {
    "scrolled": true
   },
   "outputs": [
    {
     "name": "stdout",
     "output_type": "stream",
     "text": [
      "0th EPOCH:\n",
      "Training Loss:[0.7066396]|Training Accuracy:0.500542888165038|Test Loss:[0.70335916]|Test Accuracy:0.49514563106796117\n",
      "20th EPOCH:\n",
      "Training Loss:[0.69317848]|Training Accuracy:0.49728555917481|Test Loss:[0.69307593]|Test Accuracy:0.5048543689320388\n",
      "40th EPOCH:\n",
      "Training Loss:[0.69317316]|Training Accuracy:0.49728555917481|Test Loss:[0.69305239]|Test Accuracy:0.5533980582524272\n",
      "60th EPOCH:\n",
      "Training Loss:[0.69317253]|Training Accuracy:0.49728555917481|Test Loss:[0.69305336]|Test Accuracy:0.5631067961165048\n",
      "80th EPOCH:\n",
      "Training Loss:[0.69317192]|Training Accuracy:0.49728555917481|Test Loss:[0.6930547]|Test Accuracy:0.5631067961165048\n",
      "100th EPOCH:\n",
      "Training Loss:[0.69317132]|Training Accuracy:0.495114006514658|Test Loss:[0.69305604]|Test Accuracy:0.5631067961165048\n",
      "120th EPOCH:\n",
      "Training Loss:[0.69317074]|Training Accuracy:0.496199782844734|Test Loss:[0.69305737]|Test Accuracy:0.5631067961165048\n",
      "140th EPOCH:\n",
      "Training Loss:[0.69317016]|Training Accuracy:0.496199782844734|Test Loss:[0.6930587]|Test Accuracy:0.5631067961165048\n",
      "160th EPOCH:\n",
      "Training Loss:[0.69316959]|Training Accuracy:0.49294245385450597|Test Loss:[0.69306001]|Test Accuracy:0.5631067961165048\n",
      "180th EPOCH:\n",
      "Training Loss:[0.69316904]|Training Accuracy:0.49077090119435396|Test Loss:[0.69306129]|Test Accuracy:0.5631067961165048\n",
      "200th EPOCH:\n",
      "Training Loss:[0.69316849]|Training Accuracy:0.49077090119435396|Test Loss:[0.69306258]|Test Accuracy:0.5533980582524272\n",
      "220th EPOCH:\n",
      "Training Loss:[0.69316795]|Training Accuracy:0.48859934853420195|Test Loss:[0.69306387]|Test Accuracy:0.5533980582524272\n",
      "240th EPOCH:\n",
      "Training Loss:[0.69316742]|Training Accuracy:0.48968512486427795|Test Loss:[0.69306514]|Test Accuracy:0.5436893203883495\n",
      "260th EPOCH:\n",
      "Training Loss:[0.69316689]|Training Accuracy:0.48968512486427795|Test Loss:[0.69306643]|Test Accuracy:0.5436893203883495\n",
      "280th EPOCH:\n",
      "Training Loss:[0.69316636]|Training Accuracy:0.49185667752442996|Test Loss:[0.69306776]|Test Accuracy:0.5436893203883495\n",
      "300th EPOCH:\n",
      "Training Loss:[0.69316584]|Training Accuracy:0.48968512486427795|Test Loss:[0.69306909]|Test Accuracy:0.5436893203883495\n",
      "320th EPOCH:\n",
      "Training Loss:[0.69316532]|Training Accuracy:0.48859934853420195|Test Loss:[0.6930704]|Test Accuracy:0.5436893203883495\n",
      "340th EPOCH:\n",
      "Training Loss:[0.69316483]|Training Accuracy:0.48751357220412594|Test Loss:[0.69307166]|Test Accuracy:0.5436893203883495\n",
      "360th EPOCH:\n",
      "Training Loss:[0.69316433]|Training Accuracy:0.48751357220412594|Test Loss:[0.69307295]|Test Accuracy:0.5436893203883495\n",
      "380th EPOCH:\n",
      "Training Loss:[0.69316385]|Training Accuracy:0.48859934853420195|Test Loss:[0.69307423]|Test Accuracy:0.5436893203883495\n",
      "400th EPOCH:\n",
      "Training Loss:[0.69316338]|Training Accuracy:0.48968512486427795|Test Loss:[0.6930755]|Test Accuracy:0.5436893203883495\n",
      "420th EPOCH:\n",
      "Training Loss:[0.69316292]|Training Accuracy:0.48968512486427795|Test Loss:[0.69307675]|Test Accuracy:0.5533980582524272\n",
      "440th EPOCH:\n",
      "Training Loss:[0.69316247]|Training Accuracy:0.48859934853420195|Test Loss:[0.69307803]|Test Accuracy:0.5533980582524272\n",
      "460th EPOCH:\n",
      "Training Loss:[0.69316202]|Training Accuracy:0.48859934853420195|Test Loss:[0.69307931]|Test Accuracy:0.5533980582524272\n",
      "480th EPOCH:\n",
      "Training Loss:[0.69316156]|Training Accuracy:0.48751357220412594|Test Loss:[0.69308059]|Test Accuracy:0.5533980582524272\n"
     ]
    }
   ],
   "source": [
    "train_loss_his,train_acc_his,test_loss_his,test_acc_his,epoch_his = model.train(X_train,\n",
    "                                                                                Y_train ,\n",
    "                                                                                X_test,\n",
    "                                                                                Y_test,\n",
    "                                                                                accuracy_fn=accuracy,\n",
    "                                                                                loss_function_string='mean_binary_cross_entropy',\n",
    "                                                                                epochs = 500,\n",
    "                                                                                record_at = 20,\n",
    "                                                                                learning_rate= 0.1,\n",
    "                                                                                learning_rate_decay=False)"
   ]
  },
  {
   "cell_type": "code",
   "execution_count": 31,
   "metadata": {},
   "outputs": [],
   "source": [
    "import matplotlib.pyplot as plt\n"
   ]
  },
  {
   "cell_type": "code",
   "execution_count": 32,
   "metadata": {},
   "outputs": [
    {
     "data": {
      "image/png": "[encoded data removed]",
      "text/plain": [
       "<Figure size 432x288 with 1 Axes>"
      ]
     },
     "metadata": {
      "needs_background": "light"
     },
     "output_type": "display_data"
    }
   ],
   "source": [
    "train_line, = plt.plot(epoch_his,train_loss_his,label = 'train')\n",
    "test_line, = plt.plot(epoch_his,test_loss_his,label = 'test')\n",
    "plt.xlabel('EPOCHS')\n",
    "plt.ylabel('Loss')\n",
    "plt.legend([train_line, test_line] , ['train','test'])\n",
    "plt.show()"
   ]
  },
  {
   "cell_type": "code",
   "execution_count": 33,
   "metadata": {},
   "outputs": [
    {
     "data": {
      "image/png": "[encoded data removed]",
      "text/plain": [
       "<Figure size 432x288 with 1 Axes>"
      ]
     },
     "metadata": {
      "needs_background": "light"
     },
     "output_type": "display_data"
    }
   ],
   "source": [
    "train_line, = plt.plot(epoch_his,train_acc_his,label = 'train')\n",
    "test_line, = plt.plot(epoch_his,test_acc_his,label = 'test')\n",
    "plt.xlabel('EPOCHS')\n",
    "plt.ylabel('Accuracy')\n",
    "plt.legend([train_line, test_line] , ['train','test'])\n",
    "plt.show()\n",
    "plt.show()"
   ]
  },
  {
   "cell_type": "code",
   "execution_count": null,
   "metadata": {},
   "outputs": [],
   "source": []
  }
 ],
 "metadata": {
  "kernelspec": {
   "display_name": "Python 3",
   "language": "python",
   "name": "python3"
  },
  "language_info": {
   "codemirror_mode": {
    "name": "ipython",
    "version": 3
   },
   "file_extension": ".py",
   "mimetype": "text/x-python",
   "name": "python",
   "nbconvert_exporter": "python",
   "pygments_lexer": "ipython3",
   "version": "3.6.7"
  }
 },
 "nbformat": 4,
 "nbformat_minor": 2
}
