{
 "cells": [
  {
   "cell_type": "markdown",
   "metadata": {},
   "source": [
    "# Perceptron\n",
    "\n"
   ]
  },
  {
   "cell_type": "code",
   "execution_count": 1,
   "metadata": {},
   "outputs": [
    {
     "data": {
      "text/plain": [
       "{'divide': 'warn', 'over': 'warn', 'under': 'ignore', 'invalid': 'warn'}"
      ]
     },
     "execution_count": 1,
     "metadata": {},
     "output_type": "execute_result"
    }
   ],
   "source": [
    "import numpy as np\n",
    "import matplotlib.pyplot as plt\n",
    "import pandas as pd\n",
    "np.seterr('ignore')"
   ]
  },
  {
   "cell_type": "code",
   "execution_count": 2,
   "metadata": {},
   "outputs": [],
   "source": [
    "from MultiLayerPerceptron import MultiLayerPerceptron"
   ]
  },
  {
   "cell_type": "markdown",
   "metadata": {},
   "source": [
    "# Important Functions"
   ]
  },
  {
   "cell_type": "code",
   "execution_count": 3,
   "metadata": {},
   "outputs": [],
   "source": [
    "def plot_loss(epoch_his, train_loss_his, test_loss_his):\n",
    "    train_line, = plt.plot(epoch_his,train_loss_his,label = 'train')\n",
    "    test_line, = plt.plot(epoch_his,test_loss_his,label = 'test')\n",
    "    plt.xlabel('EPOCHS')\n",
    "    plt.ylabel('Loss')\n",
    "    plt.legend([train_line, test_line] , ['train','test'])\n",
    "    plt.show()"
   ]
  },
  {
   "cell_type": "code",
   "execution_count": 4,
   "metadata": {},
   "outputs": [],
   "source": [
    "def plot_accuracy(epoch_his, train_acc_his, test_acc_his):\n",
    "    train_line, = plt.plot(epoch_his,train_acc_his,label = 'train')\n",
    "    test_line, = plt.plot(epoch_his,test_acc_his,label = 'test')\n",
    "    plt.xlabel('EPOCHS')\n",
    "    plt.ylabel('Accuracy')\n",
    "    plt.legend([train_line, test_line] , ['train','test'])\n",
    "    plt.show()"
   ]
  },
  {
   "cell_type": "markdown",
   "metadata": {},
   "source": [
    "# Perceptron Network"
   ]
  },
  {
   "cell_type": "code",
   "execution_count": 5,
   "metadata": {},
   "outputs": [],
   "source": [
    "# Testing the Neural Network for predicting XOR function"
   ]
  },
  {
   "cell_type": "code",
   "execution_count": 6,
   "metadata": {},
   "outputs": [],
   "source": [
    "#############################################\n",
    "## Declaring Training Data        ############\n",
    "#############################################\n",
    "X_train = np.array([[0,0],[1,0],[0,1],[1,1]])\n",
    "Y_train = np.array([[1],[0],[0],[0]])"
   ]
  },
  {
   "cell_type": "code",
   "execution_count": 7,
   "metadata": {},
   "outputs": [
    {
     "name": "stdout",
     "output_type": "stream",
     "text": [
      "(2, 1) (1,)\n",
      "<function sigmoid at 0x7f84d949c268>\n"
     ]
    }
   ],
   "source": [
    "# Declare a neuron with shape of weights as [shape_of_input,1]\n",
    "model = MultiLayerPerceptron([2,1],['sigmoid'])"
   ]
  },
  {
   "cell_type": "code",
   "execution_count": 8,
   "metadata": {},
   "outputs": [],
   "source": [
    "# testing the model outputs\n",
    "pred , _ = model.forward(X_train)\n",
    "# print(np.sum((pred > 0.5)== Y_train) / Y_train.shape[0])\n",
    "# accuracy(model , X_train,Y_train)\n",
    "# X_train[0]"
   ]
  },
  {
   "cell_type": "code",
   "execution_count": 9,
   "metadata": {},
   "outputs": [
    {
     "name": "stdout",
     "output_type": "stream",
     "text": [
      "The loss is [0.19074741]\n",
      "And the error to be back propogated is:\n",
      " [[-0.125     ]\n",
      " [ 0.14438052]\n",
      " [ 0.16301045]\n",
      " [ 0.17980702]]\n"
     ]
    }
   ],
   "source": [
    "# Checking for testing purposes(BCE should be used here ideally)\n",
    "from Loss import mean_abs_error,mean_square_error\n",
    "loss,d_back = mean_square_error(pred,Y_train)\n",
    "print(\"The loss is {}\\nAnd the error to be back propogated is:\\n {}\".format(loss , d_back))"
   ]
  },
  {
   "cell_type": "code",
   "execution_count": 10,
   "metadata": {},
   "outputs": [
    {
     "name": "stdout",
     "output_type": "stream",
     "text": [
      "The loss is [0.97016268]\n",
      "And the error to be back propogated is:\n",
      " [[-0.5       ]\n",
      " [ 0.59174688]\n",
      " [ 0.71847712]\n",
      " [ 0.89040237]]\n"
     ]
    }
   ],
   "source": [
    "from Loss import binary_cross_entropy\n",
    "loss,d_back = binary_cross_entropy(pred,Y_train)\n",
    "print(\"The loss is {}\\nAnd the error to be back propogated is:\\n {}\".format(loss , d_back))"
   ]
  },
  {
   "cell_type": "code",
   "execution_count": 11,
   "metadata": {
    "scrolled": true
   },
   "outputs": [
    {
     "name": "stdout",
     "output_type": "stream",
     "text": [
      "(2, 3) (3,)\n",
      "<function sigmoid at 0x7f84d949c268>\n",
      "(3, 1) (1,)\n",
      "<function sigmoid at 0x7f84d949c268>\n",
      "0th EPOCH:\n",
      "Training Loss:[0.81572632]|Training Accuracy:0.25|Test Loss:[0.77967229]|Test Accuracy:0.25\n",
      "10th EPOCH:\n",
      "Training Loss:[0.59801544]|Training Accuracy:0.75|Test Loss:[0.58784976]|Test Accuracy:0.75\n",
      "20th EPOCH:\n",
      "Training Loss:[0.53582562]|Training Accuracy:0.75|Test Loss:[0.53280076]|Test Accuracy:0.75\n",
      "30th EPOCH:\n",
      "Training Loss:[0.51676465]|Training Accuracy:0.75|Test Loss:[0.51577579]|Test Accuracy:0.75\n",
      "40th EPOCH:\n",
      "Training Loss:[0.51005707]|Training Accuracy:0.75|Test Loss:[0.50963615]|Test Accuracy:0.75\n",
      "50th EPOCH:\n",
      "Training Loss:[0.50650943]|Training Accuracy:0.75|Test Loss:[0.50618949]|Test Accuracy:0.75\n",
      "60th EPOCH:\n",
      "Training Loss:[0.50313451]|Training Accuracy:0.75|Test Loss:[0.50276045]|Test Accuracy:0.75\n",
      "70th EPOCH:\n",
      "Training Loss:[0.49895053]|Training Accuracy:0.75|Test Loss:[0.49847376]|Test Accuracy:0.75\n",
      "80th EPOCH:\n",
      "Training Loss:[0.4936739]|Training Accuracy:0.75|Test Loss:[0.49308373]|Test Accuracy:0.75\n",
      "90th EPOCH:\n",
      "Training Loss:[0.48726835]|Training Accuracy:0.75|Test Loss:[0.48656718]|Test Accuracy:0.75\n",
      "100th EPOCH:\n",
      "Training Loss:[0.47977981]|Training Accuracy:0.75|Test Loss:[0.47897395]|Test Accuracy:0.75\n",
      "110th EPOCH:\n",
      "Training Loss:[0.47127566]|Training Accuracy:0.75|Test Loss:[0.47037205]|Test Accuracy:0.75\n",
      "120th EPOCH:\n",
      "Training Loss:[0.46182445]|Training Accuracy:0.75|Test Loss:[0.46082978]|Test Accuracy:0.75\n",
      "130th EPOCH:\n",
      "Training Loss:[0.45149177]|Training Accuracy:0.75|Test Loss:[0.4504125]|Test Accuracy:0.75\n",
      "140th EPOCH:\n",
      "Training Loss:[0.44034233]|Training Accuracy:0.75|Test Loss:[0.43918503]|Test Accuracy:0.75\n",
      "150th EPOCH:\n",
      "Training Loss:[0.42844395]|Training Accuracy:0.75|Test Loss:[0.42721572]|Test Accuracy:0.75\n",
      "160th EPOCH:\n",
      "Training Loss:[0.41587149]|Training Accuracy:0.75|Test Loss:[0.41458034]|Test Accuracy:0.75\n",
      "170th EPOCH:\n",
      "Training Loss:[0.40270985]|Training Accuracy:0.75|Test Loss:[0.40136488]|Test Accuracy:0.75\n",
      "180th EPOCH:\n",
      "Training Loss:[0.38905526]|Training Accuracy:0.75|Test Loss:[0.38766673]|Test Accuracy:0.75\n",
      "190th EPOCH:\n",
      "Training Loss:[0.37501486]|Training Accuracy:0.75|Test Loss:[0.373594]|Test Accuracy:0.75\n",
      "200th EPOCH:\n",
      "Training Loss:[0.36070448]|Training Accuracy:0.75|Test Loss:[0.35926323]|Test Accuracy:0.75\n",
      "210th EPOCH:\n",
      "Training Loss:[0.34624492]|Training Accuracy:0.75|Test Loss:[0.34479544]|Test Accuracy:0.75\n",
      "220th EPOCH:\n",
      "Training Loss:[0.33175725]|Training Accuracy:0.75|Test Loss:[0.33031149]|Test Accuracy:0.75\n",
      "230th EPOCH:\n",
      "Training Loss:[0.3173579]|Training Accuracy:0.75|Test Loss:[0.31592705]|Test Accuracy:0.75\n",
      "240th EPOCH:\n",
      "Training Loss:[0.30315399]|Training Accuracy:0.75|Test Loss:[0.30174811]|Test Accuracy:0.75\n",
      "250th EPOCH:\n",
      "Training Loss:[0.28923972]|Training Accuracy:0.75|Test Loss:[0.2878674]|Test Accuracy:0.75\n",
      "260th EPOCH:\n",
      "Training Loss:[0.275694]|Training Accuracy:0.75|Test Loss:[0.27436225]|Test Accuracy:0.75\n",
      "270th EPOCH:\n",
      "Training Loss:[0.26257951]|Training Accuracy:0.75|Test Loss:[0.26129371]|Test Accuracy:0.75\n",
      "280th EPOCH:\n",
      "Training Loss:[0.24994302]|Training Accuracy:0.75|Test Loss:[0.24870702]|Test Accuracy:0.75\n",
      "290th EPOCH:\n",
      "Training Loss:[0.23781667]|Training Accuracy:0.75|Test Loss:[0.23663294]|Test Accuracy:0.75\n",
      "300th EPOCH:\n",
      "Training Loss:[0.22621983]|Training Accuracy:0.75|Test Loss:[0.22508969]|Test Accuracy:0.75\n",
      "310th EPOCH:\n",
      "Training Loss:[0.21516126]|Training Accuracy:1.0|Test Loss:[0.21408509]|Test Accuracy:1.0\n",
      "320th EPOCH:\n",
      "Training Loss:[0.20464125]|Training Accuracy:1.0|Test Loss:[0.20361868]|Test Accuracy:1.0\n",
      "330th EPOCH:\n",
      "Training Loss:[0.19465353]|Training Accuracy:1.0|Test Loss:[0.19368363]|Test Accuracy:1.0\n",
      "340th EPOCH:\n",
      "Training Loss:[0.18518693]|Training Accuracy:1.0|Test Loss:[0.18426839]|Test Accuracy:1.0\n",
      "350th EPOCH:\n",
      "Training Loss:[0.17622676]|Training Accuracy:1.0|Test Loss:[0.17535795]|Test Accuracy:1.0\n",
      "360th EPOCH:\n",
      "Training Loss:[0.1677558]|Training Accuracy:1.0|Test Loss:[0.1669349]|Test Accuracy:1.0\n",
      "370th EPOCH:\n",
      "Training Loss:[0.15975516]|Training Accuracy:1.0|Test Loss:[0.1589802]|Test Accuracy:1.0\n",
      "380th EPOCH:\n",
      "Training Loss:[0.15220484]|Training Accuracy:1.0|Test Loss:[0.15147379]|Test Accuracy:1.0\n",
      "390th EPOCH:\n",
      "Training Loss:[0.14508425]|Training Accuracy:1.0|Test Loss:[0.14439503]|Test Accuracy:1.0\n",
      "400th EPOCH:\n",
      "Training Loss:[0.13837252]|Training Accuracy:1.0|Test Loss:[0.13772303]|Test Accuracy:1.0\n",
      "410th EPOCH:\n",
      "Training Loss:[0.13204878]|Training Accuracy:1.0|Test Loss:[0.13143695]|Test Accuracy:1.0\n",
      "420th EPOCH:\n",
      "Training Loss:[0.12609239]|Training Accuracy:1.0|Test Loss:[0.12551617]|Test Accuracy:1.0\n",
      "430th EPOCH:\n",
      "Training Loss:[0.12048309]|Training Accuracy:1.0|Test Loss:[0.11994048]|Test Accuracy:1.0\n",
      "440th EPOCH:\n",
      "Training Loss:[0.11520114]|Training Accuracy:1.0|Test Loss:[0.1146902]|Test Accuracy:1.0\n",
      "450th EPOCH:\n",
      "Training Loss:[0.11022742]|Training Accuracy:1.0|Test Loss:[0.10974629]|Test Accuracy:1.0\n",
      "460th EPOCH:\n",
      "Training Loss:[0.10554353]|Training Accuracy:1.0|Test Loss:[0.10509039]|Test Accuracy:1.0\n",
      "470th EPOCH:\n",
      "Training Loss:[0.10113182]|Training Accuracy:1.0|Test Loss:[0.10070496]|Test Accuracy:1.0\n",
      "480th EPOCH:\n",
      "Training Loss:[0.09697545]|Training Accuracy:1.0|Test Loss:[0.09657323]|Test Accuracy:1.0\n",
      "490th EPOCH:\n",
      "Training Loss:[0.09305841]|Training Accuracy:1.0|Test Loss:[0.09267928]|Test Accuracy:1.0\n",
      "500th EPOCH:\n",
      "Training Loss:[0.08936554]|Training Accuracy:1.0|Test Loss:[0.08900802]|Test Accuracy:1.0\n",
      "510th EPOCH:\n",
      "Training Loss:[0.08588251]|Training Accuracy:1.0|Test Loss:[0.08554522]|Test Accuracy:1.0\n",
      "520th EPOCH:\n",
      "Training Loss:[0.08259581]|Training Accuracy:1.0|Test Loss:[0.08227744]|Test Accuracy:1.0\n",
      "530th EPOCH:\n",
      "Training Loss:[0.07949277]|Training Accuracy:1.0|Test Loss:[0.0791921]|Test Accuracy:1.0\n",
      "540th EPOCH:\n",
      "Training Loss:[0.07656149]|Training Accuracy:1.0|Test Loss:[0.07627737]|Test Accuracy:1.0\n",
      "550th EPOCH:\n",
      "Training Loss:[0.07379082]|Training Accuracy:1.0|Test Loss:[0.07352218]|Test Accuracy:1.0\n",
      "560th EPOCH:\n",
      "Training Loss:[0.07117036]|Training Accuracy:1.0|Test Loss:[0.0709162]|Test Accuracy:1.0\n",
      "570th EPOCH:\n",
      "Training Loss:[0.06869038]|Training Accuracy:1.0|Test Loss:[0.06844976]|Test Accuracy:1.0\n",
      "580th EPOCH:\n",
      "Training Loss:[0.06634182]|Training Accuracy:1.0|Test Loss:[0.06611386]|Test Accuracy:1.0\n",
      "590th EPOCH:\n",
      "Training Loss:[0.06411621]|Training Accuracy:1.0|Test Loss:[0.0639001]|Test Accuracy:1.0\n",
      "600th EPOCH:\n",
      "Training Loss:[0.06200569]|Training Accuracy:1.0|Test Loss:[0.06180069]|Test Accuracy:1.0\n",
      "610th EPOCH:\n",
      "Training Loss:[0.06000294]|Training Accuracy:1.0|Test Loss:[0.05980833]|Test Accuracy:1.0\n",
      "620th EPOCH:\n",
      "Training Loss:[0.05810113]|Training Accuracy:1.0|Test Loss:[0.05791626]|Test Accuracy:1.0\n",
      "630th EPOCH:\n",
      "Training Loss:[0.05629393]|Training Accuracy:1.0|Test Loss:[0.05611818]|Test Accuracy:1.0\n",
      "640th EPOCH:\n",
      "Training Loss:[0.05457543]|Training Accuracy:1.0|Test Loss:[0.05440825]|Test Accuracy:1.0\n",
      "650th EPOCH:\n",
      "Training Loss:[0.05294015]|Training Accuracy:1.0|Test Loss:[0.052781]|Test Accuracy:1.0\n",
      "660th EPOCH:\n",
      "Training Loss:[0.05138298]|Training Accuracy:1.0|Test Loss:[0.05123138]|Test Accuracy:1.0\n",
      "670th EPOCH:\n",
      "Training Loss:[0.04989918]|Training Accuracy:1.0|Test Loss:[0.04975466]|Test Accuracy:1.0\n",
      "680th EPOCH:\n",
      "Training Loss:[0.04848433]|Training Accuracy:1.0|Test Loss:[0.04834648]|Test Accuracy:1.0\n",
      "690th EPOCH:\n",
      "Training Loss:[0.04713432]|Training Accuracy:1.0|Test Loss:[0.04700273]|Test Accuracy:1.0\n",
      "700th EPOCH:\n",
      "Training Loss:[0.04584531]|Training Accuracy:1.0|Test Loss:[0.04571962]|Test Accuracy:1.0\n",
      "710th EPOCH:\n",
      "Training Loss:[0.04461374]|Training Accuracy:1.0|Test Loss:[0.04449362]|Test Accuracy:1.0\n",
      "720th EPOCH:\n",
      "Training Loss:[0.0434363]|Training Accuracy:1.0|Test Loss:[0.04332141]|Test Accuracy:1.0\n",
      "730th EPOCH:\n",
      "Training Loss:[0.04230988]|Training Accuracy:1.0|Test Loss:[0.04219993]|Test Accuracy:1.0\n",
      "740th EPOCH:\n",
      "Training Loss:[0.04123159]|Training Accuracy:1.0|Test Loss:[0.0411263]|Test Accuracy:1.0\n",
      "750th EPOCH:\n",
      "Training Loss:[0.04019874]|Training Accuracy:1.0|Test Loss:[0.04009786]|Test Accuracy:1.0\n",
      "760th EPOCH:\n",
      "Training Loss:[0.03920881]|Training Accuracy:1.0|Test Loss:[0.03911209]|Test Accuracy:1.0\n",
      "770th EPOCH:\n",
      "Training Loss:[0.03825945]|Training Accuracy:1.0|Test Loss:[0.03816666]|Test Accuracy:1.0\n",
      "780th EPOCH:\n",
      "Training Loss:[0.03734847]|Training Accuracy:1.0|Test Loss:[0.0372594]|Test Accuracy:1.0\n",
      "790th EPOCH:\n",
      "Training Loss:[0.0364738]|Training Accuracy:1.0|Test Loss:[0.03638825]|Test Accuracy:1.0\n",
      "800th EPOCH:\n",
      "Training Loss:[0.03563352]|Training Accuracy:1.0|Test Loss:[0.03555132]|Test Accuracy:1.0\n",
      "810th EPOCH:\n",
      "Training Loss:[0.03482584]|Training Accuracy:1.0|Test Loss:[0.0347468]|Test Accuracy:1.0\n",
      "820th EPOCH:\n",
      "Training Loss:[0.03404907]|Training Accuracy:1.0|Test Loss:[0.03397303]|Test Accuracy:1.0\n",
      "830th EPOCH:\n",
      "Training Loss:[0.03330162]|Training Accuracy:1.0|Test Loss:[0.03322843]|Test Accuracy:1.0\n"
     ]
    },
    {
     "name": "stdout",
     "output_type": "stream",
     "text": [
      "840th EPOCH:\n",
      "Training Loss:[0.03258201]|Training Accuracy:1.0|Test Loss:[0.03251153]|Test Accuracy:1.0\n",
      "850th EPOCH:\n",
      "Training Loss:[0.03188885]|Training Accuracy:1.0|Test Loss:[0.03182094]|Test Accuracy:1.0\n",
      "860th EPOCH:\n",
      "Training Loss:[0.03122083]|Training Accuracy:1.0|Test Loss:[0.03115537]|Test Accuracy:1.0\n",
      "870th EPOCH:\n",
      "Training Loss:[0.03057673]|Training Accuracy:1.0|Test Loss:[0.03051359]|Test Accuracy:1.0\n",
      "880th EPOCH:\n",
      "Training Loss:[0.02995538]|Training Accuracy:1.0|Test Loss:[0.02989445]|Test Accuracy:1.0\n",
      "890th EPOCH:\n",
      "Training Loss:[0.0293557]|Training Accuracy:1.0|Test Loss:[0.02929688]|Test Accuracy:1.0\n",
      "900th EPOCH:\n",
      "Training Loss:[0.02877666]|Training Accuracy:1.0|Test Loss:[0.02871986]|Test Accuracy:1.0\n",
      "910th EPOCH:\n",
      "Training Loss:[0.02821731]|Training Accuracy:1.0|Test Loss:[0.02816242]|Test Accuracy:1.0\n",
      "920th EPOCH:\n",
      "Training Loss:[0.02767673]|Training Accuracy:1.0|Test Loss:[0.02762367]|Test Accuracy:1.0\n",
      "930th EPOCH:\n",
      "Training Loss:[0.02715406]|Training Accuracy:1.0|Test Loss:[0.02710274]|Test Accuracy:1.0\n",
      "940th EPOCH:\n",
      "Training Loss:[0.0266485]|Training Accuracy:1.0|Test Loss:[0.02659885]|Test Accuracy:1.0\n",
      "950th EPOCH:\n",
      "Training Loss:[0.02615927]|Training Accuracy:1.0|Test Loss:[0.02611122]|Test Accuracy:1.0\n",
      "960th EPOCH:\n",
      "Training Loss:[0.02568567]|Training Accuracy:1.0|Test Loss:[0.02563914]|Test Accuracy:1.0\n",
      "970th EPOCH:\n",
      "Training Loss:[0.025227]|Training Accuracy:1.0|Test Loss:[0.02518193]|Test Accuracy:1.0\n",
      "980th EPOCH:\n",
      "Training Loss:[0.02478263]|Training Accuracy:1.0|Test Loss:[0.02473895]|Test Accuracy:1.0\n",
      "990th EPOCH:\n",
      "Training Loss:[0.02435194]|Training Accuracy:1.0|Test Loss:[0.0243096]|Test Accuracy:1.0\n"
     ]
    }
   ],
   "source": [
    "# Now we can train the model by iteratively on each datapoint.\n",
    "\n",
    "layer_list = [2,3,1]\n",
    "activation_list = ['sigmoid','sigmoid']\n",
    "model = MultiLayerPerceptron(layer_list,activation_list)\n",
    "\n",
    "\n",
    "_=model.train(X_train,\n",
    "            Y_train,\n",
    "            X_train,\n",
    "            Y_train,\n",
    "            metric ='accuracy_binary',\n",
    "            loss_function_string='binary_cross_entropy',\n",
    "            epochs=1000,\n",
    "            record_at=10)"
   ]
  },
  {
   "cell_type": "code",
   "execution_count": 12,
   "metadata": {},
   "outputs": [
    {
     "data": {
      "text/plain": [
       "1.0"
      ]
     },
     "execution_count": 12,
     "metadata": {},
     "output_type": "execute_result"
    }
   ],
   "source": [
    "# Now we can predict the values for unseen data or trained data also\n",
    "# We can also calculate the accuracy of the model we have trained\n",
    "model.metric_function(X_train,Y_train,metric='accuracy_binary')"
   ]
  },
  {
   "cell_type": "markdown",
   "metadata": {},
   "source": [
    "# N Bit XOR"
   ]
  },
  {
   "cell_type": "markdown",
   "metadata": {},
   "source": [
    "Now Lets try working with just a little better data. A n XOR operator. So lets create the dataset for n bit xor."
   ]
  },
  {
   "cell_type": "markdown",
   "metadata": {},
   "source": [
    "We would have atmost 2^n data point in this type of data set.But we would limit our dataset to a 1000 data points\n",
    "whichever is smaller.\n",
    "\n",
    "Then we can divide into training and test set"
   ]
  },
  {
   "cell_type": "code",
   "execution_count": 14,
   "metadata": {},
   "outputs": [],
   "source": [
    "n = 10\n",
    "max_datapoint = 10000\n",
    "datapoints = min(pow(2,n) , max_datapoint)\n",
    "\n",
    "X = np.zeros((datapoints , n) , dtype=np.int32)\n",
    "Y = np.zeros((datapoints , 1), dtype=np.int32)\n",
    "\n",
    "for i in range(datapoints):\n",
    "    tmp = i\n",
    "    y_tmp = 0\n",
    "    for j in range(n-1 , -1 , -1):\n",
    "        X[i,j] = tmp&1\n",
    "        y_tmp = y_tmp^X[i,j]\n",
    "        tmp = tmp>>1\n",
    "    Y[i] = y_tmp"
   ]
  },
  {
   "cell_type": "code",
   "execution_count": 15,
   "metadata": {},
   "outputs": [
    {
     "name": "stdout",
     "output_type": "stream",
     "text": [
      "[0 0 0 0 0 0 1 0 1 1] [1]\n"
     ]
    }
   ],
   "source": [
    "# for sanity check lets print one example\n",
    "ind = 11\n",
    "print(X[ind] , Y[ind])"
   ]
  },
  {
   "cell_type": "code",
   "execution_count": 16,
   "metadata": {},
   "outputs": [
    {
     "data": {
      "text/plain": [
       "(103, 1)"
      ]
     },
     "execution_count": 16,
     "metadata": {},
     "output_type": "execute_result"
    }
   ],
   "source": [
    "# Lets divide the set in training and testing\n",
    "div = 0.9\n",
    "train_n = int(div * datapoints)\n",
    "X_train = X[:train_n]\n",
    "Y_train = Y[:train_n]\n",
    "\n",
    "X_test = X[train_n:]\n",
    "Y_test = Y[train_n:]\n",
    "Y_test.shape"
   ]
  },
  {
   "cell_type": "code",
   "execution_count": 17,
   "metadata": {},
   "outputs": [
    {
     "name": "stdout",
     "output_type": "stream",
     "text": [
      "(10, 20) (20,)\n",
      "<function relu at 0x7f84b07d9a60>\n",
      "(20, 20) (20,)\n",
      "<function sigmoid at 0x7f84d949c268>\n",
      "(20, 15) (15,)\n",
      "<function sigmoid at 0x7f84d949c268>\n",
      "(15, 8) (8,)\n",
      "<function sigmoid at 0x7f84d949c268>\n",
      "(8, 4) (4,)\n",
      "<function sigmoid at 0x7f84d949c268>\n",
      "(4, 1) (1,)\n",
      "<function sigmoid at 0x7f84d949c268>\n"
     ]
    }
   ],
   "source": [
    "layer_list = [n,20,20,15,8,4,1]\n",
    "activation_list = ['relu','sigmoid','sigmoid','sigmoid','sigmoid','sigmoid']\n",
    "\n",
    "model = MultiLayerPerceptron(layer_list,activation_list)"
   ]
  },
  {
   "cell_type": "code",
   "execution_count": 18,
   "metadata": {
    "scrolled": true
   },
   "outputs": [
    {
     "name": "stdout",
     "output_type": "stream",
     "text": [
      "0th EPOCH:\n",
      "Training Loss:[1.23714499]|Training Accuracy:0.500542888165038|Test Loss:[0.96836456]|Test Accuracy:0.49514563106796117\n",
      "10th EPOCH:\n",
      "Training Loss:[0.69315411]|Training Accuracy:0.500542888165038|Test Loss:[0.69318331]|Test Accuracy:0.49514563106796117\n",
      "20th EPOCH:\n",
      "Training Loss:[0.69314659]|Training Accuracy:0.500542888165038|Test Loss:[0.69315836]|Test Accuracy:0.49514563106796117\n",
      "30th EPOCH:\n",
      "Training Loss:[0.69314659]|Training Accuracy:0.500542888165038|Test Loss:[0.69315831]|Test Accuracy:0.49514563106796117\n",
      "40th EPOCH:\n",
      "Training Loss:[0.69314659]|Training Accuracy:0.500542888165038|Test Loss:[0.69315831]|Test Accuracy:0.49514563106796117\n",
      "50th EPOCH:\n",
      "Training Loss:[0.69314659]|Training Accuracy:0.500542888165038|Test Loss:[0.69315831]|Test Accuracy:0.49514563106796117\n",
      "60th EPOCH:\n",
      "Training Loss:[0.69314659]|Training Accuracy:0.500542888165038|Test Loss:[0.69315831]|Test Accuracy:0.49514563106796117\n",
      "70th EPOCH:\n",
      "Training Loss:[0.69314659]|Training Accuracy:0.500542888165038|Test Loss:[0.69315831]|Test Accuracy:0.49514563106796117\n",
      "80th EPOCH:\n",
      "Training Loss:[0.69314659]|Training Accuracy:0.500542888165038|Test Loss:[0.69315831]|Test Accuracy:0.49514563106796117\n",
      "90th EPOCH:\n",
      "Training Loss:[0.69314659]|Training Accuracy:0.500542888165038|Test Loss:[0.69315831]|Test Accuracy:0.49514563106796117\n",
      "100th EPOCH:\n",
      "Training Loss:[0.69314659]|Training Accuracy:0.500542888165038|Test Loss:[0.69315831]|Test Accuracy:0.49514563106796117\n",
      "110th EPOCH:\n",
      "Training Loss:[0.69314659]|Training Accuracy:0.500542888165038|Test Loss:[0.69315831]|Test Accuracy:0.49514563106796117\n",
      "120th EPOCH:\n",
      "Training Loss:[0.69314659]|Training Accuracy:0.500542888165038|Test Loss:[0.69315831]|Test Accuracy:0.49514563106796117\n",
      "130th EPOCH:\n",
      "Training Loss:[0.69314659]|Training Accuracy:0.500542888165038|Test Loss:[0.69315831]|Test Accuracy:0.49514563106796117\n",
      "140th EPOCH:\n",
      "Training Loss:[0.69314659]|Training Accuracy:0.500542888165038|Test Loss:[0.69315831]|Test Accuracy:0.49514563106796117\n",
      "150th EPOCH:\n",
      "Training Loss:[0.69314659]|Training Accuracy:0.500542888165038|Test Loss:[0.69315831]|Test Accuracy:0.49514563106796117\n",
      "160th EPOCH:\n",
      "Training Loss:[0.69314659]|Training Accuracy:0.500542888165038|Test Loss:[0.69315831]|Test Accuracy:0.49514563106796117\n",
      "170th EPOCH:\n",
      "Training Loss:[0.69314659]|Training Accuracy:0.500542888165038|Test Loss:[0.69315831]|Test Accuracy:0.49514563106796117\n",
      "180th EPOCH:\n",
      "Training Loss:[0.69314659]|Training Accuracy:0.500542888165038|Test Loss:[0.69315831]|Test Accuracy:0.49514563106796117\n",
      "190th EPOCH:\n",
      "Training Loss:[0.69314659]|Training Accuracy:0.500542888165038|Test Loss:[0.69315831]|Test Accuracy:0.49514563106796117\n"
     ]
    }
   ],
   "source": [
    "train_loss_his,train_acc_his,test_loss_his,test_acc_his,epoch_his = model.train(X_train,\n",
    "                                                                                Y_train ,\n",
    "                                                                                X_test,\n",
    "                                                                                Y_test,\n",
    "                                                                                metric='accuracy_binary',\n",
    "                                                                                loss_function_string='binary_cross_entropy',\n",
    "                                                                                epochs = 200,\n",
    "                                                                                record_at = 10,\n",
    "                                                                                learning_rate= 0.1,\n",
    "                                                                                learning_rate_decay=False)"
   ]
  },
  {
   "cell_type": "code",
   "execution_count": 19,
   "metadata": {},
   "outputs": [
    {
     "data": {
      "image/png": "[encoded data removed]",
      "text/plain": [
       "<Figure size 432x288 with 1 Axes>"
      ]
     },
     "metadata": {
      "needs_background": "light"
     },
     "output_type": "display_data"
    },
    {
     "data": {
      "image/png": "[encoded data removed]",
      "text/plain": [
       "<Figure size 432x288 with 1 Axes>"
      ]
     },
     "metadata": {
      "needs_background": "light"
     },
     "output_type": "display_data"
    }
   ],
   "source": [
    "plot_loss(epoch_his,train_loss_his,test_loss_his)\n",
    "plot_accuracy(epoch_his,train_acc_his,test_acc_his)"
   ]
  },
  {
   "cell_type": "markdown",
   "metadata": {},
   "source": [
    "# Simple Multiclass classification dataset"
   ]
  },
  {
   "cell_type": "code",
   "execution_count": 20,
   "metadata": {},
   "outputs": [
    {
     "data": {
      "image/png": "[encoded data removed]",
      "text/plain": [
       "<Figure size 432x288 with 1 Axes>"
      ]
     },
     "metadata": {
      "needs_background": "light"
     },
     "output_type": "display_data"
    }
   ],
   "source": [
    "xcoords1 = [1,1,1,1,1]\n",
    "xcoords2 = [2,2,2,2,2]\n",
    "xcoords3 = [3,3,3,3,3]\n",
    "ycoords = [1,2,3,4,5]\n",
    "plt.plot(xcoords1, ycoords, label='class 1',marker='o')\n",
    "plt.plot(xcoords2, ycoords, label='class 2',marker='s')\n",
    "plt.plot(xcoords3, ycoords, label='class 3',marker='D')\n",
    "plt.legend(loc='best')\n",
    "plt.show()"
   ]
  },
  {
   "cell_type": "code",
   "execution_count": 21,
   "metadata": {},
   "outputs": [],
   "source": [
    "#Making the dataset\n",
    "dataset = [[i,j] for i in range(1,6) for j in range(1,4)]\n",
    "labels = [[1,0,0],[0,1,0],[0,0,1],[1,0,0],[0,1,0],[0,0,1],[1,0,0],[0,1,0],[0,0,1],[1,0,0],[0,1,0],[0,0,1],[1,0,0],[0,1,0],[0,0,1]]"
   ]
  },
  {
   "cell_type": "code",
   "execution_count": 22,
   "metadata": {},
   "outputs": [],
   "source": [
    "div = 0.8\n",
    "N = len(dataset)\n",
    "X_train = np.array(dataset[:int(div*N)])\n",
    "Y_train = np.array(labels[:int(div*N)])\n",
    "X_test = np.array(dataset[int(div*N):])\n",
    "Y_test = np.array(labels[int(div*N):])"
   ]
  },
  {
   "cell_type": "code",
   "execution_count": 23,
   "metadata": {},
   "outputs": [
    {
     "name": "stdout",
     "output_type": "stream",
     "text": [
      "(2, 6) (6,)\n",
      "<function sigmoid at 0x7f84d949c268>\n",
      "(6, 3) (3,)\n",
      "<function linear at 0x7f84b07d9c80>\n"
     ]
    }
   ],
   "source": [
    "layer_list = [2,6,3]#,8,8,8,6,3]\n",
    "activation_list = ['sigmoid','linear']#,'relu','relu','relu','relu']\n",
    "model = MultiLayerPerceptron(layer_list,activation_list)"
   ]
  },
  {
   "cell_type": "code",
   "execution_count": 24,
   "metadata": {},
   "outputs": [
    {
     "name": "stdout",
     "output_type": "stream",
     "text": [
      "0th EPOCH:\n",
      "Training Loss:1.000000082745371e-11|Training Accuracy:0.3333333333333333|Test Loss:25.3284360229345|Test Accuracy:0.3333333333333333\n",
      "10th EPOCH:\n",
      "Training Loss:0.8505599245477117|Training Accuracy:0.5|Test Loss:1.0009034538751573|Test Accuracy:0.3333333333333333\n",
      "20th EPOCH:\n",
      "Training Loss:0.5481239944839403|Training Accuracy:0.6666666666666666|Test Loss:0.6590635103734606|Test Accuracy:0.6666666666666666\n",
      "30th EPOCH:\n",
      "Training Loss:0.5123832749885671|Training Accuracy:0.8333333333333334|Test Loss:0.4923628983056804|Test Accuracy:0.6666666666666666\n",
      "40th EPOCH:\n",
      "Training Loss:0.5116765475517989|Training Accuracy:0.9166666666666666|Test Loss:0.48561313022116864|Test Accuracy:0.6666666666666666\n",
      "50th EPOCH:\n",
      "Training Loss:2.8274247522569524|Training Accuracy:0.5833333333333334|Test Loss:0.5542726251731007|Test Accuracy:1.0\n",
      "60th EPOCH:\n",
      "Training Loss:0.4310913043939569|Training Accuracy:1.0|Test Loss:0.4039148659417468|Test Accuracy:1.0\n",
      "70th EPOCH:\n",
      "Training Loss:0.44045264061090966|Training Accuracy:1.0|Test Loss:0.38653323562865166|Test Accuracy:1.0\n"
     ]
    }
   ],
   "source": [
    "train_loss_his,train_acc_his,test_loss_his,test_acc_his,epoch_his = model.train(X_train,\n",
    "                                                                                Y_train ,\n",
    "                                                                                X_test,\n",
    "                                                                                Y_test,\n",
    "                                                                                metric='accuracy_multiclass',\n",
    "                                                                                loss_function_string='softmax_multiclass_cross_entropy',\n",
    "                                                                                epochs = 80,\n",
    "                                                                                record_at = 10,\n",
    "                                                                                learning_rate= 0.1,\n",
    "                                                                                learning_rate_decay=False)"
   ]
  },
  {
   "cell_type": "code",
   "execution_count": 25,
   "metadata": {},
   "outputs": [
    {
     "data": {
      "image/png": "[encoded data removed]",
      "text/plain": [
       "<Figure size 432x288 with 1 Axes>"
      ]
     },
     "metadata": {
      "needs_background": "light"
     },
     "output_type": "display_data"
    },
    {
     "data": {
      "image/png": "[encoded data removed]",
      "text/plain": [
       "<Figure size 432x288 with 1 Axes>"
      ]
     },
     "metadata": {
      "needs_background": "light"
     },
     "output_type": "display_data"
    }
   ],
   "source": [
    "plot_loss(epoch_his,train_loss_his,test_loss_his)\n",
    "plot_accuracy(epoch_his,train_acc_his,test_acc_his)"
   ]
  },
  {
   "cell_type": "markdown",
   "metadata": {},
   "source": [
    "# gene expression cancer RNA-Seq Data Set\n",
    "From UCI Machine Learning Dataset Repository  \n",
    "By Samuele Fiorini, University of Genoa  \n",
    "Link : https://archive.ics.uci.edu/ml/datasets/gene+expression+cancer+RNA-Seq#"
   ]
  },
  {
   "cell_type": "code",
   "execution_count": 45,
   "metadata": {},
   "outputs": [],
   "source": [
    "dataset = pd.read_csv('TCGA-PANCAN-HiSeq-801x20531/data.csv')\n",
    "labels = pd.read_csv('TCGA-PANCAN-HiSeq-801x20531/labels.csv')"
   ]
  },
  {
   "cell_type": "code",
   "execution_count": 46,
   "metadata": {},
   "outputs": [
    {
     "data": {
      "text/html": [
       "<div>\n",
       "<style scoped>\n",
       "    .dataframe tbody tr th:only-of-type {\n",
       "        vertical-align: middle;\n",
       "    }\n",
       "\n",
       "    .dataframe tbody tr th {\n",
       "        vertical-align: top;\n",
       "    }\n",
       "\n",
       "    .dataframe thead th {\n",
       "        text-align: right;\n",
       "    }\n",
       "</style>\n",
       "<table border=\"1\" class=\"dataframe\">\n",
       "  <thead>\n",
       "    <tr style=\"text-align: right;\">\n",
       "      <th></th>\n",
       "      <th>Unnamed: 0</th>\n",
       "      <th>gene_0</th>\n",
       "      <th>gene_1</th>\n",
       "      <th>gene_2</th>\n",
       "      <th>gene_3</th>\n",
       "      <th>gene_4</th>\n",
       "      <th>gene_5</th>\n",
       "      <th>gene_6</th>\n",
       "      <th>gene_7</th>\n",
       "      <th>gene_8</th>\n",
       "      <th>...</th>\n",
       "      <th>gene_20521</th>\n",
       "      <th>gene_20522</th>\n",
       "      <th>gene_20523</th>\n",
       "      <th>gene_20524</th>\n",
       "      <th>gene_20525</th>\n",
       "      <th>gene_20526</th>\n",
       "      <th>gene_20527</th>\n",
       "      <th>gene_20528</th>\n",
       "      <th>gene_20529</th>\n",
       "      <th>gene_20530</th>\n",
       "    </tr>\n",
       "  </thead>\n",
       "  <tbody>\n",
       "    <tr>\n",
       "      <th>0</th>\n",
       "      <td>sample_0</td>\n",
       "      <td>0.0</td>\n",
       "      <td>2.017209</td>\n",
       "      <td>3.265527</td>\n",
       "      <td>5.478487</td>\n",
       "      <td>10.431999</td>\n",
       "      <td>0.0</td>\n",
       "      <td>7.175175</td>\n",
       "      <td>0.591871</td>\n",
       "      <td>0.0</td>\n",
       "      <td>...</td>\n",
       "      <td>4.926711</td>\n",
       "      <td>8.210257</td>\n",
       "      <td>9.723516</td>\n",
       "      <td>7.220030</td>\n",
       "      <td>9.119813</td>\n",
       "      <td>12.003135</td>\n",
       "      <td>9.650743</td>\n",
       "      <td>8.921326</td>\n",
       "      <td>5.286759</td>\n",
       "      <td>0.0</td>\n",
       "    </tr>\n",
       "    <tr>\n",
       "      <th>1</th>\n",
       "      <td>sample_1</td>\n",
       "      <td>0.0</td>\n",
       "      <td>0.592732</td>\n",
       "      <td>1.588421</td>\n",
       "      <td>7.586157</td>\n",
       "      <td>9.623011</td>\n",
       "      <td>0.0</td>\n",
       "      <td>6.816049</td>\n",
       "      <td>0.000000</td>\n",
       "      <td>0.0</td>\n",
       "      <td>...</td>\n",
       "      <td>4.593372</td>\n",
       "      <td>7.323865</td>\n",
       "      <td>9.740931</td>\n",
       "      <td>6.256586</td>\n",
       "      <td>8.381612</td>\n",
       "      <td>12.674552</td>\n",
       "      <td>10.517059</td>\n",
       "      <td>9.397854</td>\n",
       "      <td>2.094168</td>\n",
       "      <td>0.0</td>\n",
       "    </tr>\n",
       "    <tr>\n",
       "      <th>2</th>\n",
       "      <td>sample_2</td>\n",
       "      <td>0.0</td>\n",
       "      <td>3.511759</td>\n",
       "      <td>4.327199</td>\n",
       "      <td>6.881787</td>\n",
       "      <td>9.870730</td>\n",
       "      <td>0.0</td>\n",
       "      <td>6.972130</td>\n",
       "      <td>0.452595</td>\n",
       "      <td>0.0</td>\n",
       "      <td>...</td>\n",
       "      <td>5.125213</td>\n",
       "      <td>8.127123</td>\n",
       "      <td>10.908640</td>\n",
       "      <td>5.401607</td>\n",
       "      <td>9.911597</td>\n",
       "      <td>9.045255</td>\n",
       "      <td>9.788359</td>\n",
       "      <td>10.090470</td>\n",
       "      <td>1.683023</td>\n",
       "      <td>0.0</td>\n",
       "    </tr>\n",
       "    <tr>\n",
       "      <th>3</th>\n",
       "      <td>sample_3</td>\n",
       "      <td>0.0</td>\n",
       "      <td>3.663618</td>\n",
       "      <td>4.507649</td>\n",
       "      <td>6.659068</td>\n",
       "      <td>10.196184</td>\n",
       "      <td>0.0</td>\n",
       "      <td>7.843375</td>\n",
       "      <td>0.434882</td>\n",
       "      <td>0.0</td>\n",
       "      <td>...</td>\n",
       "      <td>6.076566</td>\n",
       "      <td>8.792959</td>\n",
       "      <td>10.141520</td>\n",
       "      <td>8.942805</td>\n",
       "      <td>9.601208</td>\n",
       "      <td>11.392682</td>\n",
       "      <td>9.694814</td>\n",
       "      <td>9.684365</td>\n",
       "      <td>3.292001</td>\n",
       "      <td>0.0</td>\n",
       "    </tr>\n",
       "    <tr>\n",
       "      <th>4</th>\n",
       "      <td>sample_4</td>\n",
       "      <td>0.0</td>\n",
       "      <td>2.655741</td>\n",
       "      <td>2.821547</td>\n",
       "      <td>6.539454</td>\n",
       "      <td>9.738265</td>\n",
       "      <td>0.0</td>\n",
       "      <td>6.566967</td>\n",
       "      <td>0.360982</td>\n",
       "      <td>0.0</td>\n",
       "      <td>...</td>\n",
       "      <td>5.996032</td>\n",
       "      <td>8.891425</td>\n",
       "      <td>10.373790</td>\n",
       "      <td>7.181162</td>\n",
       "      <td>9.846910</td>\n",
       "      <td>11.922439</td>\n",
       "      <td>9.217749</td>\n",
       "      <td>9.461191</td>\n",
       "      <td>5.110372</td>\n",
       "      <td>0.0</td>\n",
       "    </tr>\n",
       "  </tbody>\n",
       "</table>\n",
       "<p>5 rows × 20532 columns</p>\n",
       "</div>"
      ],
      "text/plain": [
       "  Unnamed: 0  gene_0    gene_1    gene_2    gene_3     gene_4  gene_5  \\\n",
       "0   sample_0     0.0  2.017209  3.265527  5.478487  10.431999     0.0   \n",
       "1   sample_1     0.0  0.592732  1.588421  7.586157   9.623011     0.0   \n",
       "2   sample_2     0.0  3.511759  4.327199  6.881787   9.870730     0.0   \n",
       "3   sample_3     0.0  3.663618  4.507649  6.659068  10.196184     0.0   \n",
       "4   sample_4     0.0  2.655741  2.821547  6.539454   9.738265     0.0   \n",
       "\n",
       "     gene_6    gene_7  gene_8  ...  gene_20521  gene_20522  gene_20523  \\\n",
       "0  7.175175  0.591871     0.0  ...    4.926711    8.210257    9.723516   \n",
       "1  6.816049  0.000000     0.0  ...    4.593372    7.323865    9.740931   \n",
       "2  6.972130  0.452595     0.0  ...    5.125213    8.127123   10.908640   \n",
       "3  7.843375  0.434882     0.0  ...    6.076566    8.792959   10.141520   \n",
       "4  6.566967  0.360982     0.0  ...    5.996032    8.891425   10.373790   \n",
       "\n",
       "   gene_20524  gene_20525  gene_20526  gene_20527  gene_20528  gene_20529  \\\n",
       "0    7.220030    9.119813   12.003135    9.650743    8.921326    5.286759   \n",
       "1    6.256586    8.381612   12.674552   10.517059    9.397854    2.094168   \n",
       "2    5.401607    9.911597    9.045255    9.788359   10.090470    1.683023   \n",
       "3    8.942805    9.601208   11.392682    9.694814    9.684365    3.292001   \n",
       "4    7.181162    9.846910   11.922439    9.217749    9.461191    5.110372   \n",
       "\n",
       "   gene_20530  \n",
       "0         0.0  \n",
       "1         0.0  \n",
       "2         0.0  \n",
       "3         0.0  \n",
       "4         0.0  \n",
       "\n",
       "[5 rows x 20532 columns]"
      ]
     },
     "execution_count": 46,
     "metadata": {},
     "output_type": "execute_result"
    }
   ],
   "source": [
    "dataset.head()"
   ]
  },
  {
   "cell_type": "code",
   "execution_count": 47,
   "metadata": {},
   "outputs": [
    {
     "data": {
      "text/html": [
       "<div>\n",
       "<style scoped>\n",
       "    .dataframe tbody tr th:only-of-type {\n",
       "        vertical-align: middle;\n",
       "    }\n",
       "\n",
       "    .dataframe tbody tr th {\n",
       "        vertical-align: top;\n",
       "    }\n",
       "\n",
       "    .dataframe thead th {\n",
       "        text-align: right;\n",
       "    }\n",
       "</style>\n",
       "<table border=\"1\" class=\"dataframe\">\n",
       "  <thead>\n",
       "    <tr style=\"text-align: right;\">\n",
       "      <th></th>\n",
       "      <th>Unnamed: 0</th>\n",
       "      <th>Class</th>\n",
       "    </tr>\n",
       "  </thead>\n",
       "  <tbody>\n",
       "    <tr>\n",
       "      <th>0</th>\n",
       "      <td>sample_0</td>\n",
       "      <td>PRAD</td>\n",
       "    </tr>\n",
       "    <tr>\n",
       "      <th>1</th>\n",
       "      <td>sample_1</td>\n",
       "      <td>LUAD</td>\n",
       "    </tr>\n",
       "    <tr>\n",
       "      <th>2</th>\n",
       "      <td>sample_2</td>\n",
       "      <td>PRAD</td>\n",
       "    </tr>\n",
       "    <tr>\n",
       "      <th>3</th>\n",
       "      <td>sample_3</td>\n",
       "      <td>PRAD</td>\n",
       "    </tr>\n",
       "    <tr>\n",
       "      <th>4</th>\n",
       "      <td>sample_4</td>\n",
       "      <td>BRCA</td>\n",
       "    </tr>\n",
       "  </tbody>\n",
       "</table>\n",
       "</div>"
      ],
      "text/plain": [
       "  Unnamed: 0 Class\n",
       "0   sample_0  PRAD\n",
       "1   sample_1  LUAD\n",
       "2   sample_2  PRAD\n",
       "3   sample_3  PRAD\n",
       "4   sample_4  BRCA"
      ]
     },
     "execution_count": 47,
     "metadata": {},
     "output_type": "execute_result"
    }
   ],
   "source": [
    "labels.head()"
   ]
  },
  {
   "cell_type": "code",
   "execution_count": 48,
   "metadata": {},
   "outputs": [],
   "source": [
    "# Deleting label and dataset indexes\n",
    "dataset = dataset.drop(columns=['Unnamed: 0'],axis=1)\n",
    "labels = labels.drop(columns=['Unnamed: 0'],axis=1)"
   ]
  },
  {
   "cell_type": "code",
   "execution_count": 49,
   "metadata": {},
   "outputs": [],
   "source": [
    "# Converting labels to one hot encoding\n",
    "labels = pd.get_dummies(labels)"
   ]
  },
  {
   "cell_type": "code",
   "execution_count": 51,
   "metadata": {},
   "outputs": [],
   "source": [
    "# Converting dataset and labels to numpy array\n",
    "dataset = dataset.values\n",
    "labels = labels.values"
   ]
  },
  {
   "cell_type": "code",
   "execution_count": 59,
   "metadata": {},
   "outputs": [],
   "source": [
    "div = 0.8\n",
    "N = len(dataset)\n",
    "X_train = dataset[:int(div*N)]\n",
    "Y_train = labels[:int(div*N)]\n",
    "X_test = dataset[int(div*N):]\n",
    "Y_test = labels[int(div*N):]"
   ]
  },
  {
   "cell_type": "code",
   "execution_count": 95,
   "metadata": {},
   "outputs": [
    {
     "name": "stdout",
     "output_type": "stream",
     "text": [
      "(20531, 45) (45,)\n",
      "<function relu at 0x7f84b07d9a60>\n",
      "(45, 45) (45,)\n",
      "<function relu at 0x7f84b07d9a60>\n",
      "(45, 45) (45,)\n",
      "<function relu at 0x7f84b07d9a60>\n",
      "(45, 45) (45,)\n",
      "<function relu at 0x7f84b07d9a60>\n",
      "(45, 5) (5,)\n",
      "<function linear at 0x7f84b07d9c80>\n"
     ]
    }
   ],
   "source": [
    "layer_list = [20531,45,45,45,45,5]\n",
    "activation_list = ['relu','relu','relu','relu','linear']\n",
    "model = MultiLayerPerceptron(layer_list,activation_list)"
   ]
  },
  {
   "cell_type": "code",
   "execution_count": 96,
   "metadata": {},
   "outputs": [
    {
     "name": "stdout",
     "output_type": "stream",
     "text": [
      "0th EPOCH:\n",
      "Training Loss:1.0000000827453712e-11|Training Accuracy:0.1|Test Loss:25.328436022934504|Test Accuracy:0.37267080745341613\n",
      "20th EPOCH:\n",
      "Training Loss:9.49816350860669|Training Accuracy:0.1796875|Test Loss:15.88926731873904|Test Accuracy:0.37267080745341613\n",
      "40th EPOCH:\n",
      "Training Loss:9.49816350860669|Training Accuracy:0.1796875|Test Loss:15.88926731873904|Test Accuracy:0.37267080745341613\n",
      "60th EPOCH:\n",
      "Training Loss:9.49816350860669|Training Accuracy:0.1796875|Test Loss:15.88926731873904|Test Accuracy:0.37267080745341613\n",
      "80th EPOCH:\n",
      "Training Loss:9.49816350860669|Training Accuracy:0.1796875|Test Loss:15.88926731873904|Test Accuracy:0.37267080745341613\n"
     ]
    },
    {
     "ename": "KeyboardInterrupt",
     "evalue": "",
     "output_type": "error",
     "traceback": [
      "\u001b[0;31m---------------------------------------------------------------------------\u001b[0m",
      "\u001b[0;31mKeyboardInterrupt\u001b[0m                         Traceback (most recent call last)",
      "\u001b[0;32m<ipython-input-96-9022a00598e2>\u001b[0m in \u001b[0;36m<module>\u001b[0;34m\u001b[0m\n\u001b[1;32m      8\u001b[0m                                                                                 \u001b[0mrecord_at\u001b[0m \u001b[0;34m=\u001b[0m \u001b[0;36m20\u001b[0m\u001b[0;34m,\u001b[0m\u001b[0;34m\u001b[0m\u001b[0;34m\u001b[0m\u001b[0m\n\u001b[1;32m      9\u001b[0m                                                                                 \u001b[0mlearning_rate\u001b[0m\u001b[0;34m=\u001b[0m \u001b[0;36m0.1\u001b[0m\u001b[0;34m,\u001b[0m\u001b[0;34m\u001b[0m\u001b[0;34m\u001b[0m\u001b[0m\n\u001b[0;32m---> 10\u001b[0;31m                                                                                 learning_rate_decay=True)\n\u001b[0m",
      "\u001b[0;32m~/Desktop/Neural-Network-Assignments/Assignment-3/MultiLayerPerceptron.py\u001b[0m in \u001b[0;36mtrain\u001b[0;34m(self, X_train, Y_train, X_test, Y_test, metric, loss_function_string, epochs, record_at, verbose, learning_rate, learning_rate_decay)\u001b[0m\n\u001b[1;32m    196\u001b[0m \u001b[0;34m\u001b[0m\u001b[0m\n\u001b[1;32m    197\u001b[0m         \u001b[0;32mfor\u001b[0m \u001b[0mi\u001b[0m \u001b[0;32min\u001b[0m \u001b[0mrange\u001b[0m\u001b[0;34m(\u001b[0m\u001b[0mepochs\u001b[0m\u001b[0;34m)\u001b[0m\u001b[0;34m:\u001b[0m\u001b[0;34m\u001b[0m\u001b[0;34m\u001b[0m\u001b[0m\n\u001b[0;32m--> 198\u001b[0;31m             \u001b[0mprediction\u001b[0m \u001b[0;34m,\u001b[0m \u001b[0mcache\u001b[0m \u001b[0;34m=\u001b[0m \u001b[0mself\u001b[0m\u001b[0;34m.\u001b[0m\u001b[0mforward\u001b[0m\u001b[0;34m(\u001b[0m\u001b[0mX_train\u001b[0m\u001b[0;34m)\u001b[0m\u001b[0;34m\u001b[0m\u001b[0;34m\u001b[0m\u001b[0m\n\u001b[0m\u001b[1;32m    199\u001b[0m             \u001b[0;31m# ---------TO DO------\u001b[0m\u001b[0;34m\u001b[0m\u001b[0;34m\u001b[0m\u001b[0;34m\u001b[0m\u001b[0m\n\u001b[1;32m    200\u001b[0m             \u001b[0;31m# batch training to be incuded\u001b[0m\u001b[0;34m\u001b[0m\u001b[0;34m\u001b[0m\u001b[0;34m\u001b[0m\u001b[0m\n",
      "\u001b[0;32m~/Desktop/Neural-Network-Assignments/Assignment-3/MultiLayerPerceptron.py\u001b[0m in \u001b[0;36mforward\u001b[0;34m(self, X)\u001b[0m\n\u001b[1;32m    136\u001b[0m         \u001b[0mcache\u001b[0m\u001b[0;34m.\u001b[0m\u001b[0mappend\u001b[0m\u001b[0;34m(\u001b[0m\u001b[0ma\u001b[0m\u001b[0;34m)\u001b[0m\u001b[0;34m\u001b[0m\u001b[0;34m\u001b[0m\u001b[0m\n\u001b[1;32m    137\u001b[0m         \u001b[0;32mfor\u001b[0m \u001b[0mi\u001b[0m \u001b[0;32min\u001b[0m \u001b[0mrange\u001b[0m\u001b[0;34m(\u001b[0m\u001b[0mself\u001b[0m\u001b[0;34m.\u001b[0m\u001b[0mhidden_layers\u001b[0m\u001b[0;34m)\u001b[0m\u001b[0;34m:\u001b[0m\u001b[0;34m\u001b[0m\u001b[0;34m\u001b[0m\u001b[0m\n\u001b[0;32m--> 138\u001b[0;31m             \u001b[0ma\u001b[0m\u001b[0;34m,\u001b[0m\u001b[0mh_x\u001b[0m \u001b[0;34m=\u001b[0m \u001b[0mself\u001b[0m\u001b[0;34m.\u001b[0m\u001b[0mlayers\u001b[0m\u001b[0;34m[\u001b[0m\u001b[0mi\u001b[0m\u001b[0;34m+\u001b[0m\u001b[0;36m1\u001b[0m\u001b[0;34m]\u001b[0m\u001b[0;34m.\u001b[0m\u001b[0mforward\u001b[0m\u001b[0;34m(\u001b[0m\u001b[0ma\u001b[0m\u001b[0;34m)\u001b[0m\u001b[0;34m\u001b[0m\u001b[0;34m\u001b[0m\u001b[0m\n\u001b[0m\u001b[1;32m    139\u001b[0m             \u001b[0mcache\u001b[0m\u001b[0;34m.\u001b[0m\u001b[0mappend\u001b[0m\u001b[0;34m(\u001b[0m\u001b[0mh_x\u001b[0m\u001b[0;34m)\u001b[0m\u001b[0;34m\u001b[0m\u001b[0;34m\u001b[0m\u001b[0m\n\u001b[1;32m    140\u001b[0m \u001b[0;34m\u001b[0m\u001b[0m\n",
      "\u001b[0;32m~/Desktop/Neural-Network-Assignments/Assignment-3/MultiLayerPerceptron.py\u001b[0m in \u001b[0;36mforward\u001b[0;34m(self, X)\u001b[0m\n\u001b[1;32m     45\u001b[0m \u001b[0;34m\u001b[0m\u001b[0m\n\u001b[1;32m     46\u001b[0m         \u001b[0;31m#print(X.shape , self.W.shape , self.b.shape)\u001b[0m\u001b[0;34m\u001b[0m\u001b[0;34m\u001b[0m\u001b[0;34m\u001b[0m\u001b[0m\n\u001b[0;32m---> 47\u001b[0;31m         \u001b[0mh_x\u001b[0m \u001b[0;34m=\u001b[0m \u001b[0mX\u001b[0m\u001b[0;34m.\u001b[0m\u001b[0mdot\u001b[0m\u001b[0;34m(\u001b[0m\u001b[0mself\u001b[0m\u001b[0;34m.\u001b[0m\u001b[0mW\u001b[0m\u001b[0;34m)\u001b[0m \u001b[0;34m+\u001b[0m \u001b[0mself\u001b[0m\u001b[0;34m.\u001b[0m\u001b[0mb\u001b[0m\u001b[0;34m\u001b[0m\u001b[0;34m\u001b[0m\u001b[0m\n\u001b[0m\u001b[1;32m     48\u001b[0m \u001b[0;34m\u001b[0m\u001b[0m\n\u001b[1;32m     49\u001b[0m         \u001b[0ma\u001b[0m \u001b[0;34m=\u001b[0m \u001b[0mself\u001b[0m\u001b[0;34m.\u001b[0m\u001b[0mact_fn\u001b[0m\u001b[0;34m(\u001b[0m\u001b[0mh_x\u001b[0m\u001b[0;34m)\u001b[0m\u001b[0;34m\u001b[0m\u001b[0;34m\u001b[0m\u001b[0m\n",
      "\u001b[0;31mKeyboardInterrupt\u001b[0m: "
     ]
    }
   ],
   "source": [
    "train_loss_his,train_acc_his,test_loss_his,test_acc_his,epoch_his = model.train(X_train,\n",
    "                                                                                Y_train ,\n",
    "                                                                                X_test,\n",
    "                                                                                Y_test,\n",
    "                                                                                metric='accuracy_multiclass',\n",
    "                                                                                loss_function_string='softmax_multiclass_cross_entropy',\n",
    "                                                                                epochs = 500,\n",
    "                                                                                record_at = 20,\n",
    "                                                                                learning_rate= 0.1,\n",
    "                                                                                learning_rate_decay=False)"
   ]
  },
  {
   "cell_type": "code",
   "execution_count": null,
   "metadata": {},
   "outputs": [],
   "source": [
    "plot_loss(epoch_his,train_loss_his,test_loss_his)\n",
    "plot_accuracy(epoch_his,train_acc_his,test_acc_his)"
   ]
  },
  {
   "cell_type": "code",
   "execution_count": null,
   "metadata": {},
   "outputs": [],
   "source": []
  }
 ],
 "metadata": {
  "kernelspec": {
   "display_name": "Python 3",
   "language": "python",
   "name": "python3"
  },
  "language_info": {
   "codemirror_mode": {
    "name": "ipython",
    "version": 3
   },
   "file_extension": ".py",
   "mimetype": "text/x-python",
   "name": "python",
   "nbconvert_exporter": "python",
   "pygments_lexer": "ipython3",
   "version": "3.6.8"
  }
 },
 "nbformat": 4,
 "nbformat_minor": 2
}
