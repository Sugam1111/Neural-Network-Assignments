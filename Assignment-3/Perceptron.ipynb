{
 "cells": [
  {
   "cell_type": "markdown",
   "metadata": {},
   "source": [
    "# Perceptron\n",
    "\n"
   ]
  },
  {
   "cell_type": "code",
   "execution_count": 1,
   "metadata": {},
   "outputs": [
    {
     "data": {
      "text/plain": [
       "{'divide': 'warn', 'over': 'warn', 'under': 'ignore', 'invalid': 'warn'}"
      ]
     },
     "execution_count": 1,
     "metadata": {},
     "output_type": "execute_result"
    }
   ],
   "source": [
    "import numpy as np\n",
    "np.seterr('ignore')"
   ]
  },
  {
   "cell_type": "markdown",
   "metadata": {},
   "source": [
    "# Perceptron Network"
   ]
  },
  {
   "cell_type": "code",
   "execution_count": 2,
   "metadata": {},
   "outputs": [],
   "source": [
    "# Here I am building a normal forward propogation for a perceptron layer\n",
    "# and the various function i would use."
   ]
  },
  {
   "cell_type": "code",
   "execution_count": 3,
   "metadata": {},
   "outputs": [],
   "source": [
    "#############################################\n",
    "## Declaring Training Data        ############\n",
    "#############################################\n",
    "X_train = np.array([[0,0],[1,0],[0,1],[1,1]])\n",
    "Y_train = np.array([[1],[0],[0],[0]])\n",
    "\n"
   ]
  },
  {
   "cell_type": "code",
   "execution_count": 4,
   "metadata": {},
   "outputs": [],
   "source": [
    "from MultiLayerPerceptron import MultiLayerPerceptron"
   ]
  },
  {
   "cell_type": "code",
   "execution_count": 5,
   "metadata": {},
   "outputs": [],
   "source": [
    "def accuracy(model , X , Y):\n",
    "    pred,_ = model.forward(X)\n",
    "    pred =pred > 0.5\n",
    "    acc = np.sum(pred == Y)\n",
    "    acc = float(acc) / Y.shape[0]\n",
    "    return acc"
   ]
  },
  {
   "cell_type": "code",
   "execution_count": 6,
   "metadata": {},
   "outputs": [
    {
     "name": "stdout",
     "output_type": "stream",
     "text": [
      "(2, 1) (1,)\n",
      "<function sigmoid at 0x7f7ad41649d8>\n"
     ]
    }
   ],
   "source": [
    "# Declare a neuron with shape of weights as [shape_of_input,1]\n",
    "model = MultiLayerPerceptron([2,1],['sigmoid'])\n",
    "# print(model.layers[1].W)\n",
    "# print(model.layers[1].b)"
   ]
  },
  {
   "cell_type": "code",
   "execution_count": 7,
   "metadata": {},
   "outputs": [],
   "source": [
    "# testing the model outputs\n",
    "pred , _ = model.forward(X_train)\n",
    "# print(np.sum((pred > 0.5)== Y_train) / Y_train.shape[0])\n",
    "# accuracy(model , X_train,Y_train)\n",
    "# X_train[0]"
   ]
  },
  {
   "cell_type": "code",
   "execution_count": 8,
   "metadata": {},
   "outputs": [
    {
     "name": "stdout",
     "output_type": "stream",
     "text": [
      "The loss is [0.05013281]\n",
      "And the error to be back propogated is:\n",
      " [[-0.125     ]\n",
      " [ 0.06045905]\n",
      " [ 0.07074433]\n",
      " [ 0.02795263]]\n"
     ]
    }
   ],
   "source": [
    "# Checking for testing purposes(BCE should be used here ideally)\n",
    "from Loss import mean_abs_error,mean_square_error\n",
    "loss,d_back = mean_square_error(pred,Y_train)\n",
    "print(\"The loss is {}\\nAnd the error to be back propogated is:\\n {}\".format(loss , d_back))"
   ]
  },
  {
   "cell_type": "code",
   "execution_count": 9,
   "metadata": {},
   "outputs": [
    {
     "name": "stdout",
     "output_type": "stream",
     "text": [
      "The loss is [1.42122101]\n",
      "And the error to be back propogated is:\n",
      " [[-2.        ]\n",
      " [ 1.31897619]\n",
      " [ 1.39465605]\n",
      " [ 1.12588588]]\n"
     ]
    }
   ],
   "source": [
    "from Loss import binary_cross_entropy,mean_binary_cross_entropy\n",
    "loss,d_back = binary_cross_entropy(pred,Y_train)\n",
    "print(\"The loss is {}\\nAnd the error to be back propogated is:\\n {}\".format(loss , d_back))"
   ]
  },
  {
   "cell_type": "code",
   "execution_count": 10,
   "metadata": {
    "scrolled": true
   },
   "outputs": [
    {
     "name": "stdout",
     "output_type": "stream",
     "text": [
      "(2, 3) (3,)\n",
      "<function sigmoid at 0x7f7ad41649d8>\n",
      "(3, 1) (1,)\n",
      "<function sigmoid at 0x7f7ad41649d8>\n",
      "The training loss at 0th epoch : [0.84000479]  Training Accuracy:0.25\n",
      "The training loss at 1th epoch : [0.793336]  Training Accuracy:0.25\n",
      "The training loss at 2th epoch : [0.7532723]  Training Accuracy:0.25\n",
      "The training loss at 3th epoch : [0.71831347]  Training Accuracy:0.25\n",
      "The training loss at 4th epoch : [0.68736137]  Training Accuracy:0.5\n",
      "The training loss at 5th epoch : [0.65960762]  Training Accuracy:0.75\n",
      "The training loss at 6th epoch : [0.63445244]  Training Accuracy:0.75\n",
      "The training loss at 7th epoch : [0.61144594]  Training Accuracy:0.75\n",
      "The training loss at 8th epoch : [0.59024571]  Training Accuracy:0.75\n",
      "The training loss at 9th epoch : [0.57058627]  Training Accuracy:0.75\n",
      "The training loss at 10th epoch : [0.55225723]  Training Accuracy:0.75\n",
      "The training loss at 11th epoch : [0.53508789]  Training Accuracy:0.75\n",
      "The training loss at 12th epoch : [0.5189365]  Training Accuracy:0.75\n",
      "The training loss at 13th epoch : [0.50368286]  Training Accuracy:0.75\n",
      "The training loss at 14th epoch : [0.48922335]  Training Accuracy:1.0\n",
      "The training loss at 15th epoch : [0.47546753]  Training Accuracy:1.0\n",
      "The training loss at 16th epoch : [0.46233586]  Training Accuracy:1.0\n",
      "The training loss at 17th epoch : [0.44975815]  Training Accuracy:1.0\n",
      "The training loss at 18th epoch : [0.43767247]  Training Accuracy:1.0\n",
      "The training loss at 19th epoch : [0.42602431]  Training Accuracy:1.0\n"
     ]
    }
   ],
   "source": [
    "# Now we can train the model by iteratively on each datapoint.\n",
    "\n",
    "layer_list = [2,3, 1]\n",
    "activation_list = ['sigmoid','sigmoid']\n",
    "model = MultiLayerPerceptron(layer_list,activation_list)\n",
    "\n",
    "def train(model ,X_train , Y_train,epochs,alpha =0.1):\n",
    "    for i in range(epochs):\n",
    "        act , cache = model.forward(X_train)\n",
    "        loss,d_back= mean_binary_cross_entropy(act,Y_train)\n",
    "        acc = accuracy(model ,X_train,Y_train)\n",
    "        print(\"The training loss at {}th epoch : {}  Training Accuracy:{}\".format(i , loss , acc))\n",
    "        model.update_gradient(cache,d_back,alpha)        \n",
    "\n",
    "train(model , X_train,Y_train , 20,alpha = 0.4)\n",
    "    "
   ]
  },
  {
   "cell_type": "code",
   "execution_count": 11,
   "metadata": {},
   "outputs": [
    {
     "data": {
      "text/plain": [
       "1.0"
      ]
     },
     "execution_count": 11,
     "metadata": {},
     "output_type": "execute_result"
    }
   ],
   "source": [
    "# Now we can predict the values for unseen data or trained data also\n",
    "# We can also calculate the accuracy of the model we have trained\n",
    "accuracy(model , X_train,Y_train)"
   ]
  },
  {
   "cell_type": "markdown",
   "metadata": {},
   "source": [
    "# N Bit XOR"
   ]
  },
  {
   "cell_type": "markdown",
   "metadata": {},
   "source": [
    "Now Lets try working with just a little better data. A n XOR operator. So lets create the dataset for n bit xor."
   ]
  },
  {
   "cell_type": "markdown",
   "metadata": {},
   "source": [
    "We would have atmost 2^n data point in this type of data set.BUt we would limit our dataset to a 1000 data points\n",
    "whichever is smaller.\n",
    "\n",
    "Then we can divide into training and test set"
   ]
  },
  {
   "cell_type": "code",
   "execution_count": 12,
   "metadata": {},
   "outputs": [],
   "source": [
    "\n",
    "n = 10\n",
    "max_datapoint = 10000\n",
    "datapoints = min(pow(2,n) , max_datapoint)\n",
    "\n",
    "X = np.zeros((datapoints , n) , dtype=np.int32)\n",
    "Y = np.zeros((datapoints , 1), dtype=np.int32)\n",
    "\n",
    "for i in range(datapoints):\n",
    "    tmp = i\n",
    "    y_tmp = 0\n",
    "    for j in range(n-1 , -1 , -1):\n",
    "        X[i,j] = tmp&1\n",
    "        y_tmp = y_tmp^X[i,j]\n",
    "        tmp = tmp>>1\n",
    "    Y[i] = y_tmp\n",
    "        \n",
    "        "
   ]
  },
  {
   "cell_type": "code",
   "execution_count": 13,
   "metadata": {},
   "outputs": [
    {
     "name": "stdout",
     "output_type": "stream",
     "text": [
      "[0 0 0 0 0 0 1 0 1 1] [1]\n"
     ]
    }
   ],
   "source": [
    "# for sanity check lets print one example\n",
    "ind = 11\n",
    "print(X[ind] , Y[ind])"
   ]
  },
  {
   "cell_type": "code",
   "execution_count": 14,
   "metadata": {},
   "outputs": [
    {
     "data": {
      "text/plain": [
       "(103, 1)"
      ]
     },
     "execution_count": 14,
     "metadata": {},
     "output_type": "execute_result"
    }
   ],
   "source": [
    "# Lets divide the set in training and testing\n",
    "div = 0.9\n",
    "train_n = int(div * datapoints)\n",
    "X_train = X[:train_n]\n",
    "Y_train = Y[:train_n]\n",
    "\n",
    "X_test = X[train_n:]\n",
    "Y_test = Y[train_n:]\n",
    "Y_test.shape"
   ]
  },
  {
   "cell_type": "code",
   "execution_count": 15,
   "metadata": {},
   "outputs": [
    {
     "name": "stdout",
     "output_type": "stream",
     "text": [
      "(10, 20) (20,)\n",
      "<function relu at 0x7f7ad4164620>\n",
      "(20, 20) (20,)\n",
      "<function sigmoid at 0x7f7ad41649d8>\n",
      "(20, 15) (15,)\n",
      "<function sigmoid at 0x7f7ad41649d8>\n",
      "(15, 8) (8,)\n",
      "<function sigmoid at 0x7f7ad41649d8>\n",
      "(8, 4) (4,)\n",
      "<function tanh at 0x7f7ad4164950>\n",
      "(4, 1) (1,)\n",
      "<function sigmoid at 0x7f7ad41649d8>\n"
     ]
    }
   ],
   "source": [
    "layer_list = [n,20,20,15,8,4,1]\n",
    "activation_list = ['relu','sigmoid','sigmoid','sigmoid','tanh','sigmoid']\n",
    "\n",
    "model = MultiLayerPerceptron(layer_list,activation_list)"
   ]
  },
  {
   "cell_type": "code",
   "execution_count": 16,
   "metadata": {
    "scrolled": true
   },
   "outputs": [],
   "source": [
    "def train_recording(model,\n",
    "                    X_train , \n",
    "                    Y_train,\n",
    "                    epochs=200,\n",
    "                    record_at = 100,\n",
    "                    verbose = True,\n",
    "                    learning_rate =0.1,\n",
    "                    learning_rate_decay = False):\n",
    "    train_loss_his = []\n",
    "    train_acc_his = []\n",
    "    test_loss_his = []\n",
    "    test_acc_his = []\n",
    "    epoch_his = []\n",
    "    \n",
    "    for i in range(epochs):\n",
    "        prediction , cache = model.forward(X_train)\n",
    "        loss,d_back= mean_binary_cross_entropy(prediction,Y_train)        \n",
    "        model.update_gradient(cache,d_back,learning_rate)\n",
    "        if learning_rate_decay:\n",
    "            learning_rate *= (1.0 / 1.0 + i)\n",
    "        \n",
    "        \n",
    "        \n",
    "        if i % record_at == 0:\n",
    "            train_loss,_ = mean_binary_cross_entropy(prediction,Y_train)\n",
    "            train_acc = accuracy(model ,X_train,Y_train)\n",
    "            \n",
    "            test_prediction , _ = model.forward(X_test)\n",
    "            test_loss,_ = mean_binary_cross_entropy(test_prediction,Y_test)\n",
    "            test_acc = accuracy(model,X_test,Y_test)\n",
    "            \n",
    "            train_loss_his.append(train_loss)\n",
    "            train_acc_his.append(train_acc)\n",
    "            test_loss_his.append(test_loss)\n",
    "            test_acc_his.append(test_acc)\n",
    "            epoch_his.append(i)\n",
    "            \n",
    "            if verbose:\n",
    "                print(\"{}th EPOCH:\\nTraining Loss:{}|Training Accuracy:{}|Test Loss:{}|Test Accuracy:{}\".\\\n",
    "                  format(i , train_loss , train_acc,test_loss,test_acc))\n",
    "    train_loss_his = np.array(train_loss_his).reshape(-1)\n",
    "    train_acc_his = np.array(train_acc_his).reshape(-1)\n",
    "    test_loss_his = np.array(test_loss_his).reshape(-1)\n",
    "    test_acc_his = np.array(test_acc_his).reshape(-1)\n",
    "    epoch_his = np.array(epoch_his).reshape(-1)\n",
    "    return train_loss_his,train_acc_his,test_loss_his,test_acc_his,epoch_his"
   ]
  },
  {
   "cell_type": "code",
   "execution_count": 17,
   "metadata": {},
   "outputs": [
    {
     "name": "stdout",
     "output_type": "stream",
     "text": [
      "(10, 20) (20,)\n",
      "<function relu at 0x7f7ad4164620>\n",
      "(20, 20) (20,)\n",
      "<function sigmoid at 0x7f7ad41649d8>\n",
      "(20, 15) (15,)\n",
      "<function sigmoid at 0x7f7ad41649d8>\n",
      "(15, 8) (8,)\n",
      "<function sigmoid at 0x7f7ad41649d8>\n",
      "(8, 4) (4,)\n",
      "<function tanh at 0x7f7ad4164950>\n",
      "(4, 1) (1,)\n",
      "<function sigmoid at 0x7f7ad41649d8>\n"
     ]
    }
   ],
   "source": [
    "layer_list = [n,20,20,15,8,4,1]\n",
    "activation_list = ['relu','sigmoid','sigmoid','sigmoid','tanh','sigmoid']\n",
    "\n",
    "model = MultiLayerPerceptron(layer_list,activation_list)"
   ]
  },
  {
   "cell_type": "code",
   "execution_count": 18,
   "metadata": {
    "scrolled": true
   },
   "outputs": [
    {
     "name": "stdout",
     "output_type": "stream",
     "text": [
      "0th EPOCH:\n",
      "Training Loss:[0.69328813]|Training Accuracy:0.500542888165038|Test Loss:[0.69342558]|Test Accuracy:0.49514563106796117\n",
      "20th EPOCH:\n",
      "Training Loss:[0.69315861]|Training Accuracy:0.49728555917481|Test Loss:[0.69318117]|Test Accuracy:0.47572815533980584\n",
      "40th EPOCH:\n",
      "Training Loss:[0.69315672]|Training Accuracy:0.496199782844734|Test Loss:[0.69316309]|Test Accuracy:0.49514563106796117\n",
      "60th EPOCH:\n",
      "Training Loss:[0.69315664]|Training Accuracy:0.49728555917481|Test Loss:[0.69316115]|Test Accuracy:0.49514563106796117\n",
      "80th EPOCH:\n",
      "Training Loss:[0.69315659]|Training Accuracy:0.499457111834962|Test Loss:[0.69316098]|Test Accuracy:0.49514563106796117\n",
      "100th EPOCH:\n",
      "Training Loss:[0.69315653]|Training Accuracy:0.498371335504886|Test Loss:[0.69316101]|Test Accuracy:0.49514563106796117\n",
      "120th EPOCH:\n",
      "Training Loss:[0.69315648]|Training Accuracy:0.498371335504886|Test Loss:[0.69316107]|Test Accuracy:0.49514563106796117\n",
      "140th EPOCH:\n",
      "Training Loss:[0.69315643]|Training Accuracy:0.499457111834962|Test Loss:[0.69316113]|Test Accuracy:0.49514563106796117\n",
      "160th EPOCH:\n",
      "Training Loss:[0.69315637]|Training Accuracy:0.498371335504886|Test Loss:[0.69316119]|Test Accuracy:0.49514563106796117\n",
      "180th EPOCH:\n",
      "Training Loss:[0.69315632]|Training Accuracy:0.498371335504886|Test Loss:[0.69316125]|Test Accuracy:0.49514563106796117\n",
      "200th EPOCH:\n",
      "Training Loss:[0.69315627]|Training Accuracy:0.498371335504886|Test Loss:[0.69316131]|Test Accuracy:0.49514563106796117\n",
      "220th EPOCH:\n",
      "Training Loss:[0.69315621]|Training Accuracy:0.498371335504886|Test Loss:[0.69316137]|Test Accuracy:0.49514563106796117\n",
      "240th EPOCH:\n",
      "Training Loss:[0.69315616]|Training Accuracy:0.498371335504886|Test Loss:[0.69316142]|Test Accuracy:0.49514563106796117\n",
      "260th EPOCH:\n",
      "Training Loss:[0.69315611]|Training Accuracy:0.498371335504886|Test Loss:[0.69316147]|Test Accuracy:0.49514563106796117\n",
      "280th EPOCH:\n",
      "Training Loss:[0.69315605]|Training Accuracy:0.498371335504886|Test Loss:[0.69316152]|Test Accuracy:0.49514563106796117\n",
      "300th EPOCH:\n",
      "Training Loss:[0.693156]|Training Accuracy:0.49728555917481|Test Loss:[0.69316157]|Test Accuracy:0.49514563106796117\n",
      "320th EPOCH:\n",
      "Training Loss:[0.69315594]|Training Accuracy:0.49728555917481|Test Loss:[0.69316162]|Test Accuracy:0.49514563106796117\n",
      "340th EPOCH:\n",
      "Training Loss:[0.69315589]|Training Accuracy:0.496199782844734|Test Loss:[0.69316167]|Test Accuracy:0.49514563106796117\n",
      "360th EPOCH:\n",
      "Training Loss:[0.69315584]|Training Accuracy:0.496199782844734|Test Loss:[0.69316172]|Test Accuracy:0.49514563106796117\n",
      "380th EPOCH:\n",
      "Training Loss:[0.69315579]|Training Accuracy:0.496199782844734|Test Loss:[0.69316177]|Test Accuracy:0.49514563106796117\n",
      "400th EPOCH:\n",
      "Training Loss:[0.69315574]|Training Accuracy:0.496199782844734|Test Loss:[0.69316182]|Test Accuracy:0.49514563106796117\n",
      "420th EPOCH:\n",
      "Training Loss:[0.69315568]|Training Accuracy:0.496199782844734|Test Loss:[0.69316187]|Test Accuracy:0.49514563106796117\n",
      "440th EPOCH:\n",
      "Training Loss:[0.69315563]|Training Accuracy:0.495114006514658|Test Loss:[0.69316192]|Test Accuracy:0.49514563106796117\n",
      "460th EPOCH:\n",
      "Training Loss:[0.69315558]|Training Accuracy:0.496199782844734|Test Loss:[0.69316197]|Test Accuracy:0.49514563106796117\n",
      "480th EPOCH:\n",
      "Training Loss:[0.69315553]|Training Accuracy:0.496199782844734|Test Loss:[0.69316202]|Test Accuracy:0.49514563106796117\n"
     ]
    }
   ],
   "source": [
    "train_loss_his,train_acc_his,test_loss_his,test_acc_his,epoch_his = train_recording(model , \n",
    "                                                                                    X_train,\n",
    "                                                                                    Y_train , \n",
    "                                                                                    epochs = 500,\n",
    "                                                                                    record_at = 20,\n",
    "                                                                                    learning_rate= 0.1,\n",
    "                                                                                    learning_rate_decay=False)"
   ]
  },
  {
   "cell_type": "code",
   "execution_count": 19,
   "metadata": {},
   "outputs": [],
   "source": [
    "import matplotlib.pyplot as plt\n"
   ]
  },
  {
   "cell_type": "code",
   "execution_count": 20,
   "metadata": {},
   "outputs": [
    {
     "data": {
      "image/png": "[encoded data removed]",
      "text/plain": [
       "<Figure size 432x288 with 1 Axes>"
      ]
     },
     "metadata": {
      "needs_background": "light"
     },
     "output_type": "display_data"
    }
   ],
   "source": [
    "train_line, = plt.plot(epoch_his,train_loss_his,label = 'train')\n",
    "test_line, = plt.plot(epoch_his,test_loss_his,label = 'test')\n",
    "plt.xlabel('EPOCHS')\n",
    "plt.ylabel('Loss')\n",
    "plt.legend([train_line, test_line] , ['train','test'])\n",
    "plt.show()"
   ]
  },
  {
   "cell_type": "code",
   "execution_count": 21,
   "metadata": {},
   "outputs": [
    {
     "data": {
      "image/png": "[encoded data removed]",
      "text/plain": [
       "<Figure size 432x288 with 1 Axes>"
      ]
     },
     "metadata": {
      "needs_background": "light"
     },
     "output_type": "display_data"
    }
   ],
   "source": [
    "train_line, = plt.plot(epoch_his,train_acc_his,label = 'train')\n",
    "test_line, = plt.plot(epoch_his,test_acc_his,label = 'test')\n",
    "plt.xlabel('EPOCHS')\n",
    "plt.ylabel('Accuracy')\n",
    "plt.legend([train_line, test_line] , ['train','test'])\n",
    "plt.show()\n",
    "plt.show()"
   ]
  },
  {
   "cell_type": "code",
   "execution_count": null,
   "metadata": {},
   "outputs": [],
   "source": []
  }
 ],
 "metadata": {
  "kernelspec": {
   "display_name": "Python 3",
   "language": "python",
   "name": "python3"
  },
  "language_info": {
   "codemirror_mode": {
    "name": "ipython",
    "version": 3
   },
   "file_extension": ".py",
   "mimetype": "text/x-python",
   "name": "python",
   "nbconvert_exporter": "python",
   "pygments_lexer": "ipython3",
   "version": "3.6.7"
  }
 },
 "nbformat": 4,
 "nbformat_minor": 2
}
