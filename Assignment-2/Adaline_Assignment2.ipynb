{
 "cells": [
  {
   "cell_type": "markdown",
   "metadata": {
    "colab": {},
    "colab_type": "code",
    "collapsed": true,
    "id": "8w3a7IwWlcv9"
   },
   "source": [
    "# Assignment 2 - Coding up an ADALINE model "
   ]
  },
  {
   "cell_type": "markdown",
   "metadata": {},
   "source": [
    "* The given jupyter notebook contains step by step implementation of coding the ADALINE network, as is implemented in the paper given by \n",
    "\n",
    "    _** B. Widrow and M. Hoff, Jr., “Adaptive switching circuits,” In: IRE WESCON Conv. Rec.,\n",
    "    pt. 4, pp. 96104, 1960. **_\n",
    "    \n",
    "\n",
    "* We have provided appropriate headings, steps and comments in order to walk you through the entire process. You may feel free to change parameters ( like the learning rate, number of epochs etc.) and see the results.\n",
    "\n",
    "\n",
    "* This jupyter notebook has been made by:\n",
    "\n",
    "    Alish Dipani, Gargi Balasubramaniam, Sugam Budhiraja and Mehul Rastogi.\n"
   ]
  },
  {
   "cell_type": "code",
   "execution_count": 2,
   "metadata": {
    "collapsed": true
   },
   "outputs": [],
   "source": [
    "import numpy as np\n",
    "import matplotlib.pyplot as plt\n",
    "import random"
   ]
  },
  {
   "cell_type": "markdown",
   "metadata": {
    "colab_type": "text",
    "id": "MKKlzNMiTOoK"
   },
   "source": [
    "### Dataset\n",
    "\n",
    "The following cells have the dataset for the letters T and J on a 4x4 grid"
   ]
  },
  {
   "cell_type": "code",
   "execution_count": 3,
   "metadata": {
    "colab": {},
    "colab_type": "code",
    "collapsed": true,
    "id": "PezIkLj5lcwG"
   },
   "outputs": [],
   "source": [
    "# Assuming the follwing format\n",
    "\n",
    "# 0 is bias\n",
    "\n",
    "#   1    2   3   4\n",
    "#   5    6   7   8\n",
    "#   9   10  11  12\n",
    "#   13  14  15  16\n",
    "\n",
    "# We will have 4 T's and 4 J's \n",
    "t1 = [1, 1, 1, 1, -1, -1, 1, -1, -1, -1, 1, -1, -1, -1, 1, -1, -1]\n",
    "t2 = [1, -1, 1, 1, 1, -1, -1, 1, -1, -1, -1, 1, -1, -1, -1, 1, -1]\n",
    "t3 = [1, -1, -1, -1, -1, 1, -1, -1, -1, 1, 1, 1, 1, 1, -1, -1, -1]\n",
    "t4 = [1, 1, -1, -1, -1, 1, 1, 1, 1, 1, -1, -1, -1, -1, -1, -1, -1]\n",
    "j1 = [1, -1, -1, 1, -1, -1, -1, 1, -1, 1, -1, 1, -1, 1, 1, 1, -1]\n",
    "j2 = [1, -1, -1, -1, 1, -1, -1, -1, 1, -1, 1, -1, 1, -1, 1, 1, 1]\n",
    "j3 = [1, -1, -1, -1, -1, 1, 1, 1, 1, -1, -1, -1, 1, -1, -1, 1, 1]\n",
    "j4 = [1, 1, 1, 1, 1, -1, -1, -1, 1, -1, -1, 1, 1, -1, -1, -1, -1]"
   ]
  },
  {
   "cell_type": "code",
   "execution_count": 4,
   "metadata": {
    "colab": {},
    "colab_type": "code",
    "collapsed": true,
    "id": "ucj2W2XxlcwM"
   },
   "outputs": [],
   "source": [
    "training_data = [j1,t1,j2,t2,j3,t3,j4,t4]"
   ]
  },
  {
   "cell_type": "code",
   "execution_count": 5,
   "metadata": {
    "colab": {},
    "colab_type": "code",
    "collapsed": true,
    "id": "O4calUXTlcwS"
   },
   "outputs": [],
   "source": [
    "# Target Labels according the following convention\n",
    "# J = 1\n",
    "# T = -1\n",
    "labels = [1,-1,1,-1,1,-1,1,-1]"
   ]
  },
  {
   "cell_type": "markdown",
   "metadata": {
    "colab_type": "text",
    "id": "cxExDqXKTc3L"
   },
   "source": [
    "### Visualize Dataset"
   ]
  },
  {
   "cell_type": "code",
   "execution_count": 6,
   "metadata": {
    "colab": {},
    "colab_type": "code",
    "collapsed": true,
    "id": "MilMxziGlcwV"
   },
   "outputs": [],
   "source": [
    "# Making a list of coordinates for 4x4 grid\n",
    "coords = []\n",
    "j = 5\n",
    "i = 1\n",
    "while j>1:\n",
    "    while i<5:\n",
    "        coords.append([i,j])\n",
    "        i = i + 1\n",
    "    i = 1\n",
    "    j = j - 1"
   ]
  },
  {
   "cell_type": "code",
   "execution_count": 7,
   "metadata": {
    "colab": {},
    "colab_type": "code",
    "collapsed": true,
    "id": "d7taQjhylcwX"
   },
   "outputs": [],
   "source": [
    "def plot_alphabet(alphabet):\n",
    "    '''\n",
    "    This function plot the input alphabet on a 4x4 grid\n",
    "    \n",
    "    Parameters\n",
    "    ----------\n",
    "    alphabet : list of length 16 with {-1,1} as values\n",
    "    '''\n",
    "    fig = plt.figure()\n",
    "    ax = fig.add_subplot(1,1,1, xmargin=1, ymargin=1, xlim = (0,5), ylim = (1,6))\n",
    "    for i in range(1,17):\n",
    "        x,y=coords[i-1]\n",
    "        val=alphabet[i]\n",
    "        if val == 1:\n",
    "            ax.scatter(x,y,c='k')\n",
    "        else:\n",
    "            ax.scatter(x,y,c='y')\n",
    "    plt.show()"
   ]
  },
  {
   "cell_type": "code",
   "execution_count": 8,
   "metadata": {
    "colab": {
     "base_uri": "https://localhost:8080/",
     "height": 350
    },
    "colab_type": "code",
    "id": "k0Y0xTiPlcwa",
    "outputId": "4e1dd8e5-0fc7-4a03-a39f-c7302016c234"
   },
   "outputs": [
    {
     "data": {
      "image/png": "[encoded data removed]",
      "text/plain": [
       "<Figure size 432x288 with 1 Axes>"
      ]
     },
     "metadata": {},
     "output_type": "display_data"
    }
   ],
   "source": [
    "plot_alphabet(t3)"
   ]
  },
  {
   "cell_type": "code",
   "execution_count": 9,
   "metadata": {},
   "outputs": [
    {
     "data": {
      "image/png": "[encoded data removed]",
      "text/plain": [
       "<Figure size 432x288 with 1 Axes>"
      ]
     },
     "metadata": {},
     "output_type": "display_data"
    }
   ],
   "source": [
    "plot_alphabet(j1)"
   ]
  },
  {
   "cell_type": "markdown",
   "metadata": {
    "colab_type": "text",
    "id": "OyDzzw86Toia"
   },
   "source": [
    "### ADALINE Model"
   ]
  },
  {
   "cell_type": "code",
   "execution_count": 10,
   "metadata": {
    "colab": {},
    "colab_type": "code",
    "collapsed": true,
    "id": "jTac31JBlcwj"
   },
   "outputs": [],
   "source": [
    "def initialize_weights():\n",
    "    '''\n",
    "    This function is used to initialize random\n",
    "    values to the weights at the start\n",
    "    '''\n",
    "    weights = np.asarray(random.sample(range(-100,100),17))\n",
    "    #weights = np.zeros(17)\n",
    "    return weights/100"
   ]
  },
  {
   "cell_type": "code",
   "execution_count": 11,
   "metadata": {
    "colab": {},
    "colab_type": "code",
    "collapsed": true,
    "id": "NPbA4b_5lcwm"
   },
   "outputs": [],
   "source": [
    "learning_rate = 0.07"
   ]
  },
  {
   "cell_type": "code",
   "execution_count": 12,
   "metadata": {
    "colab": {},
    "colab_type": "code",
    "collapsed": true,
    "id": "wgt0TYHxlcwo"
   },
   "outputs": [],
   "source": [
    "# J = 1\n",
    "# T = -1\n",
    "def activation(z):\n",
    "    '''\n",
    "    This function defines the hardlim activation function\n",
    "    '''\n",
    "    if z>=0:\n",
    "        return 1\n",
    "    else:\n",
    "        return -1"
   ]
  },
  {
   "cell_type": "code",
   "execution_count": 13,
   "metadata": {
    "colab": {},
    "colab_type": "code",
    "collapsed": true,
    "id": "KwrZAsoklcwr"
   },
   "outputs": [],
   "source": [
    "def error(input,desired_output,weights):\n",
    "    '''\n",
    "    This is for the error(desired - predicted)\n",
    "    '''\n",
    "    input = np.asarray(input)\n",
    "    return (desired_output-activation(sum(input*weights)))"
   ]
  },
  {
   "cell_type": "code",
   "execution_count": 14,
   "metadata": {
    "colab": {},
    "colab_type": "code",
    "collapsed": true,
    "id": "hsRDcbY5lcwv"
   },
   "outputs": [],
   "source": [
    "def predict(input,weights):\n",
    "    '''\n",
    "    Predict based of the input and weights of the model\n",
    "    # J = 1\n",
    "    # T = -1\n",
    "    '''\n",
    "    input = np.asarray(input)\n",
    "    if activation(sum(input*weights))==1:\n",
    "        return 1\n",
    "    else:\n",
    "        return -1"
   ]
  },
  {
   "cell_type": "code",
   "execution_count": 15,
   "metadata": {
    "colab": {},
    "colab_type": "code",
    "collapsed": true,
    "id": "8GGomU83lcw0"
   },
   "outputs": [],
   "source": [
    "def accuracy(weights):\n",
    "    '''\n",
    "    This functions checks for training accuracy on the whole training data\n",
    "    \n",
    "    '''\n",
    "    correct = 0\n",
    "    for i in range(len(training_data)):\n",
    "        if labels[i]==predict(training_data[i],caseA_weights):\n",
    "            correct+=1\n",
    "    print(correct/len(training_data))"
   ]
  },
  {
   "cell_type": "code",
   "execution_count": 16,
   "metadata": {
    "colab": {},
    "colab_type": "code",
    "collapsed": true,
    "id": "n3-zRCQSnMzE"
   },
   "outputs": [],
   "source": [
    "def calc_squared_error(weights):\n",
    "    err_sum = 0\n",
    "    for i in range(len(training_data)):\n",
    "        err = error(training_data[i],labels[i],weights)\n",
    "        err_sum += err*err\n",
    "    return err_sum"
   ]
  },
  {
   "cell_type": "markdown",
   "metadata": {
    "colab_type": "text",
    "id": "mDGJipU0Vsg4"
   },
   "source": [
    "### Case A"
   ]
  },
  {
   "cell_type": "code",
   "execution_count": 17,
   "metadata": {
    "colab": {},
    "colab_type": "code",
    "collapsed": true,
    "id": "JxHsdIuAnByu"
   },
   "outputs": [],
   "source": [
    "# To record errors for iterations\n",
    "x_axisA = []\n",
    "y_axisA = []"
   ]
  },
  {
   "cell_type": "code",
   "execution_count": 18,
   "metadata": {
    "colab": {},
    "colab_type": "code",
    "collapsed": true,
    "id": "AVHPGpTblcw2"
   },
   "outputs": [],
   "source": [
    "def update_weight_caseA(input,desired_output,weights):\n",
    "    '''\n",
    "    This function updates weights assuming only one datapoint per iteration \n",
    "    to get a crude approximation for steepest gradient descent\n",
    "    '''\n",
    "    input = np.asarray(input)\n",
    "    err = error(input,desired_output,weights)\n",
    "    weights = weights + 2 * learning_rate * err * input\n",
    "    return weights"
   ]
  },
  {
   "cell_type": "code",
   "execution_count": 19,
   "metadata": {
    "colab": {},
    "colab_type": "code",
    "collapsed": true,
    "id": "ENDNtahKlcw6"
   },
   "outputs": [],
   "source": [
    "def train_caseA():\n",
    "    '''\n",
    "    Update weights till no change is observed \n",
    "    This function updates weight on each datapoint\n",
    "    '''\n",
    "    weights = initialize_weights()\n",
    "    print(\"initial = \",weights)\n",
    "    iteration = 0\n",
    "    while True:\n",
    "        new_weights = weights\n",
    "        for i in range(len(training_data)):\n",
    "            new_weights = update_weight_caseA(training_data[i],labels[i],new_weights)\n",
    "            y_axisA.append(calc_squared_error(new_weights))\n",
    "            x_axisA.append(iteration)\n",
    "            iteration+=1\n",
    "        \n",
    "        #break if no change in weights is there between two iterations\n",
    "        if sum(abs(x-y) for (x, y) in zip(weights, new_weights))==0:\n",
    "            break\n",
    "        weights = new_weights\n",
    "    print(\"final = \",weights)\n",
    "    return weights"
   ]
  },
  {
   "cell_type": "markdown",
   "metadata": {
    "colab_type": "text",
    "id": "SbSVumnNUkwB"
   },
   "source": [
    "**Training Model by by updating weights after iterating over each datapoint**"
   ]
  },
  {
   "cell_type": "code",
   "execution_count": 20,
   "metadata": {
    "colab": {
     "base_uri": "https://localhost:8080/",
     "height": 84
    },
    "colab_type": "code",
    "id": "MLTMVZdqlcw9",
    "outputId": "52041b7d-51d6-48d4-f52b-db42fcd0ce1b",
    "scrolled": true
   },
   "outputs": [
    {
     "name": "stdout",
     "output_type": "stream",
     "text": [
      "initial =  [-0.26  0.06 -0.34 -0.28  0.83  0.66  0.47  0.57  0.09  0.46  0.53  0.4\n",
      "  0.7  -0.85  0.68 -0.11 -0.66]\n",
      "final =  [ 0.3   0.06 -1.46  0.28  0.27 -0.46 -0.09  0.01  1.21  0.46 -0.03  0.4\n",
      "  1.82 -0.29  2.36  0.45 -0.1 ]\n"
     ]
    }
   ],
   "source": [
    "caseA_weights = train_caseA()"
   ]
  },
  {
   "cell_type": "code",
   "execution_count": 21,
   "metadata": {
    "colab": {
     "base_uri": "https://localhost:8080/",
     "height": 33
    },
    "colab_type": "code",
    "id": "KJSubK8PlcxB",
    "outputId": "73608260-ec53-4805-9f86-afc0b11b124b"
   },
   "outputs": [
    {
     "name": "stdout",
     "output_type": "stream",
     "text": [
      "1.0\n"
     ]
    }
   ],
   "source": [
    "accuracy(caseA_weights)"
   ]
  },
  {
   "cell_type": "markdown",
   "metadata": {
    "colab_type": "text",
    "id": "D3l9SP6iUze1"
   },
   "source": [
    "**Plot For CASE A**"
   ]
  },
  {
   "cell_type": "code",
   "execution_count": 22,
   "metadata": {
    "colab": {
     "base_uri": "https://localhost:8080/",
     "height": 376
    },
    "colab_type": "code",
    "id": "sgkN0btOnITA",
    "outputId": "45dac233-8d5e-4651-d0d9-b4a705a087e4"
   },
   "outputs": [
    {
     "data": {
      "image/png": "[encoded data removed]",
      "text/plain": [
       "<Figure size 432x288 with 1 Axes>"
      ]
     },
     "metadata": {},
     "output_type": "display_data"
    }
   ],
   "source": [
    "plt.title(\"ERROR vs ITERATIONS for iterative Descent\")\n",
    "plt.ylabel(\"MEAN SQUARE ERROR\")\n",
    "plt.xlabel(\"ITERATIONS\")\n",
    "plt.plot(x_axisA,y_axisA)\n",
    "plt.show()"
   ]
  },
  {
   "cell_type": "markdown",
   "metadata": {
    "colab_type": "text",
    "id": "ws0PPtXsVl5g"
   },
   "source": [
    "### Case B"
   ]
  },
  {
   "cell_type": "code",
   "execution_count": 23,
   "metadata": {
    "colab": {},
    "colab_type": "code",
    "collapsed": true,
    "id": "Zmgx6s2TlcxH"
   },
   "outputs": [],
   "source": [
    "# Needed to record erros at each iteration\n",
    "x_axisB = []\n",
    "y_axisB = []"
   ]
  },
  {
   "cell_type": "code",
   "execution_count": 24,
   "metadata": {
    "colab": {},
    "colab_type": "code",
    "collapsed": true,
    "id": "025NUwT4lcxL"
   },
   "outputs": [],
   "source": [
    "def update_weight_caseB(tr_data,tr_labels,weights):\n",
    "    '''\n",
    "    This function updates weight after a full burst of all \n",
    "    the datapoints in the tr_data by getting MSE and \n",
    "    calculating mean gradient.   \n",
    "    '''\n",
    "    gradient = np.zeros(len(weights))\n",
    "    err_sum = 0\n",
    "    for i in range(len(tr_data)):\n",
    "        tr_data[i] = np.asarray(tr_data[i])\n",
    "        err = error(tr_data[i],tr_labels[i],weights)\n",
    "        err_sum += err * err\n",
    "        gradient += err * tr_data[i]\n",
    "    y_axisB.append(err_sum)\n",
    "    gradient = gradient/len(tr_data)\n",
    "    weights += 2 * learning_rate * gradient\n",
    "    return weights"
   ]
  },
  {
   "cell_type": "code",
   "execution_count": 25,
   "metadata": {
    "colab": {},
    "colab_type": "code",
    "collapsed": true,
    "id": "8sWIvNJNlcxS"
   },
   "outputs": [],
   "source": [
    "def train_caseB(n):\n",
    "    '''\n",
    "    This function trains the model on the entire dataset for n epochs\n",
    "    \n",
    "    '''\n",
    "    weights = initialize_weights()\n",
    "    print(\"initial = \",weights)\n",
    "    iteration = 0\n",
    "    while iteration<n:\n",
    "        iteration+=1\n",
    "        new_weights = update_weight_caseB(training_data,labels,weights)\n",
    "        weights = new_weights\n",
    "        x_axisB.append(iteration-1)\n",
    "    print(\"final = \",weights)\n",
    "    return weights"
   ]
  },
  {
   "cell_type": "markdown",
   "metadata": {
    "colab_type": "text",
    "id": "d_A-CsmhVH8m"
   },
   "source": [
    "**Training Model by calculating mean gradient after bursting over whole dataset**"
   ]
  },
  {
   "cell_type": "code",
   "execution_count": 26,
   "metadata": {
    "colab": {
     "base_uri": "https://localhost:8080/",
     "height": 84
    },
    "colab_type": "code",
    "id": "aF4XGm5-lcxV",
    "outputId": "a9770da3-cb8b-421c-d7d4-4bad58a69f42"
   },
   "outputs": [
    {
     "name": "stdout",
     "output_type": "stream",
     "text": [
      "initial =  [ 0.03 -0.84  0.96  0.88  0.77 -0.74 -0.13  0.48 -0.37  0.1  -0.32  0.22\n",
      "  0.01 -0.68  0.18 -0.97  0.42]\n",
      "final =  [-0.04 -0.84  0.19  0.46  0.21 -0.39  0.08  0.41  0.12  0.52 -0.32 -0.06\n",
      "  0.5  -0.26  0.53 -0.97  0.84]\n"
     ]
    }
   ],
   "source": [
    "caseB_weights = train_caseB(25)"
   ]
  },
  {
   "cell_type": "code",
   "execution_count": 27,
   "metadata": {
    "colab": {
     "base_uri": "https://localhost:8080/",
     "height": 33
    },
    "colab_type": "code",
    "id": "_lZjLfUilcxY",
    "outputId": "d0187c93-f32b-4cc9-e9e7-94049bec930b"
   },
   "outputs": [
    {
     "name": "stdout",
     "output_type": "stream",
     "text": [
      "1.0\n"
     ]
    }
   ],
   "source": [
    "accuracy(caseB_weights)"
   ]
  },
  {
   "cell_type": "code",
   "execution_count": 28,
   "metadata": {
    "colab": {
     "base_uri": "https://localhost:8080/",
     "height": 376
    },
    "colab_type": "code",
    "id": "RDo0mZfUlcxc",
    "outputId": "d1942f06-be32-4a83-852b-5817f2de2dce"
   },
   "outputs": [
    {
     "data": {
      "image/png": "[encoded data removed]",
      "text/plain": [
       "<Figure size 432x288 with 1 Axes>"
      ]
     },
     "metadata": {},
     "output_type": "display_data"
    }
   ],
   "source": [
    "plt.title(\"ERROR vs ITERATIONS for FULL Batch Descent\")\n",
    "plt.ylabel(\"MEAN SQUARE ERROR\")\n",
    "plt.xlabel(\"ITERATIONS\")\n",
    "plt.plot(x_axisB,y_axisB)\n",
    "plt.show()"
   ]
  },
  {
   "cell_type": "markdown",
   "metadata": {
    "colab_type": "text",
    "id": "i1XzQAlBVvjO"
   },
   "source": [
    "### Case C\n",
    "\n",
    "Here we need to randomly select a batch from the training set and calculate the gradient over this small sample rather than the whole dataset. \n",
    "\n",
    "By doing this we may compromise on calculating the steepest path but can reduce the latency time for really large datasets"
   ]
  },
  {
   "cell_type": "code",
   "execution_count": 29,
   "metadata": {
    "colab": {},
    "colab_type": "code",
    "collapsed": true,
    "id": "yhAvSIA8lcxg"
   },
   "outputs": [],
   "source": [
    "# Needed to record erros at each iteration\n",
    "x_axisC = []\n",
    "y_axisC = []"
   ]
  },
  {
   "cell_type": "code",
   "execution_count": 30,
   "metadata": {
    "colab": {},
    "colab_type": "code",
    "collapsed": true,
    "id": "1bfx3BEdWZtw"
   },
   "outputs": [],
   "source": [
    "def update_weight_caseC(tr_data,tr_labels,weights):\n",
    "    '''\n",
    "    This function updates weight after a full burst of all \n",
    "    the datapoints in the tr_data(over here this can be a small sampled batch)\n",
    "    by getting MSE and \n",
    "    calculating mean gradient.   \n",
    "    '''\n",
    "    gradient = np.zeros(len(weights))\n",
    "    err_sum = 0\n",
    "    for i in range(len(tr_data)):\n",
    "        tr_data[i] = np.asarray(tr_data[i])\n",
    "        err = error(tr_data[i],tr_labels[i],weights)\n",
    "        err_sum += err * err\n",
    "        gradient += err * tr_data[i]\n",
    "    #print(err_sum)\n",
    "    y_axisC.append(err_sum)\n",
    "    gradient = gradient/len(tr_data)\n",
    "    weights += 2 * learning_rate * gradient\n",
    "    return weights"
   ]
  },
  {
   "cell_type": "code",
   "execution_count": 31,
   "metadata": {
    "colab": {},
    "colab_type": "code",
    "collapsed": true,
    "id": "Jbsb8g21WmKt"
   },
   "outputs": [],
   "source": [
    "def train_caseC(sample_ratio,n):\n",
    "    '''\n",
    "    This function trains the model on the a batch dataset for n epochs\n",
    "    \n",
    "    Parameters\n",
    "    -----------\n",
    "    n : number of epochs\n",
    "    sample_ratio : ratio (0,1] of the training set to be used for weight update for each epoch\n",
    "    \n",
    "    '''\n",
    "    weights = initialize_weights()\n",
    "    training_size = len(training_data)\n",
    "    \n",
    "    if sample_ratio >1 or sample_ratio < 0:\n",
    "      print(\"Sample Ratio exceeds limit\")\n",
    "      return\n",
    "    \n",
    "    sample_size = int(sample_ratio * training_size)\n",
    "    \n",
    "    print(\"initial = \",weights)\n",
    "    iteration = 0\n",
    "    while iteration<n:\n",
    "        \n",
    "        # sample a new traing set from the training dataset on each iteration\n",
    "        index_sampled = np.asarray(random.sample(range(0,training_size),sample_size))\n",
    "        tr_data = list(np.array(training_data)[index_sampled])\n",
    "        tr_labels = list(np.array(labels)[index_sampled])\n",
    "        \n",
    "        iteration+=1\n",
    "        new_weights = update_weight_caseC(tr_data,tr_labels,weights)\n",
    "        weights = new_weights\n",
    "        x_axisC.append(iteration-1)\n",
    "    print(\"final = \",weights)\n",
    "    return weights"
   ]
  },
  {
   "cell_type": "code",
   "execution_count": 32,
   "metadata": {
    "colab": {
     "base_uri": "https://localhost:8080/",
     "height": 84
    },
    "colab_type": "code",
    "id": "mLKUgOnuX1An",
    "outputId": "cc7db177-568a-48d8-cae8-42431d63eefd"
   },
   "outputs": [
    {
     "name": "stdout",
     "output_type": "stream",
     "text": [
      "initial =  [-0.13 -0.78 -0.68  0.88 -0.16 -0.5  -0.29 -0.69 -0.82 -0.6  -0.93  0.11\n",
      "  0.06  0.94  0.98  0.99  0.45]\n",
      "final =  [-0.06 -0.43 -0.75  0.81 -0.23 -0.43 -0.22 -1.04 -0.33 -0.67 -1.    0.04\n",
      "  0.55  0.87  0.91  0.64  0.52]\n"
     ]
    }
   ],
   "source": [
    "caseC_weights = train_caseC(0.5,50)"
   ]
  },
  {
   "cell_type": "code",
   "execution_count": 33,
   "metadata": {
    "colab": {
     "base_uri": "https://localhost:8080/",
     "height": 33
    },
    "colab_type": "code",
    "id": "tzGqGiuZaFmD",
    "outputId": "5e5b4002-3f04-4188-ba71-a73a6d8dfb71"
   },
   "outputs": [
    {
     "name": "stdout",
     "output_type": "stream",
     "text": [
      "1.0\n"
     ]
    }
   ],
   "source": [
    "accuracy(caseC_weights)"
   ]
  },
  {
   "cell_type": "code",
   "execution_count": 34,
   "metadata": {
    "colab": {
     "base_uri": "https://localhost:8080/",
     "height": 376
    },
    "colab_type": "code",
    "id": "JkJf9SdTaMkf",
    "outputId": "326bf2a7-be5e-4ad7-aad8-bdc1c6c668a0"
   },
   "outputs": [
    {
     "data": {
      "image/png": "[encoded data removed]",
      "text/plain": [
       "<Figure size 432x288 with 1 Axes>"
      ]
     },
     "metadata": {},
     "output_type": "display_data"
    }
   ],
   "source": [
    "plt.title(\"ERROR vs ITERATIONS for Batch Descent\")\n",
    "plt.ylabel(\"MEAN SQUARE ERROR\")\n",
    "plt.xlabel(\"ITERATIONS\")\n",
    "plt.plot(x_axisC,y_axisC)\n",
    "plt.show()"
   ]
  },
  {
   "cell_type": "code",
   "execution_count": 35,
   "metadata": {
    "colab": {
     "base_uri": "https://localhost:8080/",
     "height": 367
    },
    "colab_type": "code",
    "id": "cF4OPOpJaQCj",
    "outputId": "0f135ad8-ad9a-4715-c456-a100450d1f5d"
   },
   "outputs": [
    {
     "data": {
      "image/png": "[encoded data removed]",
      "text/plain": [
       "<Figure size 432x288 with 1 Axes>"
      ]
     },
     "metadata": {},
     "output_type": "display_data"
    },
    {
     "data": {
      "text/plain": [
       "1"
      ]
     },
     "execution_count": 35,
     "metadata": {},
     "output_type": "execute_result"
    }
   ],
   "source": [
    "test_t1 = [1,-1,1,1,-1,-1,1,-1,-1,-1,1,-1,-1,-1,1,-1,-1]\n",
    "plot_alphabet(test_t1)\n",
    "predict(test_t1,caseC_weights)"
   ]
  },
  {
   "cell_type": "code",
   "execution_count": 36,
   "metadata": {
    "colab": {
     "base_uri": "https://localhost:8080/",
     "height": 367
    },
    "colab_type": "code",
    "id": "c3LyiMy9yIMH",
    "outputId": "7329c73f-b2c9-4767-bdd7-f586e5607e9c"
   },
   "outputs": [
    {
     "data": {
      "image/png": "[encoded data removed]",
      "text/plain": [
       "<Figure size 432x288 with 1 Axes>"
      ]
     },
     "metadata": {},
     "output_type": "display_data"
    },
    {
     "data": {
      "text/plain": [
       "1"
      ]
     },
     "execution_count": 36,
     "metadata": {},
     "output_type": "execute_result"
    }
   ],
   "source": [
    "test_t2 = [1,1,1,1,-1,-1,1,-1,-1,-1,-1,-1,-1,-1,1,-1,-1]\n",
    "plot_alphabet(test_t2)\n",
    "predict(test_t2,caseC_weights)"
   ]
  },
  {
   "cell_type": "code",
   "execution_count": 37,
   "metadata": {
    "colab": {
     "base_uri": "https://localhost:8080/",
     "height": 367
    },
    "colab_type": "code",
    "id": "2dE3yIq2ya6E",
    "outputId": "8fc8964d-8652-4bd8-b21d-0db21e462064",
    "scrolled": false
   },
   "outputs": [
    {
     "data": {
      "image/png": "[encoded data removed]",
      "text/plain": [
       "<Figure size 432x288 with 1 Axes>"
      ]
     },
     "metadata": {},
     "output_type": "display_data"
    },
    {
     "data": {
      "text/plain": [
       "-1"
      ]
     },
     "execution_count": 37,
     "metadata": {},
     "output_type": "execute_result"
    }
   ],
   "source": [
    "test_t3 = [1,1,1,1,-1,-1,1,-1,-1,-1,-1,-1,-1,-1,-1,-1,-1]\n",
    "plot_alphabet(test_t3)\n",
    "predict(test_t3,caseC_weights)"
   ]
  },
  {
   "cell_type": "markdown",
   "metadata": {},
   "source": [
    "# TEST YOUR DATA"
   ]
  },
  {
   "cell_type": "markdown",
   "metadata": {},
   "source": [
    "### Execute the cell below, and click on those cells on the grid which you wish to mark. Once you are done, close the window and execute the next cell to see what alphabet you entered"
   ]
  },
  {
   "cell_type": "code",
   "execution_count": 38,
   "metadata": {
    "colab": {},
    "colab_type": "code",
    "id": "mtQcxhN4yoQj"
   },
   "outputs": [
    {
     "name": "stdout",
     "output_type": "stream",
     "text": [
      "[1, -1, -1, -1, -1, -1, 1, 1, 1, -1, -1, 1, -1, -1, -1, 1, -1]\n"
     ]
    }
   ],
   "source": [
    "from tkinter import *\n",
    "\n",
    "x=[]\n",
    "x=[-1 for i in range(0,16)]\n",
    "def doSomething(row,column):\n",
    "\tx[row*4 +column] = 1\n",
    "\n",
    "#Create & Configure root \n",
    "root = Tk()\n",
    "Grid.rowconfigure(root, 0, weight=1)\n",
    "Grid.columnconfigure(root, 0, weight=1)\n",
    "\n",
    "#Create & Configure frame \n",
    "frame=Frame(root)\n",
    "frame.grid(row=0, column=0, sticky=N+S+E+W)\n",
    "\n",
    "#Create a 5x10 (rows x columns) grid of buttons inside the frame\n",
    "for row_index in range(4):\n",
    "    Grid.rowconfigure(frame, row_index, weight=1)\n",
    "    for col_index in range(4):\n",
    "        Grid.columnconfigure(frame, col_index, weight=1)\n",
    "        btn = Button(frame,command=lambda row=row_index, column=col_index: doSomething(row, column)) #create a button inside frame \n",
    "        btn.grid(row=row_index, column=col_index, sticky=N+S+E+W)  \n",
    "\n",
    "root.mainloop()\n",
    "\n",
    "x.insert(0,1)\n",
    "print(x)"
   ]
  },
  {
   "cell_type": "code",
   "execution_count": 39,
   "metadata": {},
   "outputs": [
    {
     "data": {
      "image/png": "[encoded data removed]",
      "text/plain": [
       "<Figure size 432x288 with 1 Axes>"
      ]
     },
     "metadata": {},
     "output_type": "display_data"
    }
   ],
   "source": [
    "plot_alphabet(x)\n"
   ]
  },
  {
   "cell_type": "markdown",
   "metadata": {},
   "source": [
    "-1 : T , 1 : J"
   ]
  },
  {
   "cell_type": "markdown",
   "metadata": {},
   "source": [
    "### Comment out the appropriate lines regarding the weights you would like to use for testing"
   ]
  },
  {
   "cell_type": "code",
   "execution_count": 40,
   "metadata": {},
   "outputs": [
    {
     "data": {
      "text/plain": [
       "-1"
      ]
     },
     "execution_count": 40,
     "metadata": {},
     "output_type": "execute_result"
    }
   ],
   "source": [
    "predict(x,caseA_weights)\n",
    "#predict(x,caseB_weights)\n",
    "#predict(x,caseC_weights)"
   ]
  },
  {
   "cell_type": "code",
   "execution_count": null,
   "metadata": {
    "collapsed": true
   },
   "outputs": [],
   "source": []
  }
 ],
 "metadata": {
  "colab": {
   "collapsed_sections": [],
   "name": "adaline.ipynb",
   "provenance": [],
   "version": "0.3.2"
  },
  "kernelspec": {
   "display_name": "Python 3",
   "language": "python",
   "name": "python3"
  },
  "language_info": {
   "codemirror_mode": {
    "name": "ipython",
    "version": 3
   },
   "file_extension": ".py",
   "mimetype": "text/x-python",
   "name": "python",
   "nbconvert_exporter": "python",
   "pygments_lexer": "ipython3",
   "version": "3.6.8"
  }
 },
 "nbformat": 4,
 "nbformat_minor": 1
}
